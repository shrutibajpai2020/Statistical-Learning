{
 "cells": [
  {
   "cell_type": "markdown",
   "metadata": {},
   "source": [
    "## Homework Exercise: Shruti Bajpai\n",
    "\n",
    "1. Exercise 3 (p.198, Chap.5)\n",
    "2. Exercise 8 (p.200, Chap.5)\n",
    "3. Exercise 1 (p.259, Chap.6)\n",
    "4. Exercise 9 (p.263, Chap.6)\n",
    "5. Exercise 9 (p.299, Chap.7)\n",
    "6. Exercise 10 (p.300, Chap.7)"
   ]
  },
  {
   "cell_type": "markdown",
   "metadata": {},
   "source": [
    "### Q1) Chapter 5 Exercise 3\n",
    "\n",
    "#### We now review k-fold cross-validation"
   ]
  },
  {
   "cell_type": "markdown",
   "metadata": {},
   "source": [
    "##### (a) Explain how k-fold cross-validation is implemented."
   ]
  },
  {
   "cell_type": "markdown",
   "metadata": {},
   "source": [
    "K-folds simply divides the data into equal sets; it takes the first set as a validation set and then k - 1 (or all the other groups) are fitted on to obtain the Mean Square Error (MSE). This procedure is repeated k times, each time with a new validation set not previously tested, so that each set is compared to each other eventually and one can receive an estimated test error rate. Typically k = 10 is the average a dataset has been divided into; while useful and thorough, this does make it computationally expensive to compare each set to each other. "
   ]
  },
  {
   "cell_type": "markdown",
   "metadata": {},
   "source": [
    "##### (b) What are the advantages and disadvantages of k-fold crossvalidation relative to:\n",
    "###### i. The validation set approach?\n",
    "The validation approach helps to estimate the errors for a test set with a specific set of observations by splitting the dataset into two parts - training and validation sets. The training model is fitted and then used to fit the validation test set, which results in certain observations not meeting the threshold and serving as outliers as a result of not fitting within the required parameters. This creates a mean-square error and allows to see the test error rates; simple enough to execute, but the test error rate can drastically change depending on which variables were taken into account for the training and validation sets. Additionally, the training set is not an indicator of the entire dataset; only a subset of the observations are included in the training rather than the validation, which means that the training may overestimate the test error rate. \n",
    "\n",
    "###### ii. LOOCV?\n",
    "This approach is quite similar to the validation approach, but in hopes of reducing overestimation on the test error rates. Similar to the validation approach, the LOOCV does split training and test, but only uses one observation for training and the rest are created as part of the observations for test. In essence, if there are x number of observations, it takes out x - 1 observations and creates this as the train to compare against the validation set. This is repeated several times to provide overall effectiveness and compare on a 1 on 1 level. The main idea to note though is that the total possible combinations must be the same as the original number of data points in the sample (or x). Again though, this process is quite a lengthy one and can take time"
   ]
  },
  {
   "cell_type": "markdown",
   "metadata": {},
   "source": [
    "### Q2) Chapter 5 Exercise 8\n",
    "\n",
    "#### We will now perform cross-validation on a simulated data set"
   ]
  },
  {
   "cell_type": "markdown",
   "metadata": {},
   "source": [
    "##### (a) Generate a simulated data set as follows: In this data set, what is n and what is p? Write out the model used to generate the data in equation form"
   ]
  },
  {
   "cell_type": "code",
   "execution_count": 2,
   "metadata": {},
   "outputs": [],
   "source": [
    "set.seed(1)\n",
    "x=rnorm(100)\n",
    "y=x-2*x^2+rnorm (100)"
   ]
  },
  {
   "cell_type": "markdown",
   "metadata": {},
   "source": [
    "n = 100, p = 2\n",
    "\n",
    "Y = X − 2X^2 + ϵ"
   ]
  },
  {
   "cell_type": "markdown",
   "metadata": {},
   "source": [
    "##### (b) Create a scatterplot of X against Y . Comment on what you find"
   ]
  },
  {
   "cell_type": "code",
   "execution_count": 9,
   "metadata": {},
   "outputs": [
    {
     "data": {
      "image/png": "[encoded data removed]",
      "text/plain": [
       "Plot with title \"Scatterplot\""
      ]
     },
     "metadata": {},
     "output_type": "display_data"
    }
   ],
   "source": [
    "plot(x, y, main=\"Scatterplot\")"
   ]
  },
  {
   "cell_type": "markdown",
   "metadata": {},
   "source": [
    "###### (c) Set a random seed, and then compute the LOOCV errors that result from fitting the following four models using least squares:\n",
    "###### i. Y = β0 + β1X + ϵ "
   ]
  },
  {
   "cell_type": "code",
   "execution_count": 20,
   "metadata": {},
   "outputs": [
    {
     "data": {
      "text/html": [
       "<ol class=list-inline>\n",
       "\t<li>7.28816160667281</li>\n",
       "\t<li>7.28474411546929</li>\n",
       "</ol>\n"
      ],
      "text/latex": [
       "\\begin{enumerate*}\n",
       "\\item 7.28816160667281\n",
       "\\item 7.28474411546929\n",
       "\\end{enumerate*}\n"
      ],
      "text/markdown": [
       "1. 7.28816160667281\n",
       "2. 7.28474411546929\n",
       "\n",
       "\n"
      ],
      "text/plain": [
       "[1] 7.288162 7.284744"
      ]
     },
     "metadata": {},
     "output_type": "display_data"
    }
   ],
   "source": [
    "library(boot)\n",
    "Data = data.frame(x, y)\n",
    "set.seed(1)\n",
    "glm.fit=glm(y ∼ x)\n",
    "cv.glm(Data, glm.fit)$delta"
   ]
  },
  {
   "cell_type": "markdown",
   "metadata": {},
   "source": [
    "###### ii. Y = β0 + β1X + β2X2 + ϵ"
   ]
  },
  {
   "cell_type": "code",
   "execution_count": 21,
   "metadata": {},
   "outputs": [
    {
     "data": {
      "text/html": [
       "<ol class=list-inline>\n",
       "\t<li>0.937423637615552</li>\n",
       "\t<li>0.937178917181123</li>\n",
       "</ol>\n"
      ],
      "text/latex": [
       "\\begin{enumerate*}\n",
       "\\item 0.937423637615552\n",
       "\\item 0.937178917181123\n",
       "\\end{enumerate*}\n"
      ],
      "text/markdown": [
       "1. 0.937423637615552\n",
       "2. 0.937178917181123\n",
       "\n",
       "\n"
      ],
      "text/plain": [
       "[1] 0.9374236 0.9371789"
      ]
     },
     "metadata": {},
     "output_type": "display_data"
    }
   ],
   "source": [
    "glm.fit = glm(y ~ poly(x, 2))\n",
    "cv.glm(Data, glm.fit)$delta"
   ]
  },
  {
   "cell_type": "markdown",
   "metadata": {},
   "source": [
    "###### iii. Y = β0 + β1X + β2X2 + β3X3 + ϵ"
   ]
  },
  {
   "cell_type": "code",
   "execution_count": 22,
   "metadata": {},
   "outputs": [
    {
     "data": {
      "text/html": [
       "<ol class=list-inline>\n",
       "\t<li>0.956621830108939</li>\n",
       "\t<li>0.956253813731321</li>\n",
       "</ol>\n"
      ],
      "text/latex": [
       "\\begin{enumerate*}\n",
       "\\item 0.956621830108939\n",
       "\\item 0.956253813731321\n",
       "\\end{enumerate*}\n"
      ],
      "text/markdown": [
       "1. 0.956621830108939\n",
       "2. 0.956253813731321\n",
       "\n",
       "\n"
      ],
      "text/plain": [
       "[1] 0.9566218 0.9562538"
      ]
     },
     "metadata": {},
     "output_type": "display_data"
    }
   ],
   "source": [
    "glm.fit = glm(y ~ poly(x, 3))\n",
    "cv.glm(Data, glm.fit)$delta"
   ]
  },
  {
   "cell_type": "markdown",
   "metadata": {},
   "source": [
    "###### iv. Y = β0 + β1X + β2X2 + β3X3 + β4X4 + ϵ"
   ]
  },
  {
   "cell_type": "code",
   "execution_count": 23,
   "metadata": {},
   "outputs": [
    {
     "data": {
      "text/html": [
       "<ol class=list-inline>\n",
       "\t<li>0.953904892744804</li>\n",
       "\t<li>0.953445283156601</li>\n",
       "</ol>\n"
      ],
      "text/latex": [
       "\\begin{enumerate*}\n",
       "\\item 0.953904892744804\n",
       "\\item 0.953445283156601\n",
       "\\end{enumerate*}\n"
      ],
      "text/markdown": [
       "1. 0.953904892744804\n",
       "2. 0.953445283156601\n",
       "\n",
       "\n"
      ],
      "text/plain": [
       "[1] 0.9539049 0.9534453"
      ]
     },
     "metadata": {},
     "output_type": "display_data"
    }
   ],
   "source": [
    "glm.fit = glm(y ~ poly(x, 4))\n",
    "cv.glm(Data, glm.fit)$delta"
   ]
  },
  {
   "cell_type": "markdown",
   "metadata": {},
   "source": [
    "##### (d) Repeat (c) using another random seed, and report your results. Are your results the same as what you got in (c)? Why?"
   ]
  },
  {
   "cell_type": "markdown",
   "metadata": {},
   "source": [
    "Results didn't change since the evaluation was for n folds of a single observation and that didn't change."
   ]
  },
  {
   "cell_type": "code",
   "execution_count": 28,
   "metadata": {},
   "outputs": [
    {
     "data": {
      "text/html": [
       "<ol class=list-inline>\n",
       "\t<li>7.28816160667281</li>\n",
       "\t<li>7.2847441154693</li>\n",
       "</ol>\n"
      ],
      "text/latex": [
       "\\begin{enumerate*}\n",
       "\\item 7.28816160667281\n",
       "\\item 7.2847441154693\n",
       "\\end{enumerate*}\n"
      ],
      "text/markdown": [
       "1. 7.28816160667281\n",
       "2. 7.2847441154693\n",
       "\n",
       "\n"
      ],
      "text/plain": [
       "[1] 7.288162 7.284744"
      ]
     },
     "metadata": {},
     "output_type": "display_data"
    },
    {
     "data": {
      "text/html": [
       "<ol class=list-inline>\n",
       "\t<li>0.937423637615552</li>\n",
       "\t<li>0.937178917181123</li>\n",
       "</ol>\n"
      ],
      "text/latex": [
       "\\begin{enumerate*}\n",
       "\\item 0.937423637615552\n",
       "\\item 0.937178917181123\n",
       "\\end{enumerate*}\n"
      ],
      "text/markdown": [
       "1. 0.937423637615552\n",
       "2. 0.937178917181123\n",
       "\n",
       "\n"
      ],
      "text/plain": [
       "[1] 0.9374236 0.9371789"
      ]
     },
     "metadata": {},
     "output_type": "display_data"
    },
    {
     "data": {
      "text/html": [
       "<ol class=list-inline>\n",
       "\t<li>0.956621830108939</li>\n",
       "\t<li>0.95625381373132</li>\n",
       "</ol>\n"
      ],
      "text/latex": [
       "\\begin{enumerate*}\n",
       "\\item 0.956621830108939\n",
       "\\item 0.95625381373132\n",
       "\\end{enumerate*}\n"
      ],
      "text/markdown": [
       "1. 0.956621830108939\n",
       "2. 0.95625381373132\n",
       "\n",
       "\n"
      ],
      "text/plain": [
       "[1] 0.9566218 0.9562538"
      ]
     },
     "metadata": {},
     "output_type": "display_data"
    },
    {
     "data": {
      "text/html": [
       "<ol class=list-inline>\n",
       "\t<li>0.953904892744804</li>\n",
       "\t<li>0.953445283156601</li>\n",
       "</ol>\n"
      ],
      "text/latex": [
       "\\begin{enumerate*}\n",
       "\\item 0.953904892744804\n",
       "\\item 0.953445283156601\n",
       "\\end{enumerate*}\n"
      ],
      "text/markdown": [
       "1. 0.953904892744804\n",
       "2. 0.953445283156601\n",
       "\n",
       "\n"
      ],
      "text/plain": [
       "[1] 0.9539049 0.9534453"
      ]
     },
     "metadata": {},
     "output_type": "display_data"
    }
   ],
   "source": [
    "Data2 = data.frame(x, y)\n",
    "set.seed(100)\n",
    "# i.\n",
    "glm.fit = glm(y ~ x)\n",
    "cv.glm(Data2, glm.fit)$delta\n",
    "\n",
    "#ii.\n",
    "glm.fit = glm(y ~ poly(x, 2))\n",
    "cv.glm(Data2, glm.fit)$delta\n",
    "\n",
    "#iii.\n",
    "glm.fit = glm(y ~ poly(x, 3))\n",
    "cv.glm(Data2, glm.fit)$delta\n",
    "\n",
    "#iv. \n",
    "glm.fit = glm(y ~ poly(x, 4))\n",
    "cv.glm(Data2, glm.fit)$delta"
   ]
  },
  {
   "cell_type": "markdown",
   "metadata": {},
   "source": [
    "##### (e) Which of the models in (c) had the smallest LOOCV error? Is this what you expected? Explain your answer"
   ]
  },
  {
   "cell_type": "markdown",
   "metadata": {},
   "source": [
    "The model with a polynomial (Y = β0 + β1X + β2X2 + β3X3 + ϵ) has the smallest LOOCV error. I am not sure exactly why this is because I would've expected the quadratic equation to have the lowest error due to the way it reflects Y."
   ]
  },
  {
   "cell_type": "markdown",
   "metadata": {},
   "source": [
    "##### (f) Comment on the statistical significance of the coefficient estimates that results from fitting each of the models in (c) using least squares. Do these results agree with the conclusions drawn based on the cross-validation results?"
   ]
  },
  {
   "cell_type": "markdown",
   "metadata": {},
   "source": [
    "These are similar to the last two results of the polynomial (β3X3) results and β4X4 (quandratic equation) and do show a statistical significance for p < 0.05"
   ]
  },
  {
   "cell_type": "code",
   "execution_count": 29,
   "metadata": {},
   "outputs": [
    {
     "data": {
      "text/plain": [
       "\n",
       "Call:\n",
       "glm(formula = y ~ poly(x, 4))\n",
       "\n",
       "Deviance Residuals: \n",
       "    Min       1Q   Median       3Q      Max  \n",
       "-2.0550  -0.6212  -0.1567   0.5952   2.2267  \n",
       "\n",
       "Coefficients:\n",
       "             Estimate Std. Error t value Pr(>|t|)    \n",
       "(Intercept)  -1.55002    0.09591 -16.162  < 2e-16 ***\n",
       "poly(x, 4)1   6.18883    0.95905   6.453 4.59e-09 ***\n",
       "poly(x, 4)2 -23.94830    0.95905 -24.971  < 2e-16 ***\n",
       "poly(x, 4)3   0.26411    0.95905   0.275    0.784    \n",
       "poly(x, 4)4   1.25710    0.95905   1.311    0.193    \n",
       "---\n",
       "Signif. codes:  0 '***' 0.001 '**' 0.01 '*' 0.05 '.' 0.1 ' ' 1\n",
       "\n",
       "(Dispersion parameter for gaussian family taken to be 0.9197797)\n",
       "\n",
       "    Null deviance: 700.852  on 99  degrees of freedom\n",
       "Residual deviance:  87.379  on 95  degrees of freedom\n",
       "AIC: 282.3\n",
       "\n",
       "Number of Fisher Scoring iterations: 2\n"
      ]
     },
     "metadata": {},
     "output_type": "display_data"
    }
   ],
   "source": [
    "summary(glm.fit)"
   ]
  },
  {
   "cell_type": "markdown",
   "metadata": {},
   "source": [
    "### Q3) Chapter 6 Exercise 1"
   ]
  },
  {
   "cell_type": "markdown",
   "metadata": {},
   "source": [
    "#### 1. We perform best subset, forward stepwise, and backward stepwise selection on a single data set. For each approach, we obtain p + 1 models, containing 0, 1, 2,...,p predictors. Explain your answers:"
   ]
  },
  {
   "cell_type": "markdown",
   "metadata": {},
   "source": [
    "##### (a) Which of the three models with k predictors has the smallest training RSS?"
   ]
  },
  {
   "cell_type": "markdown",
   "metadata": {},
   "source": [
    "I believe that best subset selection will have the smallest training RSS given forward stepwise and backward stepwise have dependencies for their predictors where the first variable is picked and iterated to the k'th model."
   ]
  },
  {
   "cell_type": "markdown",
   "metadata": {},
   "source": [
    "#### (b) Which of the three models with k predictors has the smallest test RSS?"
   ]
  },
  {
   "cell_type": "markdown",
   "metadata": {},
   "source": [
    "Forward and backward stepwise have better RSS than best subset selection given their focus is on the training set."
   ]
  },
  {
   "cell_type": "markdown",
   "metadata": {},
   "source": [
    "#### (c) True or False:\n",
    "##### i. The predictors in the k-variable model identified by forward stepwise are a subset of the predictors in the (k+1)-variable model identified by forward stepwise selection.\n",
    "\n",
    "i. True\n",
    "\n",
    "##### ii. The predictors in the k-variable model identified by backward stepwise are a subset of the predictors in the (k + 1)- variable model identified by backward stepwise selection.\n",
    "\n",
    "ii. True\n",
    "\n",
    "\n",
    "##### iii. The predictors in the k-variable model identified by backward stepwise are a subset of the predictors in the (k + 1)-variable model identified by forward stepwise selection.\n",
    "\n",
    "iii. False\n",
    "\n",
    "\n",
    "##### iv. The predictors in the k-variable model identified by forward stepwise are a subset of the predictors in the (k+1)-variable model identified by backward stepwise selection.\n",
    "\n",
    "\n",
    "iv. False\n",
    "\n",
    "\n",
    "##### v. The predictors in the k-variable model identified by best subset are a subset of the predictors in the (k + 1)-variable model identified by best subset selection.\n",
    "\n",
    "\n",
    "v. False"
   ]
  },
  {
   "cell_type": "markdown",
   "metadata": {},
   "source": [
    "### Q3) Chapter 6 Exercise 9\n",
    "\n",
    "#### In this exercise, we will predict the number of applications received using the other variables in the College data set."
   ]
  },
  {
   "cell_type": "markdown",
   "metadata": {},
   "source": [
    "##### a) Split the data set into a training set and a test set."
   ]
  },
  {
   "cell_type": "code",
   "execution_count": 40,
   "metadata": {},
   "outputs": [
    {
     "data": {
      "text/html": [
       "<table>\n",
       "<thead><tr><th></th><th scope=col>Private</th><th scope=col>Apps</th><th scope=col>Accept</th><th scope=col>Enroll</th><th scope=col>Top10perc</th><th scope=col>Top25perc</th><th scope=col>F.Undergrad</th><th scope=col>P.Undergrad</th><th scope=col>Outstate</th><th scope=col>Room.Board</th><th scope=col>Books</th><th scope=col>Personal</th><th scope=col>PhD</th><th scope=col>Terminal</th><th scope=col>S.F.Ratio</th><th scope=col>perc.alumni</th><th scope=col>Expend</th><th scope=col>Grad.Rate</th></tr></thead>\n",
       "<tbody>\n",
       "\t<tr><th scope=row>William Jewell College</th><td>Yes  </td><td>  663</td><td> 547 </td><td> 315 </td><td>32   </td><td>67   </td><td> 1279</td><td>  75 </td><td>10060</td><td>2970 </td><td> 500 </td><td>2600 </td><td>74   </td><td>80   </td><td>11.2 </td><td>19   </td><td> 7885</td><td>59   </td></tr>\n",
       "\t<tr><th scope=row>Baker University</th><td>Yes  </td><td>  602</td><td> 483 </td><td> 206 </td><td>21   </td><td>47   </td><td>  958</td><td> 466 </td><td> 8620</td><td>4100 </td><td> 400 </td><td>2250 </td><td>58   </td><td>68   </td><td>11.0 </td><td>21   </td><td> 6136</td><td>65   </td></tr>\n",
       "\t<tr><th scope=row>University of West Florida</th><td>No   </td><td> 1558</td><td>1254 </td><td> 472 </td><td>20   </td><td>57   </td><td> 3754</td><td>2477 </td><td> 6172</td><td>3994 </td><td> 541 </td><td>1387 </td><td>83   </td><td>87   </td><td>23.4 </td><td>12   </td><td> 8488</td><td>53   </td></tr>\n",
       "\t<tr><th scope=row>Columbia College</th><td>Yes  </td><td>  737</td><td> 614 </td><td> 242 </td><td>21   </td><td>67   </td><td>  968</td><td> 237 </td><td>10425</td><td>3975 </td><td> 500 </td><td>1500 </td><td>61   </td><td>77   </td><td>14.7 </td><td>34   </td><td> 8693</td><td>76   </td></tr>\n",
       "\t<tr><th scope=row>Christopher Newport University</th><td>No   </td><td>  883</td><td> 766 </td><td> 428 </td><td> 3   </td><td>37   </td><td> 2910</td><td>1749 </td><td> 7860</td><td>4750 </td><td> 525 </td><td>1889 </td><td>80   </td><td>82   </td><td>21.2 </td><td>16   </td><td> 4639</td><td>48   </td></tr>\n",
       "\t<tr><th scope=row>St. Martin's College</th><td>Yes  </td><td>  191</td><td> 165 </td><td>  63 </td><td> 5   </td><td>25   </td><td>  494</td><td> 574 </td><td>11550</td><td>4270 </td><td> 300 </td><td> 500 </td><td>43   </td><td>77   </td><td>14.5 </td><td> 8   </td><td> 9209</td><td>40   </td></tr>\n",
       "\t<tr><th scope=row>SUNY College at Plattsburgh</th><td>No   </td><td> 5549</td><td>3583 </td><td> 853 </td><td> 9   </td><td>40   </td><td> 5004</td><td> 475 </td><td> 6550</td><td>4176 </td><td> 600 </td><td>1380 </td><td>80   </td><td>90   </td><td>17.9 </td><td>16   </td><td> 6174</td><td>65   </td></tr>\n",
       "\t<tr><th scope=row>Milwaukee School of Engineering</th><td>Yes  </td><td> 1217</td><td>1088 </td><td> 496 </td><td>36   </td><td>69   </td><td> 1773</td><td> 884 </td><td>11505</td><td>3255 </td><td>1000 </td><td>2075 </td><td>35   </td><td>46   </td><td>16.7 </td><td>23   </td><td> 7140</td><td>67   </td></tr>\n",
       "\t<tr><th scope=row>Fresno Pacific College</th><td>Yes  </td><td>  346</td><td> 274 </td><td> 146 </td><td>51   </td><td>87   </td><td>  704</td><td>  63 </td><td> 9900</td><td>3670 </td><td> 630 </td><td>1818 </td><td>59   </td><td>59   </td><td>10.5 </td><td>14   </td><td> 8095</td><td>54   </td></tr>\n",
       "\t<tr><th scope=row>Furman University</th><td>Yes  </td><td> 2161</td><td>1951 </td><td> 685 </td><td>56   </td><td>82   </td><td> 2371</td><td> 175 </td><td>13440</td><td>4048 </td><td> 600 </td><td>1250 </td><td>92   </td><td>95   </td><td>13.5 </td><td>28   </td><td>12940</td><td>82   </td></tr>\n",
       "\t<tr><th scope=row>Bowling Green State University</th><td>No   </td><td> 9251</td><td>7333 </td><td>3076 </td><td>14   </td><td>45   </td><td>13699</td><td>1213 </td><td> 7452</td><td>3352 </td><td> 600 </td><td>1700 </td><td>81   </td><td>89   </td><td>21.1 </td><td>14   </td><td> 6918</td><td>67   </td></tr>\n",
       "\t<tr><th scope=row>Rockhurst College</th><td>Yes  </td><td>  935</td><td> 858 </td><td> 345 </td><td>22   </td><td>50   </td><td> 1127</td><td> 754 </td><td> 9490</td><td>4100 </td><td> 500 </td><td>1500 </td><td>60   </td><td>79   </td><td>10.7 </td><td>21   </td><td> 7519</td><td>79   </td></tr>\n",
       "\t<tr><th scope=row>Wellesley College</th><td>Yes  </td><td> 2895</td><td>1249 </td><td> 579 </td><td>80   </td><td>96   </td><td> 2195</td><td> 156 </td><td>18345</td><td>5995 </td><td> 500 </td><td> 700 </td><td>94   </td><td>98   </td><td>10.6 </td><td>51   </td><td>21409</td><td>91   </td></tr>\n",
       "\t<tr><th scope=row>Denison University</th><td>Yes  </td><td> 2762</td><td>2279 </td><td> 533 </td><td>32   </td><td>60   </td><td> 1835</td><td>  14 </td><td>16900</td><td>4720 </td><td> 500 </td><td> 600 </td><td>88   </td><td>97   </td><td>11.6 </td><td>45   </td><td>12423</td><td>81   </td></tr>\n",
       "\t<tr><th scope=row>Castleton State College</th><td>No   </td><td> 1257</td><td> 940 </td><td> 363 </td><td> 9   </td><td>22   </td><td> 1547</td><td> 294 </td><td> 7656</td><td>4690 </td><td> 400 </td><td> 700 </td><td>89   </td><td>91   </td><td>14.7 </td><td> 8   </td><td> 6318</td><td>79   </td></tr>\n",
       "\t<tr><th scope=row>Western Washington University</th><td>No   </td><td> 5548</td><td>3563 </td><td>1549 </td><td>30   </td><td>71   </td><td> 8909</td><td> 506 </td><td> 8124</td><td>4144 </td><td> 639 </td><td>2385 </td><td>83   </td><td>89   </td><td>22.7 </td><td>10   </td><td> 7203</td><td>61   </td></tr>\n",
       "\t<tr><th scope=row>Barry University</th><td>Yes  </td><td>  990</td><td> 784 </td><td> 279 </td><td>18   </td><td>45   </td><td> 1811</td><td>3144 </td><td>11290</td><td>5360 </td><td> 600 </td><td>1800 </td><td>76   </td><td>78   </td><td>12.6 </td><td>11   </td><td> 9084</td><td>72   </td></tr>\n",
       "\t<tr><th scope=row>Stetson University</th><td>Yes  </td><td> 1557</td><td>1227 </td><td> 489 </td><td>37   </td><td>69   </td><td> 1964</td><td>  81 </td><td>12315</td><td>4565 </td><td> 600 </td><td>1365 </td><td>85   </td><td>90   </td><td>12.5 </td><td>24   </td><td>10307</td><td>73   </td></tr>\n",
       "\t<tr><th scope=row>Kansas Wesleyan University</th><td>Yes  </td><td>  589</td><td> 575 </td><td> 148 </td><td>16   </td><td>40   </td><td>  474</td><td> 258 </td><td> 8400</td><td>3250 </td><td> 500 </td><td>1400 </td><td>63   </td><td>55   </td><td>12.4 </td><td>14   </td><td> 6535</td><td>68   </td></tr>\n",
       "\t<tr><th scope=row>Ohio University</th><td>No   </td><td>11023</td><td>8298 </td><td>3183 </td><td>21   </td><td>54   </td><td>14861</td><td>1310 </td><td> 7629</td><td>4095 </td><td> 550 </td><td>2300 </td><td>79   </td><td>87   </td><td>20.4 </td><td>13   </td><td> 8811</td><td>64   </td></tr>\n",
       "\t<tr><th scope=row>Stockton College of New Jersey</th><td>No   </td><td> 4019</td><td>1579 </td><td> 710 </td><td>23   </td><td>65   </td><td> 4365</td><td> 765 </td><td> 3040</td><td>4351 </td><td> 711 </td><td>1125 </td><td>78   </td><td>92   </td><td>19.5 </td><td> 7   </td><td> 5599</td><td>64   </td></tr>\n",
       "\t<tr><th scope=row>Willamette University</th><td>Yes  </td><td> 1658</td><td>1327 </td><td> 395 </td><td>49   </td><td>80   </td><td> 1595</td><td> 159 </td><td>14800</td><td>4620 </td><td> 400 </td><td> 790 </td><td>91   </td><td>94   </td><td>13.3 </td><td>37   </td><td>10779</td><td>68   </td></tr>\n",
       "\t<tr><th scope=row>Albertson College</th><td>Yes  </td><td>  587</td><td> 479 </td><td> 158 </td><td>38   </td><td>62   </td><td>  678</td><td>  41 </td><td>13500</td><td>3335 </td><td> 500 </td><td> 675 </td><td>67   </td><td>73   </td><td> 9.4 </td><td>11   </td><td> 9727</td><td>55   </td></tr>\n",
       "\t<tr><th scope=row>Saint Joseph's College IN</th><td>Yes  </td><td>  920</td><td> 684 </td><td> 225 </td><td>24   </td><td>42   </td><td>  815</td><td> 222 </td><td>11200</td><td>4250 </td><td> 600 </td><td> 950 </td><td>55   </td><td>60   </td><td>14.8 </td><td>19   </td><td> 7360</td><td>67   </td></tr>\n",
       "\t<tr><th scope=row>Loras College</th><td>Yes  </td><td> 1641</td><td>1283 </td><td> 527 </td><td>20   </td><td>39   </td><td> 1663</td><td> 170 </td><td>11200</td><td>4000 </td><td> 500 </td><td>1200 </td><td>61   </td><td>62   </td><td>14.2 </td><td>24   </td><td> 7578</td><td>70   </td></tr>\n",
       "\t<tr><th scope=row>Merrimack College</th><td>Yes  </td><td> 1981</td><td>1541 </td><td> 514 </td><td>18   </td><td>36   </td><td> 1927</td><td>1084 </td><td>12500</td><td>6200 </td><td> 375 </td><td>1000 </td><td>73   </td><td>75   </td><td>16.8 </td><td>22   </td><td> 8707</td><td>80   </td></tr>\n",
       "\t<tr><th scope=row>Allegheny College</th><td>Yes  </td><td> 2652</td><td>1900 </td><td> 484 </td><td>44   </td><td>77   </td><td> 1707</td><td>  44 </td><td>17080</td><td>4440 </td><td> 400 </td><td> 600 </td><td>73   </td><td>91   </td><td> 9.9 </td><td>41   </td><td>11711</td><td>76   </td></tr>\n",
       "\t<tr><th scope=row>William Woods University</th><td>Yes  </td><td>  469</td><td> 435 </td><td> 227 </td><td>17   </td><td>39   </td><td>  851</td><td> 120 </td><td>10535</td><td>4365 </td><td> 550 </td><td>3700 </td><td>39   </td><td>66   </td><td>12.9 </td><td>16   </td><td> 7438</td><td>52   </td></tr>\n",
       "\t<tr><th scope=row>Wesleyan University</th><td>Yes  </td><td> 4772</td><td>1973 </td><td> 712 </td><td>60   </td><td>86   </td><td> 2714</td><td>  27 </td><td>19130</td><td>5600 </td><td>1400 </td><td>1400 </td><td>90   </td><td>94   </td><td>12.1 </td><td>39   </td><td>16262</td><td>92   </td></tr>\n",
       "\t<tr><th scope=row>University of Missouri at Columbia</th><td>No   </td><td> 6574</td><td>4637 </td><td>2940 </td><td>32   </td><td>62   </td><td>14782</td><td>1583 </td><td> 9057</td><td>3485 </td><td> 600 </td><td>1983 </td><td>87   </td><td>87   </td><td>12.7 </td><td>15   </td><td>10145</td><td>58   </td></tr>\n",
       "\t<tr><th scope=row>...</th><td>...</td><td>...</td><td>...</td><td>...</td><td>...</td><td>...</td><td>...</td><td>...</td><td>...</td><td>...</td><td>...</td><td>...</td><td>...</td><td>...</td><td>...</td><td>...</td><td>...</td><td>...</td></tr>\n",
       "\t<tr><th scope=row>Montana State University</th><td>No   </td><td> 3500</td><td> 2836</td><td>1779 </td><td>15   </td><td>42   </td><td> 8730</td><td> 993 </td><td> 5552</td><td>3710 </td><td>550  </td><td>2300 </td><td> 75  </td><td> 83  </td><td>17.6 </td><td> 8   </td><td> 6324</td><td>37   </td></tr>\n",
       "\t<tr><th scope=row>Bryn Mawr College</th><td>Yes  </td><td> 1465</td><td>  810</td><td> 313 </td><td>71   </td><td>95   </td><td> 1088</td><td>  16 </td><td>18165</td><td>6750 </td><td>500  </td><td>1200 </td><td>100  </td><td>100  </td><td>12.3 </td><td>49   </td><td>17449</td><td>89   </td></tr>\n",
       "\t<tr><th scope=row>Claflin College</th><td>Yes  </td><td> 1196</td><td>  697</td><td> 499 </td><td>21   </td><td>47   </td><td>  959</td><td>  13 </td><td> 4412</td><td>2460 </td><td>500  </td><td>1000 </td><td> 69  </td><td> 69  </td><td>16.9 </td><td>31   </td><td> 7083</td><td>21   </td></tr>\n",
       "\t<tr><th scope=row>Worcester State College</th><td>No   </td><td> 2197</td><td> 1515</td><td> 543 </td><td> 4   </td><td>26   </td><td> 3089</td><td>2029 </td><td> 6797</td><td>3900 </td><td>500  </td><td>1200 </td><td> 60  </td><td> 60  </td><td>21.0 </td><td>14   </td><td> 4469</td><td>40   </td></tr>\n",
       "\t<tr><th scope=row>Massachusetts Institute of Technology</th><td>Yes  </td><td> 6411</td><td> 2140</td><td>1078 </td><td>96   </td><td>99   </td><td> 4481</td><td>  28 </td><td>20100</td><td>5975 </td><td>725  </td><td>1600 </td><td> 99  </td><td> 99  </td><td>10.1 </td><td>35   </td><td>33541</td><td>94   </td></tr>\n",
       "\t<tr><th scope=row>Montana College of Mineral Sci. &amp; Tech.</th><td>No   </td><td>  572</td><td>  544</td><td> 320 </td><td>45   </td><td>72   </td><td> 1470</td><td> 416 </td><td> 6073</td><td>3400 </td><td>550  </td><td>1400 </td><td> 71  </td><td> 71  </td><td>16.4 </td><td>31   </td><td> 6112</td><td>74   </td></tr>\n",
       "\t<tr><th scope=row>Jersey City State College</th><td>No   </td><td> 2957</td><td> 1423</td><td> 691 </td><td>10   </td><td>30   </td><td> 3817</td><td>1394 </td><td> 3946</td><td>4800 </td><td>400  </td><td>1500 </td><td> 63  </td><td> 67  </td><td>14.9 </td><td>10   </td><td> 8367</td><td>26   </td></tr>\n",
       "\t<tr><th scope=row>Hope College</th><td>Yes  </td><td> 1712</td><td> 1483</td><td> 624 </td><td>37   </td><td>69   </td><td> 2505</td><td> 208 </td><td>12275</td><td>4341 </td><td>465  </td><td>1100 </td><td> 72  </td><td> 81  </td><td>12.5 </td><td>40   </td><td> 9284</td><td>72   </td></tr>\n",
       "\t<tr><th scope=row>Wells College</th><td>Yes  </td><td>  318</td><td>  240</td><td> 130 </td><td>40   </td><td>85   </td><td>  416</td><td>  19 </td><td>14900</td><td>5550 </td><td>600  </td><td> 500 </td><td> 93  </td><td> 98  </td><td> 8.3 </td><td>42   </td><td>13935</td><td>69   </td></tr>\n",
       "\t<tr><th scope=row>Morehouse College</th><td>Yes  </td><td> 3708</td><td> 1678</td><td> 722 </td><td>41   </td><td>66   </td><td> 2852</td><td> 153 </td><td> 7050</td><td>5490 </td><td>250  </td><td> 600 </td><td> 71  </td><td> 74  </td><td>17.8 </td><td>10   </td><td> 8122</td><td>83   </td></tr>\n",
       "\t<tr><th scope=row>Niagara University</th><td>Yes  </td><td> 2220</td><td> 1796</td><td> 467 </td><td>65   </td><td>99   </td><td> 1919</td><td> 334 </td><td>10320</td><td>4762 </td><td>450  </td><td> 650 </td><td> 68  </td><td>100  </td><td>14.2 </td><td>20   </td><td> 7788</td><td>65   </td></tr>\n",
       "\t<tr><th scope=row>Marian College of Fond du Lac</th><td>Yes  </td><td>  824</td><td>  670</td><td> 337 </td><td>15   </td><td>41   </td><td> 1160</td><td> 653 </td><td> 9400</td><td>3400 </td><td>500  </td><td>1100 </td><td> 37  </td><td> 37  </td><td> 8.4 </td><td>21   </td><td> 5352</td><td>59   </td></tr>\n",
       "\t<tr><th scope=row>SUNY College  at Brockport</th><td>No   </td><td> 7294</td><td> 3564</td><td> 904 </td><td> 7   </td><td>34   </td><td> 5758</td><td>1363 </td><td> 6550</td><td>4460 </td><td>500  </td><td> 705 </td><td> 79  </td><td> 83  </td><td>19.0 </td><td>14   </td><td> 6632</td><td>49   </td></tr>\n",
       "\t<tr><th scope=row>Gwynedd Mercy College</th><td>Yes  </td><td>  380</td><td>  237</td><td> 104 </td><td>30   </td><td>56   </td><td>  716</td><td>1108 </td><td>11000</td><td>5550 </td><td>500  </td><td> 500 </td><td> 36  </td><td> 41  </td><td> 7.8 </td><td>22   </td><td> 7483</td><td>96   </td></tr>\n",
       "\t<tr><th scope=row>Harding University</th><td>Yes  </td><td> 1721</td><td> 1068</td><td> 806 </td><td>35   </td><td>75   </td><td> 3128</td><td> 213 </td><td> 5504</td><td>3528 </td><td>700  </td><td> 910 </td><td> 71  </td><td> 77  </td><td>17.7 </td><td>37   </td><td> 6466</td><td>73   </td></tr>\n",
       "\t<tr><th scope=row>Gannon University</th><td>Yes  </td><td> 2464</td><td> 1908</td><td> 678 </td><td>24   </td><td>57   </td><td> 2693</td><td> 691 </td><td>10970</td><td>4280 </td><td>500  </td><td>1380 </td><td> 47  </td><td> 51  </td><td>13.3 </td><td>18   </td><td> 7711</td><td>65   </td></tr>\n",
       "\t<tr><th scope=row>Saint Francis College IN</th><td>Yes  </td><td>  213</td><td>  166</td><td>  85 </td><td>13   </td><td>36   </td><td>  513</td><td> 247 </td><td> 8670</td><td>3820 </td><td>450  </td><td>1000 </td><td> 43  </td><td> 78  </td><td>12.5 </td><td> 4   </td><td> 7440</td><td>48   </td></tr>\n",
       "\t<tr><th scope=row>Morris College</th><td>Yes  </td><td>  882</td><td>  730</td><td> 330 </td><td> 2   </td><td>13   </td><td>  926</td><td>  12 </td><td> 4515</td><td>2550 </td><td>850  </td><td>2100 </td><td> 53  </td><td> 60  </td><td>18.6 </td><td>34   </td><td> 6990</td><td>60   </td></tr>\n",
       "\t<tr><th scope=row>University of Hawaii at Manoa</th><td>No   </td><td> 3580</td><td> 2603</td><td>1627 </td><td>36   </td><td>69   </td><td>11028</td><td>2411 </td><td> 4460</td><td>3038 </td><td>687  </td><td>1281 </td><td> 85  </td><td> 87  </td><td>11.8 </td><td> 6   </td><td>12833</td><td>54   </td></tr>\n",
       "\t<tr><th scope=row>Tabor College</th><td>Yes  </td><td>  257</td><td>  183</td><td> 109 </td><td>19   </td><td>41   </td><td>  396</td><td>  38 </td><td> 7850</td><td>3410 </td><td>400  </td><td>1500 </td><td> 55  </td><td> 70  </td><td>10.0 </td><td>15   </td><td> 7233</td><td>53   </td></tr>\n",
       "\t<tr><th scope=row>American International College</th><td>Yes  </td><td> 1420</td><td> 1093</td><td> 220 </td><td> 9   </td><td>22   </td><td> 1018</td><td> 287 </td><td> 8700</td><td>4780 </td><td>450  </td><td>1400 </td><td> 78  </td><td> 84  </td><td>14.7 </td><td>19   </td><td> 7355</td><td>69   </td></tr>\n",
       "\t<tr><th scope=row>Georgian Court College</th><td>Yes  </td><td>  348</td><td>  281</td><td> 127 </td><td>12   </td><td>52   </td><td> 1095</td><td> 785 </td><td> 9150</td><td>3950 </td><td>500  </td><td> 800 </td><td> 56  </td><td> 59  </td><td>12.2 </td><td>27   </td><td> 7348</td><td>76   </td></tr>\n",
       "\t<tr><th scope=row>Central Washington University</th><td>No   </td><td> 2785</td><td> 2011</td><td>1007 </td><td> 8   </td><td>65   </td><td> 6507</td><td> 898 </td><td> 7242</td><td>3603 </td><td>654  </td><td>1416 </td><td> 67  </td><td> 89  </td><td>18.1 </td><td> 0   </td><td> 6413</td><td>51   </td></tr>\n",
       "\t<tr><th scope=row>Arizona State University Main campus</th><td>No   </td><td>12809</td><td>10308</td><td>3761 </td><td>24   </td><td>49   </td><td>22593</td><td>7585 </td><td> 7434</td><td>4850 </td><td>700  </td><td>2100 </td><td> 88  </td><td> 93  </td><td>18.9 </td><td> 5   </td><td> 4602</td><td>48   </td></tr>\n",
       "\t<tr><th scope=row>Radford University</th><td>No   </td><td> 5702</td><td> 4894</td><td>1742 </td><td>15   </td><td>37   </td><td> 8077</td><td> 472 </td><td> 6684</td><td>4110 </td><td>500  </td><td> 900 </td><td> 73  </td><td> 83  </td><td>19.6 </td><td> 9   </td><td> 4519</td><td>62   </td></tr>\n",
       "\t<tr><th scope=row>West Virginia Wesleyan College</th><td>Yes  </td><td> 1566</td><td> 1400</td><td> 483 </td><td>28   </td><td>55   </td><td> 1509</td><td> 170 </td><td>14200</td><td>3775 </td><td>450  </td><td>1100 </td><td> 58  </td><td> 81  </td><td>16.4 </td><td>42   </td><td> 8080</td><td>67   </td></tr>\n",
       "\t<tr><th scope=row>Brown University</th><td>Yes  </td><td>12586</td><td> 3239</td><td>1462 </td><td>87   </td><td>95   </td><td> 5643</td><td> 349 </td><td>19528</td><td>5926 </td><td>720  </td><td>1100 </td><td> 99  </td><td>100  </td><td> 7.6 </td><td>39   </td><td>20440</td><td>97   </td></tr>\n",
       "\t<tr><th scope=row>Warren Wilson College</th><td>Yes  </td><td>  440</td><td>  311</td><td> 112 </td><td>25   </td><td>49   </td><td>  466</td><td>   7 </td><td>10000</td><td>3052 </td><td>400  </td><td>1100 </td><td> 65  </td><td> 75  </td><td>11.4 </td><td>20   </td><td> 9430</td><td>63   </td></tr>\n",
       "\t<tr><th scope=row>Winthrop University</th><td>No   </td><td> 2320</td><td> 1805</td><td> 769 </td><td>24   </td><td>61   </td><td> 3395</td><td> 670 </td><td> 6400</td><td>3392 </td><td>580  </td><td>2150 </td><td> 71  </td><td> 80  </td><td>12.8 </td><td>26   </td><td> 6729</td><td>59   </td></tr>\n",
       "\t<tr><th scope=row>George Washington University</th><td>Yes  </td><td> 7875</td><td> 5062</td><td>1492 </td><td>38   </td><td>71   </td><td> 5471</td><td>1470 </td><td>17450</td><td>6328 </td><td>700  </td><td> 950 </td><td> 92  </td><td> 93  </td><td> 7.6 </td><td>15   </td><td>14745</td><td>72   </td></tr>\n",
       "</tbody>\n",
       "</table>\n"
      ],
      "text/latex": [
       "\\begin{tabular}{r|llllllllllllllllll}\n",
       "  & Private & Apps & Accept & Enroll & Top10perc & Top25perc & F.Undergrad & P.Undergrad & Outstate & Room.Board & Books & Personal & PhD & Terminal & S.F.Ratio & perc.alumni & Expend & Grad.Rate\\\\\n",
       "\\hline\n",
       "\tWilliam Jewell College & Yes   &   663 &  547  &  315  & 32    & 67    &  1279 &   75  & 10060 & 2970  &  500  & 2600  & 74    & 80    & 11.2  & 19    &  7885 & 59   \\\\\n",
       "\tBaker University & Yes   &   602 &  483  &  206  & 21    & 47    &   958 &  466  &  8620 & 4100  &  400  & 2250  & 58    & 68    & 11.0  & 21    &  6136 & 65   \\\\\n",
       "\tUniversity of West Florida & No    &  1558 & 1254  &  472  & 20    & 57    &  3754 & 2477  &  6172 & 3994  &  541  & 1387  & 83    & 87    & 23.4  & 12    &  8488 & 53   \\\\\n",
       "\tColumbia College & Yes   &   737 &  614  &  242  & 21    & 67    &   968 &  237  & 10425 & 3975  &  500  & 1500  & 61    & 77    & 14.7  & 34    &  8693 & 76   \\\\\n",
       "\tChristopher Newport University & No    &   883 &  766  &  428  &  3    & 37    &  2910 & 1749  &  7860 & 4750  &  525  & 1889  & 80    & 82    & 21.2  & 16    &  4639 & 48   \\\\\n",
       "\tSt. Martin's College & Yes   &   191 &  165  &   63  &  5    & 25    &   494 &  574  & 11550 & 4270  &  300  &  500  & 43    & 77    & 14.5  &  8    &  9209 & 40   \\\\\n",
       "\tSUNY College at Plattsburgh & No    &  5549 & 3583  &  853  &  9    & 40    &  5004 &  475  &  6550 & 4176  &  600  & 1380  & 80    & 90    & 17.9  & 16    &  6174 & 65   \\\\\n",
       "\tMilwaukee School of Engineering & Yes   &  1217 & 1088  &  496  & 36    & 69    &  1773 &  884  & 11505 & 3255  & 1000  & 2075  & 35    & 46    & 16.7  & 23    &  7140 & 67   \\\\\n",
       "\tFresno Pacific College & Yes   &   346 &  274  &  146  & 51    & 87    &   704 &   63  &  9900 & 3670  &  630  & 1818  & 59    & 59    & 10.5  & 14    &  8095 & 54   \\\\\n",
       "\tFurman University & Yes   &  2161 & 1951  &  685  & 56    & 82    &  2371 &  175  & 13440 & 4048  &  600  & 1250  & 92    & 95    & 13.5  & 28    & 12940 & 82   \\\\\n",
       "\tBowling Green State University & No    &  9251 & 7333  & 3076  & 14    & 45    & 13699 & 1213  &  7452 & 3352  &  600  & 1700  & 81    & 89    & 21.1  & 14    &  6918 & 67   \\\\\n",
       "\tRockhurst College & Yes   &   935 &  858  &  345  & 22    & 50    &  1127 &  754  &  9490 & 4100  &  500  & 1500  & 60    & 79    & 10.7  & 21    &  7519 & 79   \\\\\n",
       "\tWellesley College & Yes   &  2895 & 1249  &  579  & 80    & 96    &  2195 &  156  & 18345 & 5995  &  500  &  700  & 94    & 98    & 10.6  & 51    & 21409 & 91   \\\\\n",
       "\tDenison University & Yes   &  2762 & 2279  &  533  & 32    & 60    &  1835 &   14  & 16900 & 4720  &  500  &  600  & 88    & 97    & 11.6  & 45    & 12423 & 81   \\\\\n",
       "\tCastleton State College & No    &  1257 &  940  &  363  &  9    & 22    &  1547 &  294  &  7656 & 4690  &  400  &  700  & 89    & 91    & 14.7  &  8    &  6318 & 79   \\\\\n",
       "\tWestern Washington University & No    &  5548 & 3563  & 1549  & 30    & 71    &  8909 &  506  &  8124 & 4144  &  639  & 2385  & 83    & 89    & 22.7  & 10    &  7203 & 61   \\\\\n",
       "\tBarry University & Yes   &   990 &  784  &  279  & 18    & 45    &  1811 & 3144  & 11290 & 5360  &  600  & 1800  & 76    & 78    & 12.6  & 11    &  9084 & 72   \\\\\n",
       "\tStetson University & Yes   &  1557 & 1227  &  489  & 37    & 69    &  1964 &   81  & 12315 & 4565  &  600  & 1365  & 85    & 90    & 12.5  & 24    & 10307 & 73   \\\\\n",
       "\tKansas Wesleyan University & Yes   &   589 &  575  &  148  & 16    & 40    &   474 &  258  &  8400 & 3250  &  500  & 1400  & 63    & 55    & 12.4  & 14    &  6535 & 68   \\\\\n",
       "\tOhio University & No    & 11023 & 8298  & 3183  & 21    & 54    & 14861 & 1310  &  7629 & 4095  &  550  & 2300  & 79    & 87    & 20.4  & 13    &  8811 & 64   \\\\\n",
       "\tStockton College of New Jersey & No    &  4019 & 1579  &  710  & 23    & 65    &  4365 &  765  &  3040 & 4351  &  711  & 1125  & 78    & 92    & 19.5  &  7    &  5599 & 64   \\\\\n",
       "\tWillamette University & Yes   &  1658 & 1327  &  395  & 49    & 80    &  1595 &  159  & 14800 & 4620  &  400  &  790  & 91    & 94    & 13.3  & 37    & 10779 & 68   \\\\\n",
       "\tAlbertson College & Yes   &   587 &  479  &  158  & 38    & 62    &   678 &   41  & 13500 & 3335  &  500  &  675  & 67    & 73    &  9.4  & 11    &  9727 & 55   \\\\\n",
       "\tSaint Joseph's College IN & Yes   &   920 &  684  &  225  & 24    & 42    &   815 &  222  & 11200 & 4250  &  600  &  950  & 55    & 60    & 14.8  & 19    &  7360 & 67   \\\\\n",
       "\tLoras College & Yes   &  1641 & 1283  &  527  & 20    & 39    &  1663 &  170  & 11200 & 4000  &  500  & 1200  & 61    & 62    & 14.2  & 24    &  7578 & 70   \\\\\n",
       "\tMerrimack College & Yes   &  1981 & 1541  &  514  & 18    & 36    &  1927 & 1084  & 12500 & 6200  &  375  & 1000  & 73    & 75    & 16.8  & 22    &  8707 & 80   \\\\\n",
       "\tAllegheny College & Yes   &  2652 & 1900  &  484  & 44    & 77    &  1707 &   44  & 17080 & 4440  &  400  &  600  & 73    & 91    &  9.9  & 41    & 11711 & 76   \\\\\n",
       "\tWilliam Woods University & Yes   &   469 &  435  &  227  & 17    & 39    &   851 &  120  & 10535 & 4365  &  550  & 3700  & 39    & 66    & 12.9  & 16    &  7438 & 52   \\\\\n",
       "\tWesleyan University & Yes   &  4772 & 1973  &  712  & 60    & 86    &  2714 &   27  & 19130 & 5600  & 1400  & 1400  & 90    & 94    & 12.1  & 39    & 16262 & 92   \\\\\n",
       "\tUniversity of Missouri at Columbia & No    &  6574 & 4637  & 2940  & 32    & 62    & 14782 & 1583  &  9057 & 3485  &  600  & 1983  & 87    & 87    & 12.7  & 15    & 10145 & 58   \\\\\n",
       "\t... & ... & ... & ... & ... & ... & ... & ... & ... & ... & ... & ... & ... & ... & ... & ... & ... & ... & ...\\\\\n",
       "\tMontana State University & No    &  3500 &  2836 & 1779  & 15    & 42    &  8730 &  993  &  5552 & 3710  & 550   & 2300  &  75   &  83   & 17.6  &  8    &  6324 & 37   \\\\\n",
       "\tBryn Mawr College & Yes   &  1465 &   810 &  313  & 71    & 95    &  1088 &   16  & 18165 & 6750  & 500   & 1200  & 100   & 100   & 12.3  & 49    & 17449 & 89   \\\\\n",
       "\tClaflin College & Yes   &  1196 &   697 &  499  & 21    & 47    &   959 &   13  &  4412 & 2460  & 500   & 1000  &  69   &  69   & 16.9  & 31    &  7083 & 21   \\\\\n",
       "\tWorcester State College & No    &  2197 &  1515 &  543  &  4    & 26    &  3089 & 2029  &  6797 & 3900  & 500   & 1200  &  60   &  60   & 21.0  & 14    &  4469 & 40   \\\\\n",
       "\tMassachusetts Institute of Technology & Yes   &  6411 &  2140 & 1078  & 96    & 99    &  4481 &   28  & 20100 & 5975  & 725   & 1600  &  99   &  99   & 10.1  & 35    & 33541 & 94   \\\\\n",
       "\tMontana College of Mineral Sci. \\& Tech. & No    &   572 &   544 &  320  & 45    & 72    &  1470 &  416  &  6073 & 3400  & 550   & 1400  &  71   &  71   & 16.4  & 31    &  6112 & 74   \\\\\n",
       "\tJersey City State College & No    &  2957 &  1423 &  691  & 10    & 30    &  3817 & 1394  &  3946 & 4800  & 400   & 1500  &  63   &  67   & 14.9  & 10    &  8367 & 26   \\\\\n",
       "\tHope College & Yes   &  1712 &  1483 &  624  & 37    & 69    &  2505 &  208  & 12275 & 4341  & 465   & 1100  &  72   &  81   & 12.5  & 40    &  9284 & 72   \\\\\n",
       "\tWells College & Yes   &   318 &   240 &  130  & 40    & 85    &   416 &   19  & 14900 & 5550  & 600   &  500  &  93   &  98   &  8.3  & 42    & 13935 & 69   \\\\\n",
       "\tMorehouse College & Yes   &  3708 &  1678 &  722  & 41    & 66    &  2852 &  153  &  7050 & 5490  & 250   &  600  &  71   &  74   & 17.8  & 10    &  8122 & 83   \\\\\n",
       "\tNiagara University & Yes   &  2220 &  1796 &  467  & 65    & 99    &  1919 &  334  & 10320 & 4762  & 450   &  650  &  68   & 100   & 14.2  & 20    &  7788 & 65   \\\\\n",
       "\tMarian College of Fond du Lac & Yes   &   824 &   670 &  337  & 15    & 41    &  1160 &  653  &  9400 & 3400  & 500   & 1100  &  37   &  37   &  8.4  & 21    &  5352 & 59   \\\\\n",
       "\tSUNY College  at Brockport & No    &  7294 &  3564 &  904  &  7    & 34    &  5758 & 1363  &  6550 & 4460  & 500   &  705  &  79   &  83   & 19.0  & 14    &  6632 & 49   \\\\\n",
       "\tGwynedd Mercy College & Yes   &   380 &   237 &  104  & 30    & 56    &   716 & 1108  & 11000 & 5550  & 500   &  500  &  36   &  41   &  7.8  & 22    &  7483 & 96   \\\\\n",
       "\tHarding University & Yes   &  1721 &  1068 &  806  & 35    & 75    &  3128 &  213  &  5504 & 3528  & 700   &  910  &  71   &  77   & 17.7  & 37    &  6466 & 73   \\\\\n",
       "\tGannon University & Yes   &  2464 &  1908 &  678  & 24    & 57    &  2693 &  691  & 10970 & 4280  & 500   & 1380  &  47   &  51   & 13.3  & 18    &  7711 & 65   \\\\\n",
       "\tSaint Francis College IN & Yes   &   213 &   166 &   85  & 13    & 36    &   513 &  247  &  8670 & 3820  & 450   & 1000  &  43   &  78   & 12.5  &  4    &  7440 & 48   \\\\\n",
       "\tMorris College & Yes   &   882 &   730 &  330  &  2    & 13    &   926 &   12  &  4515 & 2550  & 850   & 2100  &  53   &  60   & 18.6  & 34    &  6990 & 60   \\\\\n",
       "\tUniversity of Hawaii at Manoa & No    &  3580 &  2603 & 1627  & 36    & 69    & 11028 & 2411  &  4460 & 3038  & 687   & 1281  &  85   &  87   & 11.8  &  6    & 12833 & 54   \\\\\n",
       "\tTabor College & Yes   &   257 &   183 &  109  & 19    & 41    &   396 &   38  &  7850 & 3410  & 400   & 1500  &  55   &  70   & 10.0  & 15    &  7233 & 53   \\\\\n",
       "\tAmerican International College & Yes   &  1420 &  1093 &  220  &  9    & 22    &  1018 &  287  &  8700 & 4780  & 450   & 1400  &  78   &  84   & 14.7  & 19    &  7355 & 69   \\\\\n",
       "\tGeorgian Court College & Yes   &   348 &   281 &  127  & 12    & 52    &  1095 &  785  &  9150 & 3950  & 500   &  800  &  56   &  59   & 12.2  & 27    &  7348 & 76   \\\\\n",
       "\tCentral Washington University & No    &  2785 &  2011 & 1007  &  8    & 65    &  6507 &  898  &  7242 & 3603  & 654   & 1416  &  67   &  89   & 18.1  &  0    &  6413 & 51   \\\\\n",
       "\tArizona State University Main campus & No    & 12809 & 10308 & 3761  & 24    & 49    & 22593 & 7585  &  7434 & 4850  & 700   & 2100  &  88   &  93   & 18.9  &  5    &  4602 & 48   \\\\\n",
       "\tRadford University & No    &  5702 &  4894 & 1742  & 15    & 37    &  8077 &  472  &  6684 & 4110  & 500   &  900  &  73   &  83   & 19.6  &  9    &  4519 & 62   \\\\\n",
       "\tWest Virginia Wesleyan College & Yes   &  1566 &  1400 &  483  & 28    & 55    &  1509 &  170  & 14200 & 3775  & 450   & 1100  &  58   &  81   & 16.4  & 42    &  8080 & 67   \\\\\n",
       "\tBrown University & Yes   & 12586 &  3239 & 1462  & 87    & 95    &  5643 &  349  & 19528 & 5926  & 720   & 1100  &  99   & 100   &  7.6  & 39    & 20440 & 97   \\\\\n",
       "\tWarren Wilson College & Yes   &   440 &   311 &  112  & 25    & 49    &   466 &    7  & 10000 & 3052  & 400   & 1100  &  65   &  75   & 11.4  & 20    &  9430 & 63   \\\\\n",
       "\tWinthrop University & No    &  2320 &  1805 &  769  & 24    & 61    &  3395 &  670  &  6400 & 3392  & 580   & 2150  &  71   &  80   & 12.8  & 26    &  6729 & 59   \\\\\n",
       "\tGeorge Washington University & Yes   &  7875 &  5062 & 1492  & 38    & 71    &  5471 & 1470  & 17450 & 6328  & 700   &  950  &  92   &  93   &  7.6  & 15    & 14745 & 72   \\\\\n",
       "\\end{tabular}\n"
      ],
      "text/markdown": [
       "\n",
       "| <!--/--> | Private | Apps | Accept | Enroll | Top10perc | Top25perc | F.Undergrad | P.Undergrad | Outstate | Room.Board | Books | Personal | PhD | Terminal | S.F.Ratio | perc.alumni | Expend | Grad.Rate |\n",
       "|---|---|---|---|---|---|---|---|---|---|---|---|---|---|---|---|---|---|---|\n",
       "| William Jewell College | Yes   |   663 |  547  |  315  | 32    | 67    |  1279 |   75  | 10060 | 2970  |  500  | 2600  | 74    | 80    | 11.2  | 19    |  7885 | 59    |\n",
       "| Baker University | Yes   |   602 |  483  |  206  | 21    | 47    |   958 |  466  |  8620 | 4100  |  400  | 2250  | 58    | 68    | 11.0  | 21    |  6136 | 65    |\n",
       "| University of West Florida | No    |  1558 | 1254  |  472  | 20    | 57    |  3754 | 2477  |  6172 | 3994  |  541  | 1387  | 83    | 87    | 23.4  | 12    |  8488 | 53    |\n",
       "| Columbia College | Yes   |   737 |  614  |  242  | 21    | 67    |   968 |  237  | 10425 | 3975  |  500  | 1500  | 61    | 77    | 14.7  | 34    |  8693 | 76    |\n",
       "| Christopher Newport University | No    |   883 |  766  |  428  |  3    | 37    |  2910 | 1749  |  7860 | 4750  |  525  | 1889  | 80    | 82    | 21.2  | 16    |  4639 | 48    |\n",
       "| St. Martin's College | Yes   |   191 |  165  |   63  |  5    | 25    |   494 |  574  | 11550 | 4270  |  300  |  500  | 43    | 77    | 14.5  |  8    |  9209 | 40    |\n",
       "| SUNY College at Plattsburgh | No    |  5549 | 3583  |  853  |  9    | 40    |  5004 |  475  |  6550 | 4176  |  600  | 1380  | 80    | 90    | 17.9  | 16    |  6174 | 65    |\n",
       "| Milwaukee School of Engineering | Yes   |  1217 | 1088  |  496  | 36    | 69    |  1773 |  884  | 11505 | 3255  | 1000  | 2075  | 35    | 46    | 16.7  | 23    |  7140 | 67    |\n",
       "| Fresno Pacific College | Yes   |   346 |  274  |  146  | 51    | 87    |   704 |   63  |  9900 | 3670  |  630  | 1818  | 59    | 59    | 10.5  | 14    |  8095 | 54    |\n",
       "| Furman University | Yes   |  2161 | 1951  |  685  | 56    | 82    |  2371 |  175  | 13440 | 4048  |  600  | 1250  | 92    | 95    | 13.5  | 28    | 12940 | 82    |\n",
       "| Bowling Green State University | No    |  9251 | 7333  | 3076  | 14    | 45    | 13699 | 1213  |  7452 | 3352  |  600  | 1700  | 81    | 89    | 21.1  | 14    |  6918 | 67    |\n",
       "| Rockhurst College | Yes   |   935 |  858  |  345  | 22    | 50    |  1127 |  754  |  9490 | 4100  |  500  | 1500  | 60    | 79    | 10.7  | 21    |  7519 | 79    |\n",
       "| Wellesley College | Yes   |  2895 | 1249  |  579  | 80    | 96    |  2195 |  156  | 18345 | 5995  |  500  |  700  | 94    | 98    | 10.6  | 51    | 21409 | 91    |\n",
       "| Denison University | Yes   |  2762 | 2279  |  533  | 32    | 60    |  1835 |   14  | 16900 | 4720  |  500  |  600  | 88    | 97    | 11.6  | 45    | 12423 | 81    |\n",
       "| Castleton State College | No    |  1257 |  940  |  363  |  9    | 22    |  1547 |  294  |  7656 | 4690  |  400  |  700  | 89    | 91    | 14.7  |  8    |  6318 | 79    |\n",
       "| Western Washington University | No    |  5548 | 3563  | 1549  | 30    | 71    |  8909 |  506  |  8124 | 4144  |  639  | 2385  | 83    | 89    | 22.7  | 10    |  7203 | 61    |\n",
       "| Barry University | Yes   |   990 |  784  |  279  | 18    | 45    |  1811 | 3144  | 11290 | 5360  |  600  | 1800  | 76    | 78    | 12.6  | 11    |  9084 | 72    |\n",
       "| Stetson University | Yes   |  1557 | 1227  |  489  | 37    | 69    |  1964 |   81  | 12315 | 4565  |  600  | 1365  | 85    | 90    | 12.5  | 24    | 10307 | 73    |\n",
       "| Kansas Wesleyan University | Yes   |   589 |  575  |  148  | 16    | 40    |   474 |  258  |  8400 | 3250  |  500  | 1400  | 63    | 55    | 12.4  | 14    |  6535 | 68    |\n",
       "| Ohio University | No    | 11023 | 8298  | 3183  | 21    | 54    | 14861 | 1310  |  7629 | 4095  |  550  | 2300  | 79    | 87    | 20.4  | 13    |  8811 | 64    |\n",
       "| Stockton College of New Jersey | No    |  4019 | 1579  |  710  | 23    | 65    |  4365 |  765  |  3040 | 4351  |  711  | 1125  | 78    | 92    | 19.5  |  7    |  5599 | 64    |\n",
       "| Willamette University | Yes   |  1658 | 1327  |  395  | 49    | 80    |  1595 |  159  | 14800 | 4620  |  400  |  790  | 91    | 94    | 13.3  | 37    | 10779 | 68    |\n",
       "| Albertson College | Yes   |   587 |  479  |  158  | 38    | 62    |   678 |   41  | 13500 | 3335  |  500  |  675  | 67    | 73    |  9.4  | 11    |  9727 | 55    |\n",
       "| Saint Joseph's College IN | Yes   |   920 |  684  |  225  | 24    | 42    |   815 |  222  | 11200 | 4250  |  600  |  950  | 55    | 60    | 14.8  | 19    |  7360 | 67    |\n",
       "| Loras College | Yes   |  1641 | 1283  |  527  | 20    | 39    |  1663 |  170  | 11200 | 4000  |  500  | 1200  | 61    | 62    | 14.2  | 24    |  7578 | 70    |\n",
       "| Merrimack College | Yes   |  1981 | 1541  |  514  | 18    | 36    |  1927 | 1084  | 12500 | 6200  |  375  | 1000  | 73    | 75    | 16.8  | 22    |  8707 | 80    |\n",
       "| Allegheny College | Yes   |  2652 | 1900  |  484  | 44    | 77    |  1707 |   44  | 17080 | 4440  |  400  |  600  | 73    | 91    |  9.9  | 41    | 11711 | 76    |\n",
       "| William Woods University | Yes   |   469 |  435  |  227  | 17    | 39    |   851 |  120  | 10535 | 4365  |  550  | 3700  | 39    | 66    | 12.9  | 16    |  7438 | 52    |\n",
       "| Wesleyan University | Yes   |  4772 | 1973  |  712  | 60    | 86    |  2714 |   27  | 19130 | 5600  | 1400  | 1400  | 90    | 94    | 12.1  | 39    | 16262 | 92    |\n",
       "| University of Missouri at Columbia | No    |  6574 | 4637  | 2940  | 32    | 62    | 14782 | 1583  |  9057 | 3485  |  600  | 1983  | 87    | 87    | 12.7  | 15    | 10145 | 58    |\n",
       "| ... | ... | ... | ... | ... | ... | ... | ... | ... | ... | ... | ... | ... | ... | ... | ... | ... | ... | ... |\n",
       "| Montana State University | No    |  3500 |  2836 | 1779  | 15    | 42    |  8730 |  993  |  5552 | 3710  | 550   | 2300  |  75   |  83   | 17.6  |  8    |  6324 | 37    |\n",
       "| Bryn Mawr College | Yes   |  1465 |   810 |  313  | 71    | 95    |  1088 |   16  | 18165 | 6750  | 500   | 1200  | 100   | 100   | 12.3  | 49    | 17449 | 89    |\n",
       "| Claflin College | Yes   |  1196 |   697 |  499  | 21    | 47    |   959 |   13  |  4412 | 2460  | 500   | 1000  |  69   |  69   | 16.9  | 31    |  7083 | 21    |\n",
       "| Worcester State College | No    |  2197 |  1515 |  543  |  4    | 26    |  3089 | 2029  |  6797 | 3900  | 500   | 1200  |  60   |  60   | 21.0  | 14    |  4469 | 40    |\n",
       "| Massachusetts Institute of Technology | Yes   |  6411 |  2140 | 1078  | 96    | 99    |  4481 |   28  | 20100 | 5975  | 725   | 1600  |  99   |  99   | 10.1  | 35    | 33541 | 94    |\n",
       "| Montana College of Mineral Sci. & Tech. | No    |   572 |   544 |  320  | 45    | 72    |  1470 |  416  |  6073 | 3400  | 550   | 1400  |  71   |  71   | 16.4  | 31    |  6112 | 74    |\n",
       "| Jersey City State College | No    |  2957 |  1423 |  691  | 10    | 30    |  3817 | 1394  |  3946 | 4800  | 400   | 1500  |  63   |  67   | 14.9  | 10    |  8367 | 26    |\n",
       "| Hope College | Yes   |  1712 |  1483 |  624  | 37    | 69    |  2505 |  208  | 12275 | 4341  | 465   | 1100  |  72   |  81   | 12.5  | 40    |  9284 | 72    |\n",
       "| Wells College | Yes   |   318 |   240 |  130  | 40    | 85    |   416 |   19  | 14900 | 5550  | 600   |  500  |  93   |  98   |  8.3  | 42    | 13935 | 69    |\n",
       "| Morehouse College | Yes   |  3708 |  1678 |  722  | 41    | 66    |  2852 |  153  |  7050 | 5490  | 250   |  600  |  71   |  74   | 17.8  | 10    |  8122 | 83    |\n",
       "| Niagara University | Yes   |  2220 |  1796 |  467  | 65    | 99    |  1919 |  334  | 10320 | 4762  | 450   |  650  |  68   | 100   | 14.2  | 20    |  7788 | 65    |\n",
       "| Marian College of Fond du Lac | Yes   |   824 |   670 |  337  | 15    | 41    |  1160 |  653  |  9400 | 3400  | 500   | 1100  |  37   |  37   |  8.4  | 21    |  5352 | 59    |\n",
       "| SUNY College  at Brockport | No    |  7294 |  3564 |  904  |  7    | 34    |  5758 | 1363  |  6550 | 4460  | 500   |  705  |  79   |  83   | 19.0  | 14    |  6632 | 49    |\n",
       "| Gwynedd Mercy College | Yes   |   380 |   237 |  104  | 30    | 56    |   716 | 1108  | 11000 | 5550  | 500   |  500  |  36   |  41   |  7.8  | 22    |  7483 | 96    |\n",
       "| Harding University | Yes   |  1721 |  1068 |  806  | 35    | 75    |  3128 |  213  |  5504 | 3528  | 700   |  910  |  71   |  77   | 17.7  | 37    |  6466 | 73    |\n",
       "| Gannon University | Yes   |  2464 |  1908 |  678  | 24    | 57    |  2693 |  691  | 10970 | 4280  | 500   | 1380  |  47   |  51   | 13.3  | 18    |  7711 | 65    |\n",
       "| Saint Francis College IN | Yes   |   213 |   166 |   85  | 13    | 36    |   513 |  247  |  8670 | 3820  | 450   | 1000  |  43   |  78   | 12.5  |  4    |  7440 | 48    |\n",
       "| Morris College | Yes   |   882 |   730 |  330  |  2    | 13    |   926 |   12  |  4515 | 2550  | 850   | 2100  |  53   |  60   | 18.6  | 34    |  6990 | 60    |\n",
       "| University of Hawaii at Manoa | No    |  3580 |  2603 | 1627  | 36    | 69    | 11028 | 2411  |  4460 | 3038  | 687   | 1281  |  85   |  87   | 11.8  |  6    | 12833 | 54    |\n",
       "| Tabor College | Yes   |   257 |   183 |  109  | 19    | 41    |   396 |   38  |  7850 | 3410  | 400   | 1500  |  55   |  70   | 10.0  | 15    |  7233 | 53    |\n",
       "| American International College | Yes   |  1420 |  1093 |  220  |  9    | 22    |  1018 |  287  |  8700 | 4780  | 450   | 1400  |  78   |  84   | 14.7  | 19    |  7355 | 69    |\n",
       "| Georgian Court College | Yes   |   348 |   281 |  127  | 12    | 52    |  1095 |  785  |  9150 | 3950  | 500   |  800  |  56   |  59   | 12.2  | 27    |  7348 | 76    |\n",
       "| Central Washington University | No    |  2785 |  2011 | 1007  |  8    | 65    |  6507 |  898  |  7242 | 3603  | 654   | 1416  |  67   |  89   | 18.1  |  0    |  6413 | 51    |\n",
       "| Arizona State University Main campus | No    | 12809 | 10308 | 3761  | 24    | 49    | 22593 | 7585  |  7434 | 4850  | 700   | 2100  |  88   |  93   | 18.9  |  5    |  4602 | 48    |\n",
       "| Radford University | No    |  5702 |  4894 | 1742  | 15    | 37    |  8077 |  472  |  6684 | 4110  | 500   |  900  |  73   |  83   | 19.6  |  9    |  4519 | 62    |\n",
       "| West Virginia Wesleyan College | Yes   |  1566 |  1400 |  483  | 28    | 55    |  1509 |  170  | 14200 | 3775  | 450   | 1100  |  58   |  81   | 16.4  | 42    |  8080 | 67    |\n",
       "| Brown University | Yes   | 12586 |  3239 | 1462  | 87    | 95    |  5643 |  349  | 19528 | 5926  | 720   | 1100  |  99   | 100   |  7.6  | 39    | 20440 | 97    |\n",
       "| Warren Wilson College | Yes   |   440 |   311 |  112  | 25    | 49    |   466 |    7  | 10000 | 3052  | 400   | 1100  |  65   |  75   | 11.4  | 20    |  9430 | 63    |\n",
       "| Winthrop University | No    |  2320 |  1805 |  769  | 24    | 61    |  3395 |  670  |  6400 | 3392  | 580   | 2150  |  71   |  80   | 12.8  | 26    |  6729 | 59    |\n",
       "| George Washington University | Yes   |  7875 |  5062 | 1492  | 38    | 71    |  5471 | 1470  | 17450 | 6328  | 700   |  950  |  92   |  93   |  7.6  | 15    | 14745 | 72    |\n",
       "\n"
      ],
      "text/plain": [
       "                                        Private Apps  Accept Enroll Top10perc\n",
       "William Jewell College                  Yes       663  547    315   32       \n",
       "Baker University                        Yes       602  483    206   21       \n",
       "University of West Florida              No       1558 1254    472   20       \n",
       "Columbia College                        Yes       737  614    242   21       \n",
       "Christopher Newport University          No        883  766    428    3       \n",
       "St. Martin's College                    Yes       191  165     63    5       \n",
       "SUNY College at Plattsburgh             No       5549 3583    853    9       \n",
       "Milwaukee School of Engineering         Yes      1217 1088    496   36       \n",
       "Fresno Pacific College                  Yes       346  274    146   51       \n",
       "Furman University                       Yes      2161 1951    685   56       \n",
       "Bowling Green State University          No       9251 7333   3076   14       \n",
       "Rockhurst College                       Yes       935  858    345   22       \n",
       "Wellesley College                       Yes      2895 1249    579   80       \n",
       "Denison University                      Yes      2762 2279    533   32       \n",
       "Castleton State College                 No       1257  940    363    9       \n",
       "Western Washington University           No       5548 3563   1549   30       \n",
       "Barry University                        Yes       990  784    279   18       \n",
       "Stetson University                      Yes      1557 1227    489   37       \n",
       "Kansas Wesleyan University              Yes       589  575    148   16       \n",
       "Ohio University                         No      11023 8298   3183   21       \n",
       "Stockton College of New Jersey          No       4019 1579    710   23       \n",
       "Willamette University                   Yes      1658 1327    395   49       \n",
       "Albertson College                       Yes       587  479    158   38       \n",
       "Saint Joseph's College IN               Yes       920  684    225   24       \n",
       "Loras College                           Yes      1641 1283    527   20       \n",
       "Merrimack College                       Yes      1981 1541    514   18       \n",
       "Allegheny College                       Yes      2652 1900    484   44       \n",
       "William Woods University                Yes       469  435    227   17       \n",
       "Wesleyan University                     Yes      4772 1973    712   60       \n",
       "University of Missouri at Columbia      No       6574 4637   2940   32       \n",
       "...                                     ...     ...   ...    ...    ...      \n",
       "Montana State University                No       3500  2836  1779   15       \n",
       "Bryn Mawr College                       Yes      1465   810   313   71       \n",
       "Claflin College                         Yes      1196   697   499   21       \n",
       "Worcester State College                 No       2197  1515   543    4       \n",
       "Massachusetts Institute of Technology   Yes      6411  2140  1078   96       \n",
       "Montana College of Mineral Sci. & Tech. No        572   544   320   45       \n",
       "Jersey City State College               No       2957  1423   691   10       \n",
       "Hope College                            Yes      1712  1483   624   37       \n",
       "Wells College                           Yes       318   240   130   40       \n",
       "Morehouse College                       Yes      3708  1678   722   41       \n",
       "Niagara University                      Yes      2220  1796   467   65       \n",
       "Marian College of Fond du Lac           Yes       824   670   337   15       \n",
       "SUNY College  at Brockport              No       7294  3564   904    7       \n",
       "Gwynedd Mercy College                   Yes       380   237   104   30       \n",
       "Harding University                      Yes      1721  1068   806   35       \n",
       "Gannon University                       Yes      2464  1908   678   24       \n",
       "Saint Francis College IN                Yes       213   166    85   13       \n",
       "Morris College                          Yes       882   730   330    2       \n",
       "University of Hawaii at Manoa           No       3580  2603  1627   36       \n",
       "Tabor College                           Yes       257   183   109   19       \n",
       "American International College          Yes      1420  1093   220    9       \n",
       "Georgian Court College                  Yes       348   281   127   12       \n",
       "Central Washington University           No       2785  2011  1007    8       \n",
       "Arizona State University Main campus    No      12809 10308  3761   24       \n",
       "Radford University                      No       5702  4894  1742   15       \n",
       "West Virginia Wesleyan College          Yes      1566  1400   483   28       \n",
       "Brown University                        Yes     12586  3239  1462   87       \n",
       "Warren Wilson College                   Yes       440   311   112   25       \n",
       "Winthrop University                     No       2320  1805   769   24       \n",
       "George Washington University            Yes      7875  5062  1492   38       \n",
       "                                        Top25perc F.Undergrad P.Undergrad\n",
       "William Jewell College                  67         1279         75       \n",
       "Baker University                        47          958        466       \n",
       "University of West Florida              57         3754       2477       \n",
       "Columbia College                        67          968        237       \n",
       "Christopher Newport University          37         2910       1749       \n",
       "St. Martin's College                    25          494        574       \n",
       "SUNY College at Plattsburgh             40         5004        475       \n",
       "Milwaukee School of Engineering         69         1773        884       \n",
       "Fresno Pacific College                  87          704         63       \n",
       "Furman University                       82         2371        175       \n",
       "Bowling Green State University          45        13699       1213       \n",
       "Rockhurst College                       50         1127        754       \n",
       "Wellesley College                       96         2195        156       \n",
       "Denison University                      60         1835         14       \n",
       "Castleton State College                 22         1547        294       \n",
       "Western Washington University           71         8909        506       \n",
       "Barry University                        45         1811       3144       \n",
       "Stetson University                      69         1964         81       \n",
       "Kansas Wesleyan University              40          474        258       \n",
       "Ohio University                         54        14861       1310       \n",
       "Stockton College of New Jersey          65         4365        765       \n",
       "Willamette University                   80         1595        159       \n",
       "Albertson College                       62          678         41       \n",
       "Saint Joseph's College IN               42          815        222       \n",
       "Loras College                           39         1663        170       \n",
       "Merrimack College                       36         1927       1084       \n",
       "Allegheny College                       77         1707         44       \n",
       "William Woods University                39          851        120       \n",
       "Wesleyan University                     86         2714         27       \n",
       "University of Missouri at Columbia      62        14782       1583       \n",
       "...                                     ...       ...         ...        \n",
       "Montana State University                42         8730        993       \n",
       "Bryn Mawr College                       95         1088         16       \n",
       "Claflin College                         47          959         13       \n",
       "Worcester State College                 26         3089       2029       \n",
       "Massachusetts Institute of Technology   99         4481         28       \n",
       "Montana College of Mineral Sci. & Tech. 72         1470        416       \n",
       "Jersey City State College               30         3817       1394       \n",
       "Hope College                            69         2505        208       \n",
       "Wells College                           85          416         19       \n",
       "Morehouse College                       66         2852        153       \n",
       "Niagara University                      99         1919        334       \n",
       "Marian College of Fond du Lac           41         1160        653       \n",
       "SUNY College  at Brockport              34         5758       1363       \n",
       "Gwynedd Mercy College                   56          716       1108       \n",
       "Harding University                      75         3128        213       \n",
       "Gannon University                       57         2693        691       \n",
       "Saint Francis College IN                36          513        247       \n",
       "Morris College                          13          926         12       \n",
       "University of Hawaii at Manoa           69        11028       2411       \n",
       "Tabor College                           41          396         38       \n",
       "American International College          22         1018        287       \n",
       "Georgian Court College                  52         1095        785       \n",
       "Central Washington University           65         6507        898       \n",
       "Arizona State University Main campus    49        22593       7585       \n",
       "Radford University                      37         8077        472       \n",
       "West Virginia Wesleyan College          55         1509        170       \n",
       "Brown University                        95         5643        349       \n",
       "Warren Wilson College                   49          466          7       \n",
       "Winthrop University                     61         3395        670       \n",
       "George Washington University            71         5471       1470       \n",
       "                                        Outstate Room.Board Books Personal PhD\n",
       "William Jewell College                  10060    2970        500  2600     74 \n",
       "Baker University                         8620    4100        400  2250     58 \n",
       "University of West Florida               6172    3994        541  1387     83 \n",
       "Columbia College                        10425    3975        500  1500     61 \n",
       "Christopher Newport University           7860    4750        525  1889     80 \n",
       "St. Martin's College                    11550    4270        300   500     43 \n",
       "SUNY College at Plattsburgh              6550    4176        600  1380     80 \n",
       "Milwaukee School of Engineering         11505    3255       1000  2075     35 \n",
       "Fresno Pacific College                   9900    3670        630  1818     59 \n",
       "Furman University                       13440    4048        600  1250     92 \n",
       "Bowling Green State University           7452    3352        600  1700     81 \n",
       "Rockhurst College                        9490    4100        500  1500     60 \n",
       "Wellesley College                       18345    5995        500   700     94 \n",
       "Denison University                      16900    4720        500   600     88 \n",
       "Castleton State College                  7656    4690        400   700     89 \n",
       "Western Washington University            8124    4144        639  2385     83 \n",
       "Barry University                        11290    5360        600  1800     76 \n",
       "Stetson University                      12315    4565        600  1365     85 \n",
       "Kansas Wesleyan University               8400    3250        500  1400     63 \n",
       "Ohio University                          7629    4095        550  2300     79 \n",
       "Stockton College of New Jersey           3040    4351        711  1125     78 \n",
       "Willamette University                   14800    4620        400   790     91 \n",
       "Albertson College                       13500    3335        500   675     67 \n",
       "Saint Joseph's College IN               11200    4250        600   950     55 \n",
       "Loras College                           11200    4000        500  1200     61 \n",
       "Merrimack College                       12500    6200        375  1000     73 \n",
       "Allegheny College                       17080    4440        400   600     73 \n",
       "William Woods University                10535    4365        550  3700     39 \n",
       "Wesleyan University                     19130    5600       1400  1400     90 \n",
       "University of Missouri at Columbia       9057    3485        600  1983     87 \n",
       "...                                     ...      ...        ...   ...      ...\n",
       "Montana State University                 5552    3710       550   2300      75\n",
       "Bryn Mawr College                       18165    6750       500   1200     100\n",
       "Claflin College                          4412    2460       500   1000      69\n",
       "Worcester State College                  6797    3900       500   1200      60\n",
       "Massachusetts Institute of Technology   20100    5975       725   1600      99\n",
       "Montana College of Mineral Sci. & Tech.  6073    3400       550   1400      71\n",
       "Jersey City State College                3946    4800       400   1500      63\n",
       "Hope College                            12275    4341       465   1100      72\n",
       "Wells College                           14900    5550       600    500      93\n",
       "Morehouse College                        7050    5490       250    600      71\n",
       "Niagara University                      10320    4762       450    650      68\n",
       "Marian College of Fond du Lac            9400    3400       500   1100      37\n",
       "SUNY College  at Brockport               6550    4460       500    705      79\n",
       "Gwynedd Mercy College                   11000    5550       500    500      36\n",
       "Harding University                       5504    3528       700    910      71\n",
       "Gannon University                       10970    4280       500   1380      47\n",
       "Saint Francis College IN                 8670    3820       450   1000      43\n",
       "Morris College                           4515    2550       850   2100      53\n",
       "University of Hawaii at Manoa            4460    3038       687   1281      85\n",
       "Tabor College                            7850    3410       400   1500      55\n",
       "American International College           8700    4780       450   1400      78\n",
       "Georgian Court College                   9150    3950       500    800      56\n",
       "Central Washington University            7242    3603       654   1416      67\n",
       "Arizona State University Main campus     7434    4850       700   2100      88\n",
       "Radford University                       6684    4110       500    900      73\n",
       "West Virginia Wesleyan College          14200    3775       450   1100      58\n",
       "Brown University                        19528    5926       720   1100      99\n",
       "Warren Wilson College                   10000    3052       400   1100      65\n",
       "Winthrop University                      6400    3392       580   2150      71\n",
       "George Washington University            17450    6328       700    950      92\n",
       "                                        Terminal S.F.Ratio perc.alumni Expend\n",
       "William Jewell College                  80       11.2      19           7885 \n",
       "Baker University                        68       11.0      21           6136 \n",
       "University of West Florida              87       23.4      12           8488 \n",
       "Columbia College                        77       14.7      34           8693 \n",
       "Christopher Newport University          82       21.2      16           4639 \n",
       "St. Martin's College                    77       14.5       8           9209 \n",
       "SUNY College at Plattsburgh             90       17.9      16           6174 \n",
       "Milwaukee School of Engineering         46       16.7      23           7140 \n",
       "Fresno Pacific College                  59       10.5      14           8095 \n",
       "Furman University                       95       13.5      28          12940 \n",
       "Bowling Green State University          89       21.1      14           6918 \n",
       "Rockhurst College                       79       10.7      21           7519 \n",
       "Wellesley College                       98       10.6      51          21409 \n",
       "Denison University                      97       11.6      45          12423 \n",
       "Castleton State College                 91       14.7       8           6318 \n",
       "Western Washington University           89       22.7      10           7203 \n",
       "Barry University                        78       12.6      11           9084 \n",
       "Stetson University                      90       12.5      24          10307 \n",
       "Kansas Wesleyan University              55       12.4      14           6535 \n",
       "Ohio University                         87       20.4      13           8811 \n",
       "Stockton College of New Jersey          92       19.5       7           5599 \n",
       "Willamette University                   94       13.3      37          10779 \n",
       "Albertson College                       73        9.4      11           9727 \n",
       "Saint Joseph's College IN               60       14.8      19           7360 \n",
       "Loras College                           62       14.2      24           7578 \n",
       "Merrimack College                       75       16.8      22           8707 \n",
       "Allegheny College                       91        9.9      41          11711 \n",
       "William Woods University                66       12.9      16           7438 \n",
       "Wesleyan University                     94       12.1      39          16262 \n",
       "University of Missouri at Columbia      87       12.7      15          10145 \n",
       "...                                     ...      ...       ...         ...   \n",
       "Montana State University                 83      17.6       8           6324 \n",
       "Bryn Mawr College                       100      12.3      49          17449 \n",
       "Claflin College                          69      16.9      31           7083 \n",
       "Worcester State College                  60      21.0      14           4469 \n",
       "Massachusetts Institute of Technology    99      10.1      35          33541 \n",
       "Montana College of Mineral Sci. & Tech.  71      16.4      31           6112 \n",
       "Jersey City State College                67      14.9      10           8367 \n",
       "Hope College                             81      12.5      40           9284 \n",
       "Wells College                            98       8.3      42          13935 \n",
       "Morehouse College                        74      17.8      10           8122 \n",
       "Niagara University                      100      14.2      20           7788 \n",
       "Marian College of Fond du Lac            37       8.4      21           5352 \n",
       "SUNY College  at Brockport               83      19.0      14           6632 \n",
       "Gwynedd Mercy College                    41       7.8      22           7483 \n",
       "Harding University                       77      17.7      37           6466 \n",
       "Gannon University                        51      13.3      18           7711 \n",
       "Saint Francis College IN                 78      12.5       4           7440 \n",
       "Morris College                           60      18.6      34           6990 \n",
       "University of Hawaii at Manoa            87      11.8       6          12833 \n",
       "Tabor College                            70      10.0      15           7233 \n",
       "American International College           84      14.7      19           7355 \n",
       "Georgian Court College                   59      12.2      27           7348 \n",
       "Central Washington University            89      18.1       0           6413 \n",
       "Arizona State University Main campus     93      18.9       5           4602 \n",
       "Radford University                       83      19.6       9           4519 \n",
       "West Virginia Wesleyan College           81      16.4      42           8080 \n",
       "Brown University                        100       7.6      39          20440 \n",
       "Warren Wilson College                    75      11.4      20           9430 \n",
       "Winthrop University                      80      12.8      26           6729 \n",
       "George Washington University             93       7.6      15          14745 \n",
       "                                        Grad.Rate\n",
       "William Jewell College                  59       \n",
       "Baker University                        65       \n",
       "University of West Florida              53       \n",
       "Columbia College                        76       \n",
       "Christopher Newport University          48       \n",
       "St. Martin's College                    40       \n",
       "SUNY College at Plattsburgh             65       \n",
       "Milwaukee School of Engineering         67       \n",
       "Fresno Pacific College                  54       \n",
       "Furman University                       82       \n",
       "Bowling Green State University          67       \n",
       "Rockhurst College                       79       \n",
       "Wellesley College                       91       \n",
       "Denison University                      81       \n",
       "Castleton State College                 79       \n",
       "Western Washington University           61       \n",
       "Barry University                        72       \n",
       "Stetson University                      73       \n",
       "Kansas Wesleyan University              68       \n",
       "Ohio University                         64       \n",
       "Stockton College of New Jersey          64       \n",
       "Willamette University                   68       \n",
       "Albertson College                       55       \n",
       "Saint Joseph's College IN               67       \n",
       "Loras College                           70       \n",
       "Merrimack College                       80       \n",
       "Allegheny College                       76       \n",
       "William Woods University                52       \n",
       "Wesleyan University                     92       \n",
       "University of Missouri at Columbia      58       \n",
       "...                                     ...      \n",
       "Montana State University                37       \n",
       "Bryn Mawr College                       89       \n",
       "Claflin College                         21       \n",
       "Worcester State College                 40       \n",
       "Massachusetts Institute of Technology   94       \n",
       "Montana College of Mineral Sci. & Tech. 74       \n",
       "Jersey City State College               26       \n",
       "Hope College                            72       \n",
       "Wells College                           69       \n",
       "Morehouse College                       83       \n",
       "Niagara University                      65       \n",
       "Marian College of Fond du Lac           59       \n",
       "SUNY College  at Brockport              49       \n",
       "Gwynedd Mercy College                   96       \n",
       "Harding University                      73       \n",
       "Gannon University                       65       \n",
       "Saint Francis College IN                48       \n",
       "Morris College                          60       \n",
       "University of Hawaii at Manoa           54       \n",
       "Tabor College                           53       \n",
       "American International College          69       \n",
       "Georgian Court College                  76       \n",
       "Central Washington University           51       \n",
       "Arizona State University Main campus    48       \n",
       "Radford University                      62       \n",
       "West Virginia Wesleyan College          67       \n",
       "Brown University                        97       \n",
       "Warren Wilson College                   63       \n",
       "Winthrop University                     59       \n",
       "George Washington University            72       "
      ]
     },
     "metadata": {},
     "output_type": "display_data"
    },
    {
     "data": {
      "text/html": [
       "<table>\n",
       "<thead><tr><th></th><th scope=col>Private</th><th scope=col>Apps</th><th scope=col>Accept</th><th scope=col>Enroll</th><th scope=col>Top10perc</th><th scope=col>Top25perc</th><th scope=col>F.Undergrad</th><th scope=col>P.Undergrad</th><th scope=col>Outstate</th><th scope=col>Room.Board</th><th scope=col>Books</th><th scope=col>Personal</th><th scope=col>PhD</th><th scope=col>Terminal</th><th scope=col>S.F.Ratio</th><th scope=col>perc.alumni</th><th scope=col>Expend</th><th scope=col>Grad.Rate</th></tr></thead>\n",
       "<tbody>\n",
       "\t<tr><th scope=row>Adelphi University</th><td>Yes  </td><td>2186 </td><td>1924 </td><td> 512 </td><td>16   </td><td>29   </td><td> 2683</td><td>1227 </td><td>12280</td><td>6450 </td><td> 750 </td><td>1500 </td><td>29   </td><td>30   </td><td>12.2 </td><td>16   </td><td>10527</td><td>56   </td></tr>\n",
       "\t<tr><th scope=row>Adrian College</th><td>Yes  </td><td>1428 </td><td>1097 </td><td> 336 </td><td>22   </td><td>50   </td><td> 1036</td><td>  99 </td><td>11250</td><td>3750 </td><td> 400 </td><td>1165 </td><td>53   </td><td>66   </td><td>12.9 </td><td>30   </td><td> 8735</td><td>54   </td></tr>\n",
       "\t<tr><th scope=row>Alaska Pacific University</th><td>Yes  </td><td> 193 </td><td> 146 </td><td>  55 </td><td>16   </td><td>44   </td><td>  249</td><td> 869 </td><td> 7560</td><td>4120 </td><td> 800 </td><td>1500 </td><td>76   </td><td>72   </td><td>11.9 </td><td> 2   </td><td>10922</td><td>15   </td></tr>\n",
       "\t<tr><th scope=row>Albright College</th><td>Yes  </td><td>1038 </td><td> 839 </td><td> 227 </td><td>30   </td><td>63   </td><td>  973</td><td> 306 </td><td>15595</td><td>4400 </td><td> 300 </td><td> 500 </td><td>79   </td><td>84   </td><td>11.3 </td><td>23   </td><td>11644</td><td>80   </td></tr>\n",
       "\t<tr><th scope=row>Alderson-Broaddus College</th><td>Yes  </td><td> 582 </td><td> 498 </td><td> 172 </td><td>21   </td><td>44   </td><td>  799</td><td>  78 </td><td>10468</td><td>3380 </td><td> 660 </td><td>1800 </td><td>40   </td><td>41   </td><td>11.5 </td><td>15   </td><td> 8991</td><td>52   </td></tr>\n",
       "\t<tr><th scope=row>Alfred University</th><td>Yes  </td><td>1732 </td><td>1425 </td><td> 472 </td><td>37   </td><td>75   </td><td> 1830</td><td> 110 </td><td>16548</td><td>5406 </td><td> 500 </td><td> 600 </td><td>82   </td><td>88   </td><td>11.3 </td><td>31   </td><td>10932</td><td>73   </td></tr>\n",
       "\t<tr><th scope=row>Allentown Coll. of St. Francis de Sales</th><td>Yes  </td><td>1179 </td><td> 780 </td><td> 290 </td><td>38   </td><td>64   </td><td> 1130</td><td> 638 </td><td> 9690</td><td>4785 </td><td> 600 </td><td>1000 </td><td>60   </td><td>84   </td><td>13.3 </td><td>21   </td><td> 7940</td><td>74   </td></tr>\n",
       "\t<tr><th scope=row>Alma College</th><td>Yes  </td><td>1267 </td><td>1080 </td><td> 385 </td><td>44   </td><td>73   </td><td> 1306</td><td>  28 </td><td>12572</td><td>4552 </td><td> 400 </td><td> 400 </td><td>79   </td><td>87   </td><td>15.3 </td><td>32   </td><td> 9305</td><td>68   </td></tr>\n",
       "\t<tr><th scope=row>Angelo State University</th><td>No   </td><td>3540 </td><td>2001 </td><td>1016 </td><td>24   </td><td>54   </td><td> 4190</td><td>1512 </td><td> 5130</td><td>3592 </td><td> 500 </td><td>2000 </td><td>60   </td><td>62   </td><td>23.1 </td><td> 5   </td><td> 4010</td><td>34   </td></tr>\n",
       "\t<tr><th scope=row>Appalachian State University</th><td>No   </td><td>7313 </td><td>4664 </td><td>1910 </td><td>20   </td><td>63   </td><td> 9940</td><td>1035 </td><td> 6806</td><td>2540 </td><td>  96 </td><td>2000 </td><td>83   </td><td>96   </td><td>18.3 </td><td>14   </td><td> 5854</td><td>70   </td></tr>\n",
       "\t<tr><th scope=row>Aquinas College</th><td>Yes  </td><td> 619 </td><td> 516 </td><td> 219 </td><td>20   </td><td>51   </td><td> 1251</td><td> 767 </td><td>11208</td><td>4124 </td><td> 350 </td><td>1615 </td><td>55   </td><td>65   </td><td>12.7 </td><td>25   </td><td> 6584</td><td>65   </td></tr>\n",
       "\t<tr><th scope=row>Assumption College</th><td>Yes  </td><td>2135 </td><td>1700 </td><td> 491 </td><td>23   </td><td>59   </td><td> 1708</td><td> 689 </td><td>12000</td><td>5920 </td><td> 500 </td><td> 500 </td><td>93   </td><td>93   </td><td>13.8 </td><td>30   </td><td> 7100</td><td>88   </td></tr>\n",
       "\t<tr><th scope=row>Auburn University-Main Campus</th><td>No   </td><td>7548 </td><td>6791 </td><td>3070 </td><td>25   </td><td>57   </td><td>16262</td><td>1716 </td><td> 6300</td><td>3933 </td><td> 600 </td><td>1908 </td><td>85   </td><td>91   </td><td>16.7 </td><td>18   </td><td> 6642</td><td>69   </td></tr>\n",
       "\t<tr><th scope=row>Augsburg College</th><td>Yes  </td><td> 662 </td><td> 513 </td><td> 257 </td><td>12   </td><td>30   </td><td> 2074</td><td> 726 </td><td>11902</td><td>4372 </td><td> 540 </td><td> 950 </td><td>65   </td><td>65   </td><td>12.8 </td><td>31   </td><td> 7836</td><td>58   </td></tr>\n",
       "\t<tr><th scope=row>Augustana College IL</th><td>Yes  </td><td>1879 </td><td>1658 </td><td> 497 </td><td>36   </td><td>69   </td><td> 1950</td><td>  38 </td><td>13353</td><td>4173 </td><td> 540 </td><td> 821 </td><td>78   </td><td>83   </td><td>12.7 </td><td>40   </td><td> 9220</td><td>71   </td></tr>\n",
       "\t<tr><th scope=row>Augustana College</th><td>Yes  </td><td> 761 </td><td> 725 </td><td> 306 </td><td>21   </td><td>58   </td><td> 1337</td><td> 300 </td><td>10990</td><td>3244 </td><td> 600 </td><td>1021 </td><td>66   </td><td>70   </td><td>10.4 </td><td>30   </td><td> 6871</td><td>69   </td></tr>\n",
       "\t<tr><th scope=row>Averett College</th><td>Yes  </td><td> 627 </td><td> 556 </td><td> 172 </td><td>16   </td><td>40   </td><td>  777</td><td> 538 </td><td> 9925</td><td>4135 </td><td> 750 </td><td>1350 </td><td>59   </td><td>67   </td><td>22.4 </td><td>11   </td><td> 6523</td><td>48   </td></tr>\n",
       "\t<tr><th scope=row>Baldwin-Wallace College</th><td>Yes  </td><td>1690 </td><td>1366 </td><td> 662 </td><td>30   </td><td>61   </td><td> 2718</td><td>1460 </td><td>10995</td><td>4410 </td><td>1000 </td><td>1000 </td><td>68   </td><td>74   </td><td>17.6 </td><td>20   </td><td> 8086</td><td>85   </td></tr>\n",
       "\t<tr><th scope=row>Barat College</th><td>Yes  </td><td> 261 </td><td> 192 </td><td> 111 </td><td>15   </td><td>36   </td><td>  453</td><td> 266 </td><td> 9690</td><td>4300 </td><td> 500 </td><td> 500 </td><td>57   </td><td>77   </td><td> 9.7 </td><td>35   </td><td> 9337</td><td>71   </td></tr>\n",
       "\t<tr><th scope=row>Bard College</th><td>Yes  </td><td>1910 </td><td> 838 </td><td> 285 </td><td>50   </td><td>85   </td><td> 1004</td><td>  15 </td><td>19264</td><td>6206 </td><td> 750 </td><td> 750 </td><td>98   </td><td>98   </td><td>10.4 </td><td>30   </td><td>13894</td><td>79   </td></tr>\n",
       "\t<tr><th scope=row>Beaver College</th><td>Yes  </td><td>1163 </td><td> 850 </td><td> 348 </td><td>23   </td><td>56   </td><td>  878</td><td> 519 </td><td>12850</td><td>5400 </td><td> 400 </td><td> 800 </td><td>78   </td><td>89   </td><td>12.2 </td><td>30   </td><td> 8954</td><td>73   </td></tr>\n",
       "\t<tr><th scope=row>Bellarmine College</th><td>Yes  </td><td> 807 </td><td> 707 </td><td> 308 </td><td>39   </td><td>63   </td><td> 1198</td><td> 605 </td><td> 8840</td><td>2950 </td><td> 750 </td><td>1290 </td><td>74   </td><td>82   </td><td>13.1 </td><td>31   </td><td> 6668</td><td>84   </td></tr>\n",
       "\t<tr><th scope=row>Belmont Abbey College</th><td>Yes  </td><td> 632 </td><td> 494 </td><td> 129 </td><td>17   </td><td>36   </td><td>  709</td><td> 131 </td><td> 9000</td><td>4850 </td><td> 300 </td><td>2480 </td><td>78   </td><td>85   </td><td>13.2 </td><td>10   </td><td> 7550</td><td>52   </td></tr>\n",
       "\t<tr><th scope=row>Belmont University</th><td>Yes  </td><td>1220 </td><td> 974 </td><td> 481 </td><td>28   </td><td>67   </td><td> 1964</td><td> 623 </td><td> 7800</td><td>3664 </td><td> 650 </td><td> 900 </td><td>61   </td><td>61   </td><td>11.1 </td><td>19   </td><td> 7614</td><td>49   </td></tr>\n",
       "\t<tr><th scope=row>Beloit College</th><td>Yes  </td><td>1320 </td><td> 923 </td><td> 284 </td><td>26   </td><td>54   </td><td> 1085</td><td>  81 </td><td>16304</td><td>3616 </td><td> 355 </td><td> 715 </td><td>87   </td><td>95   </td><td>11.1 </td><td>26   </td><td>12957</td><td>69   </td></tr>\n",
       "\t<tr><th scope=row>Benedictine College</th><td>Yes  </td><td> 632 </td><td> 620 </td><td> 222 </td><td>14   </td><td>24   </td><td>  702</td><td> 501 </td><td> 9550</td><td>3850 </td><td> 350 </td><td> 250 </td><td>64   </td><td>84   </td><td>14.1 </td><td>18   </td><td> 5922</td><td>58   </td></tr>\n",
       "\t<tr><th scope=row>Bennington College</th><td>Yes  </td><td> 519 </td><td> 327 </td><td> 114 </td><td>25   </td><td>53   </td><td>  457</td><td>   2 </td><td>21700</td><td>4100 </td><td> 600 </td><td> 500 </td><td>35   </td><td>59   </td><td>10.1 </td><td>33   </td><td>16364</td><td>55   </td></tr>\n",
       "\t<tr><th scope=row>Bethany College</th><td>Yes  </td><td> 878 </td><td> 816 </td><td> 200 </td><td>16   </td><td>41   </td><td>  706</td><td>  62 </td><td> 8740</td><td>3363 </td><td> 550 </td><td>1700 </td><td>62   </td><td>68   </td><td>11.6 </td><td>29   </td><td> 7718</td><td>48   </td></tr>\n",
       "\t<tr><th scope=row>Bethel College</th><td>Yes  </td><td> 502 </td><td> 384 </td><td> 104 </td><td>11   </td><td>28   </td><td>  347</td><td>  74 </td><td> 6200</td><td>2900 </td><td> 600 </td><td> 800 </td><td>63   </td><td>63   </td><td>11.7 </td><td>13   </td><td> 7623</td><td>35   </td></tr>\n",
       "\t<tr><th scope=row>Birmingham-Southern College</th><td>Yes  </td><td> 805 </td><td> 588 </td><td> 287 </td><td>67   </td><td>88   </td><td> 1376</td><td> 207 </td><td>11660</td><td>4325 </td><td> 400 </td><td> 900 </td><td>74   </td><td>79   </td><td>14.0 </td><td>34   </td><td> 8649</td><td>72   </td></tr>\n",
       "\t<tr><th scope=row>...</th><td>...</td><td>...</td><td>...</td><td>...</td><td>...</td><td>...</td><td>...</td><td>...</td><td>...</td><td>...</td><td>...</td><td>...</td><td>...</td><td>...</td><td>...</td><td>...</td><td>...</td><td>...</td></tr>\n",
       "\t<tr><th scope=row>Villanova University</th><td>Yes  </td><td> 7759</td><td> 5588</td><td>1477 </td><td>30   </td><td>68   </td><td> 6362</td><td>1292 </td><td>15925</td><td>6507 </td><td>400  </td><td> 300 </td><td>89   </td><td>90   </td><td>13.4 </td><td>24   </td><td>10458</td><td>96   </td></tr>\n",
       "\t<tr><th scope=row>Virginia Commonwealth University</th><td>No   </td><td> 4963</td><td> 3497</td><td>1567 </td><td>18   </td><td>45   </td><td>10262</td><td>5065 </td><td>10217</td><td>4182 </td><td>500  </td><td>3630 </td><td>81   </td><td>87   </td><td> 8.7 </td><td>11   </td><td>11183</td><td>45   </td></tr>\n",
       "\t<tr><th scope=row>Virginia State University</th><td>No   </td><td> 2996</td><td> 2440</td><td> 704 </td><td> 2   </td><td>30   </td><td> 3006</td><td> 338 </td><td> 5587</td><td>4845 </td><td>500  </td><td> 600 </td><td>61   </td><td>63   </td><td>16.0 </td><td>11   </td><td> 5733</td><td>31   </td></tr>\n",
       "\t<tr><th scope=row>Virginia Tech</th><td>No   </td><td>15712</td><td>11719</td><td>4277 </td><td>29   </td><td>53   </td><td>18511</td><td> 604 </td><td>10260</td><td>3176 </td><td>740  </td><td>2200 </td><td>85   </td><td>89   </td><td>13.8 </td><td>20   </td><td> 8944</td><td>73   </td></tr>\n",
       "\t<tr><th scope=row>Viterbo College</th><td>Yes  </td><td>  647</td><td>  518</td><td> 271 </td><td>17   </td><td>43   </td><td> 1014</td><td> 387 </td><td> 9140</td><td>3365 </td><td>500  </td><td>2245 </td><td>51   </td><td>65   </td><td>10.7 </td><td>31   </td><td> 8050</td><td>73   </td></tr>\n",
       "\t<tr><th scope=row>Wabash College</th><td>Yes  </td><td>  800</td><td>  623</td><td> 256 </td><td>41   </td><td>76   </td><td>  801</td><td>   5 </td><td>12925</td><td>4195 </td><td>500  </td><td> 635 </td><td>78   </td><td>85   </td><td> 9.9 </td><td>55   </td><td>14904</td><td>72   </td></tr>\n",
       "\t<tr><th scope=row>Wake Forest University</th><td>Yes  </td><td> 5661</td><td> 2392</td><td> 903 </td><td>75   </td><td>88   </td><td> 3499</td><td> 172 </td><td>13850</td><td>4360 </td><td>500  </td><td>1250 </td><td>95   </td><td>97   </td><td> 4.3 </td><td>37   </td><td>41766</td><td>89   </td></tr>\n",
       "\t<tr><th scope=row>Washington and Lee University</th><td>Yes  </td><td> 3315</td><td> 1096</td><td> 425 </td><td>68   </td><td>93   </td><td> 1584</td><td>   3 </td><td>13750</td><td>4619 </td><td>680  </td><td>1115 </td><td>81   </td><td>96   </td><td> 9.6 </td><td>45   </td><td>15736</td><td>90   </td></tr>\n",
       "\t<tr><th scope=row>Washington College</th><td>Yes  </td><td> 1209</td><td>  942</td><td> 214 </td><td>31   </td><td>60   </td><td>  822</td><td>  46 </td><td>15276</td><td>5318 </td><td>500  </td><td> 300 </td><td>79   </td><td>86   </td><td>11.2 </td><td>37   </td><td>10830</td><td>65   </td></tr>\n",
       "\t<tr><th scope=row>Washington State University</th><td>No   </td><td> 6540</td><td> 5839</td><td>2440 </td><td>31   </td><td>70   </td><td>14445</td><td>1344 </td><td> 8200</td><td>4210 </td><td>800  </td><td>2719 </td><td>84   </td><td>87   </td><td>16.9 </td><td>30   </td><td>10912</td><td>56   </td></tr>\n",
       "\t<tr><th scope=row>Wayne State College</th><td>No   </td><td> 1373</td><td> 1373</td><td> 724 </td><td> 6   </td><td>21   </td><td> 2754</td><td> 474 </td><td> 2700</td><td>2660 </td><td>540  </td><td>1660 </td><td>60   </td><td>68   </td><td>20.3 </td><td>29   </td><td> 4550</td><td>52   </td></tr>\n",
       "\t<tr><th scope=row>Waynesburg College</th><td>Yes  </td><td> 1190</td><td>  978</td><td> 324 </td><td>12   </td><td>30   </td><td> 1280</td><td>  61 </td><td> 8840</td><td>3620 </td><td>500  </td><td>1200 </td><td>57   </td><td>58   </td><td>16.2 </td><td>26   </td><td> 6563</td><td>63   </td></tr>\n",
       "\t<tr><th scope=row>Webster University</th><td>Yes  </td><td>  665</td><td>  462</td><td> 226 </td><td>17   </td><td>44   </td><td> 1739</td><td>1550 </td><td> 9160</td><td>4340 </td><td>500  </td><td> 500 </td><td>68   </td><td>68   </td><td>20.6 </td><td>14   </td><td> 6951</td><td>48   </td></tr>\n",
       "\t<tr><th scope=row>Wentworth Institute of Technology</th><td>Yes  </td><td> 1480</td><td> 1257</td><td> 452 </td><td> 6   </td><td>25   </td><td> 2961</td><td> 572 </td><td> 9850</td><td>6050 </td><td>850  </td><td> 920 </td><td>10   </td><td>68   </td><td>15.4 </td><td> 8   </td><td>17858</td><td>64   </td></tr>\n",
       "\t<tr><th scope=row>West Liberty State College</th><td>No   </td><td> 1164</td><td> 1062</td><td> 478 </td><td>12   </td><td>25   </td><td> 2138</td><td> 227 </td><td> 4470</td><td>2890 </td><td>600  </td><td>1210 </td><td>33   </td><td>33   </td><td>16.3 </td><td>10   </td><td> 4249</td><td>60   </td></tr>\n",
       "\t<tr><th scope=row>Western Michigan University</th><td>No   </td><td> 9167</td><td> 7191</td><td>2738 </td><td>24   </td><td>53   </td><td>15739</td><td>4278 </td><td> 6940</td><td>4100 </td><td>500  </td><td>1700 </td><td>80   </td><td>84   </td><td>24.7 </td><td>11   </td><td> 5983</td><td>55   </td></tr>\n",
       "\t<tr><th scope=row>Western New England College</th><td>Yes  </td><td> 1650</td><td> 1471</td><td> 409 </td><td> 7   </td><td>21   </td><td> 1803</td><td>1116 </td><td> 8994</td><td>5500 </td><td>498  </td><td>2065 </td><td>74   </td><td>97   </td><td>15.4 </td><td>15   </td><td> 8409</td><td>59   </td></tr>\n",
       "\t<tr><th scope=row>Western State College of Colorado</th><td>No   </td><td> 2702</td><td> 1623</td><td> 604 </td><td> 7   </td><td>24   </td><td> 2315</td><td> 146 </td><td> 5918</td><td>3755 </td><td>500  </td><td>2050 </td><td>76   </td><td>79   </td><td>19.4 </td><td> 4   </td><td> 4599</td><td>52   </td></tr>\n",
       "\t<tr><th scope=row>Westminster College of Salt Lake City</th><td>Yes  </td><td>  917</td><td>  720</td><td> 213 </td><td>21   </td><td>60   </td><td>  979</td><td> 743 </td><td> 8820</td><td>4050 </td><td>600  </td><td>2025 </td><td>68   </td><td>83   </td><td>10.5 </td><td>34   </td><td> 7170</td><td>50   </td></tr>\n",
       "\t<tr><th scope=row>Wheaton College IL</th><td>Yes  </td><td> 1432</td><td>  920</td><td> 548 </td><td>56   </td><td>84   </td><td> 2200</td><td>  56 </td><td>11480</td><td>4200 </td><td>530  </td><td>1400 </td><td>81   </td><td>83   </td><td>12.7 </td><td>40   </td><td>11916</td><td>85   </td></tr>\n",
       "\t<tr><th scope=row>Westminster College PA</th><td>Yes  </td><td> 1738</td><td> 1373</td><td> 417 </td><td>21   </td><td>55   </td><td> 1335</td><td>  30 </td><td>18460</td><td>5970 </td><td>700  </td><td> 850 </td><td>92   </td><td>96   </td><td>13.2 </td><td>41   </td><td>22704</td><td>71   </td></tr>\n",
       "\t<tr><th scope=row>Whittier College</th><td>Yes  </td><td> 1681</td><td> 1069</td><td> 344 </td><td>35   </td><td>63   </td><td> 1235</td><td>  30 </td><td>16249</td><td>5699 </td><td>500  </td><td>1998 </td><td>84   </td><td>92   </td><td>13.6 </td><td>29   </td><td>11778</td><td>52   </td></tr>\n",
       "\t<tr><th scope=row>Whitworth College</th><td>Yes  </td><td> 1121</td><td>  926</td><td> 372 </td><td>43   </td><td>70   </td><td> 1270</td><td> 160 </td><td>12660</td><td>4500 </td><td>678  </td><td>2424 </td><td>80   </td><td>80   </td><td>16.9 </td><td>20   </td><td> 8328</td><td>80   </td></tr>\n",
       "\t<tr><th scope=row>Widener University</th><td>Yes  </td><td> 2139</td><td> 1492</td><td> 502 </td><td>24   </td><td>64   </td><td> 2186</td><td>2171 </td><td>12350</td><td>5370 </td><td>500  </td><td>1350 </td><td>88   </td><td>86   </td><td>12.6 </td><td>19   </td><td> 9603</td><td>63   </td></tr>\n",
       "\t<tr><th scope=row>Wilkes University</th><td>Yes  </td><td> 1631</td><td> 1431</td><td> 434 </td><td>15   </td><td>36   </td><td> 1803</td><td> 603 </td><td>11150</td><td>5130 </td><td>550  </td><td>1260 </td><td>78   </td><td>92   </td><td>13.3 </td><td>24   </td><td> 8543</td><td>67   </td></tr>\n",
       "\t<tr><th scope=row>Wilson College</th><td>Yes  </td><td>  167</td><td>  130</td><td>  46 </td><td>16   </td><td>50   </td><td>  199</td><td> 676 </td><td>11428</td><td>5084 </td><td>450  </td><td> 475 </td><td>67   </td><td>76   </td><td> 8.3 </td><td>43   </td><td>10291</td><td>67   </td></tr>\n",
       "\t<tr><th scope=row>Wingate College</th><td>Yes  </td><td> 1239</td><td> 1017</td><td> 383 </td><td>10   </td><td>34   </td><td> 1207</td><td> 157 </td><td> 7820</td><td>3400 </td><td>550  </td><td>1550 </td><td>69   </td><td>81   </td><td>13.9 </td><td> 8   </td><td> 7264</td><td>91   </td></tr>\n",
       "\t<tr><th scope=row>Winona State University</th><td>No   </td><td> 3325</td><td> 2047</td><td>1301 </td><td>20   </td><td>45   </td><td> 5800</td><td> 872 </td><td> 4200</td><td>2700 </td><td>300  </td><td>1200 </td><td>53   </td><td>60   </td><td>20.2 </td><td>18   </td><td> 5318</td><td>58   </td></tr>\n",
       "\t<tr><th scope=row>Wisconsin Lutheran College</th><td>Yes  </td><td>  152</td><td>  128</td><td>  75 </td><td>17   </td><td>41   </td><td>  282</td><td>  22 </td><td> 9100</td><td>3700 </td><td>500  </td><td>1400 </td><td>48   </td><td>48   </td><td> 8.5 </td><td>26   </td><td> 8960</td><td>50   </td></tr>\n",
       "\t<tr><th scope=row>Wittenberg University</th><td>Yes  </td><td> 1979</td><td> 1739</td><td> 575 </td><td>42   </td><td>68   </td><td> 1980</td><td> 144 </td><td>15948</td><td>4404 </td><td>400  </td><td> 800 </td><td>82   </td><td>95   </td><td>12.8 </td><td>29   </td><td>10414</td><td>78   </td></tr>\n",
       "</tbody>\n",
       "</table>\n"
      ],
      "text/latex": [
       "\\begin{tabular}{r|llllllllllllllllll}\n",
       "  & Private & Apps & Accept & Enroll & Top10perc & Top25perc & F.Undergrad & P.Undergrad & Outstate & Room.Board & Books & Personal & PhD & Terminal & S.F.Ratio & perc.alumni & Expend & Grad.Rate\\\\\n",
       "\\hline\n",
       "\tAdelphi University & Yes   & 2186  & 1924  &  512  & 16    & 29    &  2683 & 1227  & 12280 & 6450  &  750  & 1500  & 29    & 30    & 12.2  & 16    & 10527 & 56   \\\\\n",
       "\tAdrian College & Yes   & 1428  & 1097  &  336  & 22    & 50    &  1036 &   99  & 11250 & 3750  &  400  & 1165  & 53    & 66    & 12.9  & 30    &  8735 & 54   \\\\\n",
       "\tAlaska Pacific University & Yes   &  193  &  146  &   55  & 16    & 44    &   249 &  869  &  7560 & 4120  &  800  & 1500  & 76    & 72    & 11.9  &  2    & 10922 & 15   \\\\\n",
       "\tAlbright College & Yes   & 1038  &  839  &  227  & 30    & 63    &   973 &  306  & 15595 & 4400  &  300  &  500  & 79    & 84    & 11.3  & 23    & 11644 & 80   \\\\\n",
       "\tAlderson-Broaddus College & Yes   &  582  &  498  &  172  & 21    & 44    &   799 &   78  & 10468 & 3380  &  660  & 1800  & 40    & 41    & 11.5  & 15    &  8991 & 52   \\\\\n",
       "\tAlfred University & Yes   & 1732  & 1425  &  472  & 37    & 75    &  1830 &  110  & 16548 & 5406  &  500  &  600  & 82    & 88    & 11.3  & 31    & 10932 & 73   \\\\\n",
       "\tAllentown Coll. of St. Francis de Sales & Yes   & 1179  &  780  &  290  & 38    & 64    &  1130 &  638  &  9690 & 4785  &  600  & 1000  & 60    & 84    & 13.3  & 21    &  7940 & 74   \\\\\n",
       "\tAlma College & Yes   & 1267  & 1080  &  385  & 44    & 73    &  1306 &   28  & 12572 & 4552  &  400  &  400  & 79    & 87    & 15.3  & 32    &  9305 & 68   \\\\\n",
       "\tAngelo State University & No    & 3540  & 2001  & 1016  & 24    & 54    &  4190 & 1512  &  5130 & 3592  &  500  & 2000  & 60    & 62    & 23.1  &  5    &  4010 & 34   \\\\\n",
       "\tAppalachian State University & No    & 7313  & 4664  & 1910  & 20    & 63    &  9940 & 1035  &  6806 & 2540  &   96  & 2000  & 83    & 96    & 18.3  & 14    &  5854 & 70   \\\\\n",
       "\tAquinas College & Yes   &  619  &  516  &  219  & 20    & 51    &  1251 &  767  & 11208 & 4124  &  350  & 1615  & 55    & 65    & 12.7  & 25    &  6584 & 65   \\\\\n",
       "\tAssumption College & Yes   & 2135  & 1700  &  491  & 23    & 59    &  1708 &  689  & 12000 & 5920  &  500  &  500  & 93    & 93    & 13.8  & 30    &  7100 & 88   \\\\\n",
       "\tAuburn University-Main Campus & No    & 7548  & 6791  & 3070  & 25    & 57    & 16262 & 1716  &  6300 & 3933  &  600  & 1908  & 85    & 91    & 16.7  & 18    &  6642 & 69   \\\\\n",
       "\tAugsburg College & Yes   &  662  &  513  &  257  & 12    & 30    &  2074 &  726  & 11902 & 4372  &  540  &  950  & 65    & 65    & 12.8  & 31    &  7836 & 58   \\\\\n",
       "\tAugustana College IL & Yes   & 1879  & 1658  &  497  & 36    & 69    &  1950 &   38  & 13353 & 4173  &  540  &  821  & 78    & 83    & 12.7  & 40    &  9220 & 71   \\\\\n",
       "\tAugustana College & Yes   &  761  &  725  &  306  & 21    & 58    &  1337 &  300  & 10990 & 3244  &  600  & 1021  & 66    & 70    & 10.4  & 30    &  6871 & 69   \\\\\n",
       "\tAverett College & Yes   &  627  &  556  &  172  & 16    & 40    &   777 &  538  &  9925 & 4135  &  750  & 1350  & 59    & 67    & 22.4  & 11    &  6523 & 48   \\\\\n",
       "\tBaldwin-Wallace College & Yes   & 1690  & 1366  &  662  & 30    & 61    &  2718 & 1460  & 10995 & 4410  & 1000  & 1000  & 68    & 74    & 17.6  & 20    &  8086 & 85   \\\\\n",
       "\tBarat College & Yes   &  261  &  192  &  111  & 15    & 36    &   453 &  266  &  9690 & 4300  &  500  &  500  & 57    & 77    &  9.7  & 35    &  9337 & 71   \\\\\n",
       "\tBard College & Yes   & 1910  &  838  &  285  & 50    & 85    &  1004 &   15  & 19264 & 6206  &  750  &  750  & 98    & 98    & 10.4  & 30    & 13894 & 79   \\\\\n",
       "\tBeaver College & Yes   & 1163  &  850  &  348  & 23    & 56    &   878 &  519  & 12850 & 5400  &  400  &  800  & 78    & 89    & 12.2  & 30    &  8954 & 73   \\\\\n",
       "\tBellarmine College & Yes   &  807  &  707  &  308  & 39    & 63    &  1198 &  605  &  8840 & 2950  &  750  & 1290  & 74    & 82    & 13.1  & 31    &  6668 & 84   \\\\\n",
       "\tBelmont Abbey College & Yes   &  632  &  494  &  129  & 17    & 36    &   709 &  131  &  9000 & 4850  &  300  & 2480  & 78    & 85    & 13.2  & 10    &  7550 & 52   \\\\\n",
       "\tBelmont University & Yes   & 1220  &  974  &  481  & 28    & 67    &  1964 &  623  &  7800 & 3664  &  650  &  900  & 61    & 61    & 11.1  & 19    &  7614 & 49   \\\\\n",
       "\tBeloit College & Yes   & 1320  &  923  &  284  & 26    & 54    &  1085 &   81  & 16304 & 3616  &  355  &  715  & 87    & 95    & 11.1  & 26    & 12957 & 69   \\\\\n",
       "\tBenedictine College & Yes   &  632  &  620  &  222  & 14    & 24    &   702 &  501  &  9550 & 3850  &  350  &  250  & 64    & 84    & 14.1  & 18    &  5922 & 58   \\\\\n",
       "\tBennington College & Yes   &  519  &  327  &  114  & 25    & 53    &   457 &    2  & 21700 & 4100  &  600  &  500  & 35    & 59    & 10.1  & 33    & 16364 & 55   \\\\\n",
       "\tBethany College & Yes   &  878  &  816  &  200  & 16    & 41    &   706 &   62  &  8740 & 3363  &  550  & 1700  & 62    & 68    & 11.6  & 29    &  7718 & 48   \\\\\n",
       "\tBethel College & Yes   &  502  &  384  &  104  & 11    & 28    &   347 &   74  &  6200 & 2900  &  600  &  800  & 63    & 63    & 11.7  & 13    &  7623 & 35   \\\\\n",
       "\tBirmingham-Southern College & Yes   &  805  &  588  &  287  & 67    & 88    &  1376 &  207  & 11660 & 4325  &  400  &  900  & 74    & 79    & 14.0  & 34    &  8649 & 72   \\\\\n",
       "\t... & ... & ... & ... & ... & ... & ... & ... & ... & ... & ... & ... & ... & ... & ... & ... & ... & ... & ...\\\\\n",
       "\tVillanova University & Yes   &  7759 &  5588 & 1477  & 30    & 68    &  6362 & 1292  & 15925 & 6507  & 400   &  300  & 89    & 90    & 13.4  & 24    & 10458 & 96   \\\\\n",
       "\tVirginia Commonwealth University & No    &  4963 &  3497 & 1567  & 18    & 45    & 10262 & 5065  & 10217 & 4182  & 500   & 3630  & 81    & 87    &  8.7  & 11    & 11183 & 45   \\\\\n",
       "\tVirginia State University & No    &  2996 &  2440 &  704  &  2    & 30    &  3006 &  338  &  5587 & 4845  & 500   &  600  & 61    & 63    & 16.0  & 11    &  5733 & 31   \\\\\n",
       "\tVirginia Tech & No    & 15712 & 11719 & 4277  & 29    & 53    & 18511 &  604  & 10260 & 3176  & 740   & 2200  & 85    & 89    & 13.8  & 20    &  8944 & 73   \\\\\n",
       "\tViterbo College & Yes   &   647 &   518 &  271  & 17    & 43    &  1014 &  387  &  9140 & 3365  & 500   & 2245  & 51    & 65    & 10.7  & 31    &  8050 & 73   \\\\\n",
       "\tWabash College & Yes   &   800 &   623 &  256  & 41    & 76    &   801 &    5  & 12925 & 4195  & 500   &  635  & 78    & 85    &  9.9  & 55    & 14904 & 72   \\\\\n",
       "\tWake Forest University & Yes   &  5661 &  2392 &  903  & 75    & 88    &  3499 &  172  & 13850 & 4360  & 500   & 1250  & 95    & 97    &  4.3  & 37    & 41766 & 89   \\\\\n",
       "\tWashington and Lee University & Yes   &  3315 &  1096 &  425  & 68    & 93    &  1584 &    3  & 13750 & 4619  & 680   & 1115  & 81    & 96    &  9.6  & 45    & 15736 & 90   \\\\\n",
       "\tWashington College & Yes   &  1209 &   942 &  214  & 31    & 60    &   822 &   46  & 15276 & 5318  & 500   &  300  & 79    & 86    & 11.2  & 37    & 10830 & 65   \\\\\n",
       "\tWashington State University & No    &  6540 &  5839 & 2440  & 31    & 70    & 14445 & 1344  &  8200 & 4210  & 800   & 2719  & 84    & 87    & 16.9  & 30    & 10912 & 56   \\\\\n",
       "\tWayne State College & No    &  1373 &  1373 &  724  &  6    & 21    &  2754 &  474  &  2700 & 2660  & 540   & 1660  & 60    & 68    & 20.3  & 29    &  4550 & 52   \\\\\n",
       "\tWaynesburg College & Yes   &  1190 &   978 &  324  & 12    & 30    &  1280 &   61  &  8840 & 3620  & 500   & 1200  & 57    & 58    & 16.2  & 26    &  6563 & 63   \\\\\n",
       "\tWebster University & Yes   &   665 &   462 &  226  & 17    & 44    &  1739 & 1550  &  9160 & 4340  & 500   &  500  & 68    & 68    & 20.6  & 14    &  6951 & 48   \\\\\n",
       "\tWentworth Institute of Technology & Yes   &  1480 &  1257 &  452  &  6    & 25    &  2961 &  572  &  9850 & 6050  & 850   &  920  & 10    & 68    & 15.4  &  8    & 17858 & 64   \\\\\n",
       "\tWest Liberty State College & No    &  1164 &  1062 &  478  & 12    & 25    &  2138 &  227  &  4470 & 2890  & 600   & 1210  & 33    & 33    & 16.3  & 10    &  4249 & 60   \\\\\n",
       "\tWestern Michigan University & No    &  9167 &  7191 & 2738  & 24    & 53    & 15739 & 4278  &  6940 & 4100  & 500   & 1700  & 80    & 84    & 24.7  & 11    &  5983 & 55   \\\\\n",
       "\tWestern New England College & Yes   &  1650 &  1471 &  409  &  7    & 21    &  1803 & 1116  &  8994 & 5500  & 498   & 2065  & 74    & 97    & 15.4  & 15    &  8409 & 59   \\\\\n",
       "\tWestern State College of Colorado & No    &  2702 &  1623 &  604  &  7    & 24    &  2315 &  146  &  5918 & 3755  & 500   & 2050  & 76    & 79    & 19.4  &  4    &  4599 & 52   \\\\\n",
       "\tWestminster College of Salt Lake City & Yes   &   917 &   720 &  213  & 21    & 60    &   979 &  743  &  8820 & 4050  & 600   & 2025  & 68    & 83    & 10.5  & 34    &  7170 & 50   \\\\\n",
       "\tWheaton College IL & Yes   &  1432 &   920 &  548  & 56    & 84    &  2200 &   56  & 11480 & 4200  & 530   & 1400  & 81    & 83    & 12.7  & 40    & 11916 & 85   \\\\\n",
       "\tWestminster College PA & Yes   &  1738 &  1373 &  417  & 21    & 55    &  1335 &   30  & 18460 & 5970  & 700   &  850  & 92    & 96    & 13.2  & 41    & 22704 & 71   \\\\\n",
       "\tWhittier College & Yes   &  1681 &  1069 &  344  & 35    & 63    &  1235 &   30  & 16249 & 5699  & 500   & 1998  & 84    & 92    & 13.6  & 29    & 11778 & 52   \\\\\n",
       "\tWhitworth College & Yes   &  1121 &   926 &  372  & 43    & 70    &  1270 &  160  & 12660 & 4500  & 678   & 2424  & 80    & 80    & 16.9  & 20    &  8328 & 80   \\\\\n",
       "\tWidener University & Yes   &  2139 &  1492 &  502  & 24    & 64    &  2186 & 2171  & 12350 & 5370  & 500   & 1350  & 88    & 86    & 12.6  & 19    &  9603 & 63   \\\\\n",
       "\tWilkes University & Yes   &  1631 &  1431 &  434  & 15    & 36    &  1803 &  603  & 11150 & 5130  & 550   & 1260  & 78    & 92    & 13.3  & 24    &  8543 & 67   \\\\\n",
       "\tWilson College & Yes   &   167 &   130 &   46  & 16    & 50    &   199 &  676  & 11428 & 5084  & 450   &  475  & 67    & 76    &  8.3  & 43    & 10291 & 67   \\\\\n",
       "\tWingate College & Yes   &  1239 &  1017 &  383  & 10    & 34    &  1207 &  157  &  7820 & 3400  & 550   & 1550  & 69    & 81    & 13.9  &  8    &  7264 & 91   \\\\\n",
       "\tWinona State University & No    &  3325 &  2047 & 1301  & 20    & 45    &  5800 &  872  &  4200 & 2700  & 300   & 1200  & 53    & 60    & 20.2  & 18    &  5318 & 58   \\\\\n",
       "\tWisconsin Lutheran College & Yes   &   152 &   128 &   75  & 17    & 41    &   282 &   22  &  9100 & 3700  & 500   & 1400  & 48    & 48    &  8.5  & 26    &  8960 & 50   \\\\\n",
       "\tWittenberg University & Yes   &  1979 &  1739 &  575  & 42    & 68    &  1980 &  144  & 15948 & 4404  & 400   &  800  & 82    & 95    & 12.8  & 29    & 10414 & 78   \\\\\n",
       "\\end{tabular}\n"
      ],
      "text/markdown": [
       "\n",
       "| <!--/--> | Private | Apps | Accept | Enroll | Top10perc | Top25perc | F.Undergrad | P.Undergrad | Outstate | Room.Board | Books | Personal | PhD | Terminal | S.F.Ratio | perc.alumni | Expend | Grad.Rate |\n",
       "|---|---|---|---|---|---|---|---|---|---|---|---|---|---|---|---|---|---|---|\n",
       "| Adelphi University | Yes   | 2186  | 1924  |  512  | 16    | 29    |  2683 | 1227  | 12280 | 6450  |  750  | 1500  | 29    | 30    | 12.2  | 16    | 10527 | 56    |\n",
       "| Adrian College | Yes   | 1428  | 1097  |  336  | 22    | 50    |  1036 |   99  | 11250 | 3750  |  400  | 1165  | 53    | 66    | 12.9  | 30    |  8735 | 54    |\n",
       "| Alaska Pacific University | Yes   |  193  |  146  |   55  | 16    | 44    |   249 |  869  |  7560 | 4120  |  800  | 1500  | 76    | 72    | 11.9  |  2    | 10922 | 15    |\n",
       "| Albright College | Yes   | 1038  |  839  |  227  | 30    | 63    |   973 |  306  | 15595 | 4400  |  300  |  500  | 79    | 84    | 11.3  | 23    | 11644 | 80    |\n",
       "| Alderson-Broaddus College | Yes   |  582  |  498  |  172  | 21    | 44    |   799 |   78  | 10468 | 3380  |  660  | 1800  | 40    | 41    | 11.5  | 15    |  8991 | 52    |\n",
       "| Alfred University | Yes   | 1732  | 1425  |  472  | 37    | 75    |  1830 |  110  | 16548 | 5406  |  500  |  600  | 82    | 88    | 11.3  | 31    | 10932 | 73    |\n",
       "| Allentown Coll. of St. Francis de Sales | Yes   | 1179  |  780  |  290  | 38    | 64    |  1130 |  638  |  9690 | 4785  |  600  | 1000  | 60    | 84    | 13.3  | 21    |  7940 | 74    |\n",
       "| Alma College | Yes   | 1267  | 1080  |  385  | 44    | 73    |  1306 |   28  | 12572 | 4552  |  400  |  400  | 79    | 87    | 15.3  | 32    |  9305 | 68    |\n",
       "| Angelo State University | No    | 3540  | 2001  | 1016  | 24    | 54    |  4190 | 1512  |  5130 | 3592  |  500  | 2000  | 60    | 62    | 23.1  |  5    |  4010 | 34    |\n",
       "| Appalachian State University | No    | 7313  | 4664  | 1910  | 20    | 63    |  9940 | 1035  |  6806 | 2540  |   96  | 2000  | 83    | 96    | 18.3  | 14    |  5854 | 70    |\n",
       "| Aquinas College | Yes   |  619  |  516  |  219  | 20    | 51    |  1251 |  767  | 11208 | 4124  |  350  | 1615  | 55    | 65    | 12.7  | 25    |  6584 | 65    |\n",
       "| Assumption College | Yes   | 2135  | 1700  |  491  | 23    | 59    |  1708 |  689  | 12000 | 5920  |  500  |  500  | 93    | 93    | 13.8  | 30    |  7100 | 88    |\n",
       "| Auburn University-Main Campus | No    | 7548  | 6791  | 3070  | 25    | 57    | 16262 | 1716  |  6300 | 3933  |  600  | 1908  | 85    | 91    | 16.7  | 18    |  6642 | 69    |\n",
       "| Augsburg College | Yes   |  662  |  513  |  257  | 12    | 30    |  2074 |  726  | 11902 | 4372  |  540  |  950  | 65    | 65    | 12.8  | 31    |  7836 | 58    |\n",
       "| Augustana College IL | Yes   | 1879  | 1658  |  497  | 36    | 69    |  1950 |   38  | 13353 | 4173  |  540  |  821  | 78    | 83    | 12.7  | 40    |  9220 | 71    |\n",
       "| Augustana College | Yes   |  761  |  725  |  306  | 21    | 58    |  1337 |  300  | 10990 | 3244  |  600  | 1021  | 66    | 70    | 10.4  | 30    |  6871 | 69    |\n",
       "| Averett College | Yes   |  627  |  556  |  172  | 16    | 40    |   777 |  538  |  9925 | 4135  |  750  | 1350  | 59    | 67    | 22.4  | 11    |  6523 | 48    |\n",
       "| Baldwin-Wallace College | Yes   | 1690  | 1366  |  662  | 30    | 61    |  2718 | 1460  | 10995 | 4410  | 1000  | 1000  | 68    | 74    | 17.6  | 20    |  8086 | 85    |\n",
       "| Barat College | Yes   |  261  |  192  |  111  | 15    | 36    |   453 |  266  |  9690 | 4300  |  500  |  500  | 57    | 77    |  9.7  | 35    |  9337 | 71    |\n",
       "| Bard College | Yes   | 1910  |  838  |  285  | 50    | 85    |  1004 |   15  | 19264 | 6206  |  750  |  750  | 98    | 98    | 10.4  | 30    | 13894 | 79    |\n",
       "| Beaver College | Yes   | 1163  |  850  |  348  | 23    | 56    |   878 |  519  | 12850 | 5400  |  400  |  800  | 78    | 89    | 12.2  | 30    |  8954 | 73    |\n",
       "| Bellarmine College | Yes   |  807  |  707  |  308  | 39    | 63    |  1198 |  605  |  8840 | 2950  |  750  | 1290  | 74    | 82    | 13.1  | 31    |  6668 | 84    |\n",
       "| Belmont Abbey College | Yes   |  632  |  494  |  129  | 17    | 36    |   709 |  131  |  9000 | 4850  |  300  | 2480  | 78    | 85    | 13.2  | 10    |  7550 | 52    |\n",
       "| Belmont University | Yes   | 1220  |  974  |  481  | 28    | 67    |  1964 |  623  |  7800 | 3664  |  650  |  900  | 61    | 61    | 11.1  | 19    |  7614 | 49    |\n",
       "| Beloit College | Yes   | 1320  |  923  |  284  | 26    | 54    |  1085 |   81  | 16304 | 3616  |  355  |  715  | 87    | 95    | 11.1  | 26    | 12957 | 69    |\n",
       "| Benedictine College | Yes   |  632  |  620  |  222  | 14    | 24    |   702 |  501  |  9550 | 3850  |  350  |  250  | 64    | 84    | 14.1  | 18    |  5922 | 58    |\n",
       "| Bennington College | Yes   |  519  |  327  |  114  | 25    | 53    |   457 |    2  | 21700 | 4100  |  600  |  500  | 35    | 59    | 10.1  | 33    | 16364 | 55    |\n",
       "| Bethany College | Yes   |  878  |  816  |  200  | 16    | 41    |   706 |   62  |  8740 | 3363  |  550  | 1700  | 62    | 68    | 11.6  | 29    |  7718 | 48    |\n",
       "| Bethel College | Yes   |  502  |  384  |  104  | 11    | 28    |   347 |   74  |  6200 | 2900  |  600  |  800  | 63    | 63    | 11.7  | 13    |  7623 | 35    |\n",
       "| Birmingham-Southern College | Yes   |  805  |  588  |  287  | 67    | 88    |  1376 |  207  | 11660 | 4325  |  400  |  900  | 74    | 79    | 14.0  | 34    |  8649 | 72    |\n",
       "| ... | ... | ... | ... | ... | ... | ... | ... | ... | ... | ... | ... | ... | ... | ... | ... | ... | ... | ... |\n",
       "| Villanova University | Yes   |  7759 |  5588 | 1477  | 30    | 68    |  6362 | 1292  | 15925 | 6507  | 400   |  300  | 89    | 90    | 13.4  | 24    | 10458 | 96    |\n",
       "| Virginia Commonwealth University | No    |  4963 |  3497 | 1567  | 18    | 45    | 10262 | 5065  | 10217 | 4182  | 500   | 3630  | 81    | 87    |  8.7  | 11    | 11183 | 45    |\n",
       "| Virginia State University | No    |  2996 |  2440 |  704  |  2    | 30    |  3006 |  338  |  5587 | 4845  | 500   |  600  | 61    | 63    | 16.0  | 11    |  5733 | 31    |\n",
       "| Virginia Tech | No    | 15712 | 11719 | 4277  | 29    | 53    | 18511 |  604  | 10260 | 3176  | 740   | 2200  | 85    | 89    | 13.8  | 20    |  8944 | 73    |\n",
       "| Viterbo College | Yes   |   647 |   518 |  271  | 17    | 43    |  1014 |  387  |  9140 | 3365  | 500   | 2245  | 51    | 65    | 10.7  | 31    |  8050 | 73    |\n",
       "| Wabash College | Yes   |   800 |   623 |  256  | 41    | 76    |   801 |    5  | 12925 | 4195  | 500   |  635  | 78    | 85    |  9.9  | 55    | 14904 | 72    |\n",
       "| Wake Forest University | Yes   |  5661 |  2392 |  903  | 75    | 88    |  3499 |  172  | 13850 | 4360  | 500   | 1250  | 95    | 97    |  4.3  | 37    | 41766 | 89    |\n",
       "| Washington and Lee University | Yes   |  3315 |  1096 |  425  | 68    | 93    |  1584 |    3  | 13750 | 4619  | 680   | 1115  | 81    | 96    |  9.6  | 45    | 15736 | 90    |\n",
       "| Washington College | Yes   |  1209 |   942 |  214  | 31    | 60    |   822 |   46  | 15276 | 5318  | 500   |  300  | 79    | 86    | 11.2  | 37    | 10830 | 65    |\n",
       "| Washington State University | No    |  6540 |  5839 | 2440  | 31    | 70    | 14445 | 1344  |  8200 | 4210  | 800   | 2719  | 84    | 87    | 16.9  | 30    | 10912 | 56    |\n",
       "| Wayne State College | No    |  1373 |  1373 |  724  |  6    | 21    |  2754 |  474  |  2700 | 2660  | 540   | 1660  | 60    | 68    | 20.3  | 29    |  4550 | 52    |\n",
       "| Waynesburg College | Yes   |  1190 |   978 |  324  | 12    | 30    |  1280 |   61  |  8840 | 3620  | 500   | 1200  | 57    | 58    | 16.2  | 26    |  6563 | 63    |\n",
       "| Webster University | Yes   |   665 |   462 |  226  | 17    | 44    |  1739 | 1550  |  9160 | 4340  | 500   |  500  | 68    | 68    | 20.6  | 14    |  6951 | 48    |\n",
       "| Wentworth Institute of Technology | Yes   |  1480 |  1257 |  452  |  6    | 25    |  2961 |  572  |  9850 | 6050  | 850   |  920  | 10    | 68    | 15.4  |  8    | 17858 | 64    |\n",
       "| West Liberty State College | No    |  1164 |  1062 |  478  | 12    | 25    |  2138 |  227  |  4470 | 2890  | 600   | 1210  | 33    | 33    | 16.3  | 10    |  4249 | 60    |\n",
       "| Western Michigan University | No    |  9167 |  7191 | 2738  | 24    | 53    | 15739 | 4278  |  6940 | 4100  | 500   | 1700  | 80    | 84    | 24.7  | 11    |  5983 | 55    |\n",
       "| Western New England College | Yes   |  1650 |  1471 |  409  |  7    | 21    |  1803 | 1116  |  8994 | 5500  | 498   | 2065  | 74    | 97    | 15.4  | 15    |  8409 | 59    |\n",
       "| Western State College of Colorado | No    |  2702 |  1623 |  604  |  7    | 24    |  2315 |  146  |  5918 | 3755  | 500   | 2050  | 76    | 79    | 19.4  |  4    |  4599 | 52    |\n",
       "| Westminster College of Salt Lake City | Yes   |   917 |   720 |  213  | 21    | 60    |   979 |  743  |  8820 | 4050  | 600   | 2025  | 68    | 83    | 10.5  | 34    |  7170 | 50    |\n",
       "| Wheaton College IL | Yes   |  1432 |   920 |  548  | 56    | 84    |  2200 |   56  | 11480 | 4200  | 530   | 1400  | 81    | 83    | 12.7  | 40    | 11916 | 85    |\n",
       "| Westminster College PA | Yes   |  1738 |  1373 |  417  | 21    | 55    |  1335 |   30  | 18460 | 5970  | 700   |  850  | 92    | 96    | 13.2  | 41    | 22704 | 71    |\n",
       "| Whittier College | Yes   |  1681 |  1069 |  344  | 35    | 63    |  1235 |   30  | 16249 | 5699  | 500   | 1998  | 84    | 92    | 13.6  | 29    | 11778 | 52    |\n",
       "| Whitworth College | Yes   |  1121 |   926 |  372  | 43    | 70    |  1270 |  160  | 12660 | 4500  | 678   | 2424  | 80    | 80    | 16.9  | 20    |  8328 | 80    |\n",
       "| Widener University | Yes   |  2139 |  1492 |  502  | 24    | 64    |  2186 | 2171  | 12350 | 5370  | 500   | 1350  | 88    | 86    | 12.6  | 19    |  9603 | 63    |\n",
       "| Wilkes University | Yes   |  1631 |  1431 |  434  | 15    | 36    |  1803 |  603  | 11150 | 5130  | 550   | 1260  | 78    | 92    | 13.3  | 24    |  8543 | 67    |\n",
       "| Wilson College | Yes   |   167 |   130 |   46  | 16    | 50    |   199 |  676  | 11428 | 5084  | 450   |  475  | 67    | 76    |  8.3  | 43    | 10291 | 67    |\n",
       "| Wingate College | Yes   |  1239 |  1017 |  383  | 10    | 34    |  1207 |  157  |  7820 | 3400  | 550   | 1550  | 69    | 81    | 13.9  |  8    |  7264 | 91    |\n",
       "| Winona State University | No    |  3325 |  2047 | 1301  | 20    | 45    |  5800 |  872  |  4200 | 2700  | 300   | 1200  | 53    | 60    | 20.2  | 18    |  5318 | 58    |\n",
       "| Wisconsin Lutheran College | Yes   |   152 |   128 |   75  | 17    | 41    |   282 |   22  |  9100 | 3700  | 500   | 1400  | 48    | 48    |  8.5  | 26    |  8960 | 50    |\n",
       "| Wittenberg University | Yes   |  1979 |  1739 |  575  | 42    | 68    |  1980 |  144  | 15948 | 4404  | 400   |  800  | 82    | 95    | 12.8  | 29    | 10414 | 78    |\n",
       "\n"
      ],
      "text/plain": [
       "                                        Private Apps  Accept Enroll Top10perc\n",
       "Adelphi University                      Yes     2186  1924    512   16       \n",
       "Adrian College                          Yes     1428  1097    336   22       \n",
       "Alaska Pacific University               Yes      193   146     55   16       \n",
       "Albright College                        Yes     1038   839    227   30       \n",
       "Alderson-Broaddus College               Yes      582   498    172   21       \n",
       "Alfred University                       Yes     1732  1425    472   37       \n",
       "Allentown Coll. of St. Francis de Sales Yes     1179   780    290   38       \n",
       "Alma College                            Yes     1267  1080    385   44       \n",
       "Angelo State University                 No      3540  2001   1016   24       \n",
       "Appalachian State University            No      7313  4664   1910   20       \n",
       "Aquinas College                         Yes      619   516    219   20       \n",
       "Assumption College                      Yes     2135  1700    491   23       \n",
       "Auburn University-Main Campus           No      7548  6791   3070   25       \n",
       "Augsburg College                        Yes      662   513    257   12       \n",
       "Augustana College IL                    Yes     1879  1658    497   36       \n",
       "Augustana College                       Yes      761   725    306   21       \n",
       "Averett College                         Yes      627   556    172   16       \n",
       "Baldwin-Wallace College                 Yes     1690  1366    662   30       \n",
       "Barat College                           Yes      261   192    111   15       \n",
       "Bard College                            Yes     1910   838    285   50       \n",
       "Beaver College                          Yes     1163   850    348   23       \n",
       "Bellarmine College                      Yes      807   707    308   39       \n",
       "Belmont Abbey College                   Yes      632   494    129   17       \n",
       "Belmont University                      Yes     1220   974    481   28       \n",
       "Beloit College                          Yes     1320   923    284   26       \n",
       "Benedictine College                     Yes      632   620    222   14       \n",
       "Bennington College                      Yes      519   327    114   25       \n",
       "Bethany College                         Yes      878   816    200   16       \n",
       "Bethel College                          Yes      502   384    104   11       \n",
       "Birmingham-Southern College             Yes      805   588    287   67       \n",
       "...                                     ...     ...   ...    ...    ...      \n",
       "Villanova University                    Yes      7759  5588  1477   30       \n",
       "Virginia Commonwealth University        No       4963  3497  1567   18       \n",
       "Virginia State University               No       2996  2440   704    2       \n",
       "Virginia Tech                           No      15712 11719  4277   29       \n",
       "Viterbo College                         Yes       647   518   271   17       \n",
       "Wabash College                          Yes       800   623   256   41       \n",
       "Wake Forest University                  Yes      5661  2392   903   75       \n",
       "Washington and Lee University           Yes      3315  1096   425   68       \n",
       "Washington College                      Yes      1209   942   214   31       \n",
       "Washington State University             No       6540  5839  2440   31       \n",
       "Wayne State College                     No       1373  1373   724    6       \n",
       "Waynesburg College                      Yes      1190   978   324   12       \n",
       "Webster University                      Yes       665   462   226   17       \n",
       "Wentworth Institute of Technology       Yes      1480  1257   452    6       \n",
       "West Liberty State College              No       1164  1062   478   12       \n",
       "Western Michigan University             No       9167  7191  2738   24       \n",
       "Western New England College             Yes      1650  1471   409    7       \n",
       "Western State College of Colorado       No       2702  1623   604    7       \n",
       "Westminster College of Salt Lake City   Yes       917   720   213   21       \n",
       "Wheaton College IL                      Yes      1432   920   548   56       \n",
       "Westminster College PA                  Yes      1738  1373   417   21       \n",
       "Whittier College                        Yes      1681  1069   344   35       \n",
       "Whitworth College                       Yes      1121   926   372   43       \n",
       "Widener University                      Yes      2139  1492   502   24       \n",
       "Wilkes University                       Yes      1631  1431   434   15       \n",
       "Wilson College                          Yes       167   130    46   16       \n",
       "Wingate College                         Yes      1239  1017   383   10       \n",
       "Winona State University                 No       3325  2047  1301   20       \n",
       "Wisconsin Lutheran College              Yes       152   128    75   17       \n",
       "Wittenberg University                   Yes      1979  1739   575   42       \n",
       "                                        Top25perc F.Undergrad P.Undergrad\n",
       "Adelphi University                      29         2683       1227       \n",
       "Adrian College                          50         1036         99       \n",
       "Alaska Pacific University               44          249        869       \n",
       "Albright College                        63          973        306       \n",
       "Alderson-Broaddus College               44          799         78       \n",
       "Alfred University                       75         1830        110       \n",
       "Allentown Coll. of St. Francis de Sales 64         1130        638       \n",
       "Alma College                            73         1306         28       \n",
       "Angelo State University                 54         4190       1512       \n",
       "Appalachian State University            63         9940       1035       \n",
       "Aquinas College                         51         1251        767       \n",
       "Assumption College                      59         1708        689       \n",
       "Auburn University-Main Campus           57        16262       1716       \n",
       "Augsburg College                        30         2074        726       \n",
       "Augustana College IL                    69         1950         38       \n",
       "Augustana College                       58         1337        300       \n",
       "Averett College                         40          777        538       \n",
       "Baldwin-Wallace College                 61         2718       1460       \n",
       "Barat College                           36          453        266       \n",
       "Bard College                            85         1004         15       \n",
       "Beaver College                          56          878        519       \n",
       "Bellarmine College                      63         1198        605       \n",
       "Belmont Abbey College                   36          709        131       \n",
       "Belmont University                      67         1964        623       \n",
       "Beloit College                          54         1085         81       \n",
       "Benedictine College                     24          702        501       \n",
       "Bennington College                      53          457          2       \n",
       "Bethany College                         41          706         62       \n",
       "Bethel College                          28          347         74       \n",
       "Birmingham-Southern College             88         1376        207       \n",
       "...                                     ...       ...         ...        \n",
       "Villanova University                    68         6362       1292       \n",
       "Virginia Commonwealth University        45        10262       5065       \n",
       "Virginia State University               30         3006        338       \n",
       "Virginia Tech                           53        18511        604       \n",
       "Viterbo College                         43         1014        387       \n",
       "Wabash College                          76          801          5       \n",
       "Wake Forest University                  88         3499        172       \n",
       "Washington and Lee University           93         1584          3       \n",
       "Washington College                      60          822         46       \n",
       "Washington State University             70        14445       1344       \n",
       "Wayne State College                     21         2754        474       \n",
       "Waynesburg College                      30         1280         61       \n",
       "Webster University                      44         1739       1550       \n",
       "Wentworth Institute of Technology       25         2961        572       \n",
       "West Liberty State College              25         2138        227       \n",
       "Western Michigan University             53        15739       4278       \n",
       "Western New England College             21         1803       1116       \n",
       "Western State College of Colorado       24         2315        146       \n",
       "Westminster College of Salt Lake City   60          979        743       \n",
       "Wheaton College IL                      84         2200         56       \n",
       "Westminster College PA                  55         1335         30       \n",
       "Whittier College                        63         1235         30       \n",
       "Whitworth College                       70         1270        160       \n",
       "Widener University                      64         2186       2171       \n",
       "Wilkes University                       36         1803        603       \n",
       "Wilson College                          50          199        676       \n",
       "Wingate College                         34         1207        157       \n",
       "Winona State University                 45         5800        872       \n",
       "Wisconsin Lutheran College              41          282         22       \n",
       "Wittenberg University                   68         1980        144       \n",
       "                                        Outstate Room.Board Books Personal PhD\n",
       "Adelphi University                      12280    6450        750  1500     29 \n",
       "Adrian College                          11250    3750        400  1165     53 \n",
       "Alaska Pacific University                7560    4120        800  1500     76 \n",
       "Albright College                        15595    4400        300   500     79 \n",
       "Alderson-Broaddus College               10468    3380        660  1800     40 \n",
       "Alfred University                       16548    5406        500   600     82 \n",
       "Allentown Coll. of St. Francis de Sales  9690    4785        600  1000     60 \n",
       "Alma College                            12572    4552        400   400     79 \n",
       "Angelo State University                  5130    3592        500  2000     60 \n",
       "Appalachian State University             6806    2540         96  2000     83 \n",
       "Aquinas College                         11208    4124        350  1615     55 \n",
       "Assumption College                      12000    5920        500   500     93 \n",
       "Auburn University-Main Campus            6300    3933        600  1908     85 \n",
       "Augsburg College                        11902    4372        540   950     65 \n",
       "Augustana College IL                    13353    4173        540   821     78 \n",
       "Augustana College                       10990    3244        600  1021     66 \n",
       "Averett College                          9925    4135        750  1350     59 \n",
       "Baldwin-Wallace College                 10995    4410       1000  1000     68 \n",
       "Barat College                            9690    4300        500   500     57 \n",
       "Bard College                            19264    6206        750   750     98 \n",
       "Beaver College                          12850    5400        400   800     78 \n",
       "Bellarmine College                       8840    2950        750  1290     74 \n",
       "Belmont Abbey College                    9000    4850        300  2480     78 \n",
       "Belmont University                       7800    3664        650   900     61 \n",
       "Beloit College                          16304    3616        355   715     87 \n",
       "Benedictine College                      9550    3850        350   250     64 \n",
       "Bennington College                      21700    4100        600   500     35 \n",
       "Bethany College                          8740    3363        550  1700     62 \n",
       "Bethel College                           6200    2900        600   800     63 \n",
       "Birmingham-Southern College             11660    4325        400   900     74 \n",
       "...                                     ...      ...        ...   ...      ...\n",
       "Villanova University                    15925    6507       400    300     89 \n",
       "Virginia Commonwealth University        10217    4182       500   3630     81 \n",
       "Virginia State University                5587    4845       500    600     61 \n",
       "Virginia Tech                           10260    3176       740   2200     85 \n",
       "Viterbo College                          9140    3365       500   2245     51 \n",
       "Wabash College                          12925    4195       500    635     78 \n",
       "Wake Forest University                  13850    4360       500   1250     95 \n",
       "Washington and Lee University           13750    4619       680   1115     81 \n",
       "Washington College                      15276    5318       500    300     79 \n",
       "Washington State University              8200    4210       800   2719     84 \n",
       "Wayne State College                      2700    2660       540   1660     60 \n",
       "Waynesburg College                       8840    3620       500   1200     57 \n",
       "Webster University                       9160    4340       500    500     68 \n",
       "Wentworth Institute of Technology        9850    6050       850    920     10 \n",
       "West Liberty State College               4470    2890       600   1210     33 \n",
       "Western Michigan University              6940    4100       500   1700     80 \n",
       "Western New England College              8994    5500       498   2065     74 \n",
       "Western State College of Colorado        5918    3755       500   2050     76 \n",
       "Westminster College of Salt Lake City    8820    4050       600   2025     68 \n",
       "Wheaton College IL                      11480    4200       530   1400     81 \n",
       "Westminster College PA                  18460    5970       700    850     92 \n",
       "Whittier College                        16249    5699       500   1998     84 \n",
       "Whitworth College                       12660    4500       678   2424     80 \n",
       "Widener University                      12350    5370       500   1350     88 \n",
       "Wilkes University                       11150    5130       550   1260     78 \n",
       "Wilson College                          11428    5084       450    475     67 \n",
       "Wingate College                          7820    3400       550   1550     69 \n",
       "Winona State University                  4200    2700       300   1200     53 \n",
       "Wisconsin Lutheran College               9100    3700       500   1400     48 \n",
       "Wittenberg University                   15948    4404       400    800     82 \n",
       "                                        Terminal S.F.Ratio perc.alumni Expend\n",
       "Adelphi University                      30       12.2      16          10527 \n",
       "Adrian College                          66       12.9      30           8735 \n",
       "Alaska Pacific University               72       11.9       2          10922 \n",
       "Albright College                        84       11.3      23          11644 \n",
       "Alderson-Broaddus College               41       11.5      15           8991 \n",
       "Alfred University                       88       11.3      31          10932 \n",
       "Allentown Coll. of St. Francis de Sales 84       13.3      21           7940 \n",
       "Alma College                            87       15.3      32           9305 \n",
       "Angelo State University                 62       23.1       5           4010 \n",
       "Appalachian State University            96       18.3      14           5854 \n",
       "Aquinas College                         65       12.7      25           6584 \n",
       "Assumption College                      93       13.8      30           7100 \n",
       "Auburn University-Main Campus           91       16.7      18           6642 \n",
       "Augsburg College                        65       12.8      31           7836 \n",
       "Augustana College IL                    83       12.7      40           9220 \n",
       "Augustana College                       70       10.4      30           6871 \n",
       "Averett College                         67       22.4      11           6523 \n",
       "Baldwin-Wallace College                 74       17.6      20           8086 \n",
       "Barat College                           77        9.7      35           9337 \n",
       "Bard College                            98       10.4      30          13894 \n",
       "Beaver College                          89       12.2      30           8954 \n",
       "Bellarmine College                      82       13.1      31           6668 \n",
       "Belmont Abbey College                   85       13.2      10           7550 \n",
       "Belmont University                      61       11.1      19           7614 \n",
       "Beloit College                          95       11.1      26          12957 \n",
       "Benedictine College                     84       14.1      18           5922 \n",
       "Bennington College                      59       10.1      33          16364 \n",
       "Bethany College                         68       11.6      29           7718 \n",
       "Bethel College                          63       11.7      13           7623 \n",
       "Birmingham-Southern College             79       14.0      34           8649 \n",
       "...                                     ...      ...       ...         ...   \n",
       "Villanova University                    90       13.4      24          10458 \n",
       "Virginia Commonwealth University        87        8.7      11          11183 \n",
       "Virginia State University               63       16.0      11           5733 \n",
       "Virginia Tech                           89       13.8      20           8944 \n",
       "Viterbo College                         65       10.7      31           8050 \n",
       "Wabash College                          85        9.9      55          14904 \n",
       "Wake Forest University                  97        4.3      37          41766 \n",
       "Washington and Lee University           96        9.6      45          15736 \n",
       "Washington College                      86       11.2      37          10830 \n",
       "Washington State University             87       16.9      30          10912 \n",
       "Wayne State College                     68       20.3      29           4550 \n",
       "Waynesburg College                      58       16.2      26           6563 \n",
       "Webster University                      68       20.6      14           6951 \n",
       "Wentworth Institute of Technology       68       15.4       8          17858 \n",
       "West Liberty State College              33       16.3      10           4249 \n",
       "Western Michigan University             84       24.7      11           5983 \n",
       "Western New England College             97       15.4      15           8409 \n",
       "Western State College of Colorado       79       19.4       4           4599 \n",
       "Westminster College of Salt Lake City   83       10.5      34           7170 \n",
       "Wheaton College IL                      83       12.7      40          11916 \n",
       "Westminster College PA                  96       13.2      41          22704 \n",
       "Whittier College                        92       13.6      29          11778 \n",
       "Whitworth College                       80       16.9      20           8328 \n",
       "Widener University                      86       12.6      19           9603 \n",
       "Wilkes University                       92       13.3      24           8543 \n",
       "Wilson College                          76        8.3      43          10291 \n",
       "Wingate College                         81       13.9       8           7264 \n",
       "Winona State University                 60       20.2      18           5318 \n",
       "Wisconsin Lutheran College              48        8.5      26           8960 \n",
       "Wittenberg University                   95       12.8      29          10414 \n",
       "                                        Grad.Rate\n",
       "Adelphi University                      56       \n",
       "Adrian College                          54       \n",
       "Alaska Pacific University               15       \n",
       "Albright College                        80       \n",
       "Alderson-Broaddus College               52       \n",
       "Alfred University                       73       \n",
       "Allentown Coll. of St. Francis de Sales 74       \n",
       "Alma College                            68       \n",
       "Angelo State University                 34       \n",
       "Appalachian State University            70       \n",
       "Aquinas College                         65       \n",
       "Assumption College                      88       \n",
       "Auburn University-Main Campus           69       \n",
       "Augsburg College                        58       \n",
       "Augustana College IL                    71       \n",
       "Augustana College                       69       \n",
       "Averett College                         48       \n",
       "Baldwin-Wallace College                 85       \n",
       "Barat College                           71       \n",
       "Bard College                            79       \n",
       "Beaver College                          73       \n",
       "Bellarmine College                      84       \n",
       "Belmont Abbey College                   52       \n",
       "Belmont University                      49       \n",
       "Beloit College                          69       \n",
       "Benedictine College                     58       \n",
       "Bennington College                      55       \n",
       "Bethany College                         48       \n",
       "Bethel College                          35       \n",
       "Birmingham-Southern College             72       \n",
       "...                                     ...      \n",
       "Villanova University                    96       \n",
       "Virginia Commonwealth University        45       \n",
       "Virginia State University               31       \n",
       "Virginia Tech                           73       \n",
       "Viterbo College                         73       \n",
       "Wabash College                          72       \n",
       "Wake Forest University                  89       \n",
       "Washington and Lee University           90       \n",
       "Washington College                      65       \n",
       "Washington State University             56       \n",
       "Wayne State College                     52       \n",
       "Waynesburg College                      63       \n",
       "Webster University                      48       \n",
       "Wentworth Institute of Technology       64       \n",
       "West Liberty State College              60       \n",
       "Western Michigan University             55       \n",
       "Western New England College             59       \n",
       "Western State College of Colorado       52       \n",
       "Westminster College of Salt Lake City   50       \n",
       "Wheaton College IL                      85       \n",
       "Westminster College PA                  71       \n",
       "Whittier College                        52       \n",
       "Whitworth College                       80       \n",
       "Widener University                      63       \n",
       "Wilkes University                       67       \n",
       "Wilson College                          67       \n",
       "Wingate College                         91       \n",
       "Winona State University                 58       \n",
       "Wisconsin Lutheran College              50       \n",
       "Wittenberg University                   78       "
      ]
     },
     "metadata": {},
     "output_type": "display_data"
    }
   ],
   "source": [
    "library(ISLR) #library to use college dataset\n",
    "set.seed(11) #generating random sequence\n",
    "\n",
    "train.size = dim(College)[1] / 2\n",
    "#train.size\n",
    "\n",
    "train = sample(1:dim(College)[1], train.size)\n",
    "#train\n",
    "\n",
    "test = -train\n",
    "#test\n",
    "\n",
    "College.train = College[train, ]\n",
    "College.train \n",
    "\n",
    "College.test = College[test, ]\n",
    "College.test\n"
   ]
  },
  {
   "cell_type": "markdown",
   "metadata": {},
   "source": [
    "##### (b) Fit a linear model using least squares on the training set, and report the test error obtained."
   ]
  },
  {
   "cell_type": "code",
   "execution_count": 41,
   "metadata": {},
   "outputs": [
    {
     "data": {
      "text/html": [
       "1026095.92589411"
      ],
      "text/latex": [
       "1026095.92589411"
      ],
      "text/markdown": [
       "1026095.92589411"
      ],
      "text/plain": [
       "[1] 1026096"
      ]
     },
     "metadata": {},
     "output_type": "display_data"
    }
   ],
   "source": [
    "lm.fit = lm(Apps~., data=College.train)\n",
    "lm.pred = predict(lm.fit, College.test)\n",
    "mean((College.test[, \"Apps\"] - lm.pred)^2)\n",
    "\n",
    "#Test RSS = 1026095"
   ]
  },
  {
   "cell_type": "markdown",
   "metadata": {},
   "source": [
    "##### (c) Fit a ridge regression model on the training set, with λ chosen by cross-validation. Report the test error obtained."
   ]
  },
  {
   "cell_type": "code",
   "execution_count": 47,
   "metadata": {},
   "outputs": [
    {
     "name": "stdout",
     "output_type": "stream",
     "text": [
      "package 'glmnet' successfully unpacked and MD5 sums checked\n",
      "\n",
      "The downloaded binary packages are in\n",
      "\tC:\\Users\\bajpa\\AppData\\Local\\Temp\\RtmpI92zti\\downloaded_packages\n"
     ]
    },
    {
     "name": "stderr",
     "output_type": "stream",
     "text": [
      "Warning message:\n",
      "\"package 'glmnet' was built under R version 3.6.3\"Loading required package: Matrix\n",
      "Warning message:\n",
      "\"package 'Matrix' was built under R version 3.6.3\"Loaded glmnet 4.1-1\n"
     ]
    },
    {
     "data": {
      "text/html": [
       "0.01"
      ],
      "text/latex": [
       "0.01"
      ],
      "text/markdown": [
       "0.01"
      ],
      "text/plain": [
       "[1] 0.01"
      ]
     },
     "metadata": {},
     "output_type": "display_data"
    },
    {
     "data": {
      "text/html": [
       "1026068.65314469"
      ],
      "text/latex": [
       "1026068.65314469"
      ],
      "text/markdown": [
       "1026068.65314469"
      ],
      "text/plain": [
       "[1] 1026069"
      ]
     },
     "metadata": {},
     "output_type": "display_data"
    }
   ],
   "source": [
    "install.packages('glmnet')\n",
    "library('glmnet')\n",
    "train.mat = model.matrix(Apps~., data=College.train)\n",
    "test.mat = model.matrix(Apps~., data=College.test)\n",
    "grid = 10 ^ seq(4, -2, length=100)\n",
    "mod.ridge = cv.glmnet(train.mat, College.train[, \"Apps\"], alpha=0, lambda=grid, thresh=1e-12)\n",
    "lambda.best = mod.ridge$lambda.min\n",
    "lambda.best\n",
    "\n",
    "ridge.pred = predict(mod.ridge, newx=test.mat, s=lambda.best)\n",
    "mean((College.test[, \"Apps\"] - ridge.pred)^2)\n",
    "\n",
    "#Test error = 1026068"
   ]
  },
  {
   "cell_type": "markdown",
   "metadata": {},
   "source": [
    "##### (d) Fit a lasso model on the training set, with λ chosen by crossvalidation. Report the test error obtained, along with the number of non-zero coefficient estimates."
   ]
  },
  {
   "cell_type": "code",
   "execution_count": 49,
   "metadata": {},
   "outputs": [
    {
     "data": {
      "text/html": [
       "0.01"
      ],
      "text/latex": [
       "0.01"
      ],
      "text/markdown": [
       "0.01"
      ],
      "text/plain": [
       "[1] 0.01"
      ]
     },
     "metadata": {},
     "output_type": "display_data"
    },
    {
     "data": {
      "text/html": [
       "1026035.85789427"
      ],
      "text/latex": [
       "1026035.85789427"
      ],
      "text/markdown": [
       "1026035.85789427"
      ],
      "text/plain": [
       "[1] 1026036"
      ]
     },
     "metadata": {},
     "output_type": "display_data"
    },
    {
     "data": {
      "text/plain": [
       "19 x 1 sparse Matrix of class \"dgCMatrix\"\n",
       "                        1\n",
       "(Intercept) -471.39372069\n",
       "(Intercept)    .         \n",
       "PrivateYes  -491.04485135\n",
       "Accept         1.57033288\n",
       "Enroll        -0.75961467\n",
       "Top10perc     48.14698891\n",
       "Top25perc    -12.84690694\n",
       "F.Undergrad    0.04149116\n",
       "P.Undergrad    0.04438973\n",
       "Outstate      -0.08328388\n",
       "Room.Board     0.14943472\n",
       "Books          0.01532293\n",
       "Personal       0.02909954\n",
       "PhD           -8.39597537\n",
       "Terminal      -3.26800340\n",
       "S.F.Ratio     14.59298267\n",
       "perc.alumni   -0.04404771\n",
       "Expend         0.07712632\n",
       "Grad.Rate      8.28950241"
      ]
     },
     "metadata": {},
     "output_type": "display_data"
    }
   ],
   "source": [
    "mod.lasso = cv.glmnet(train.mat, College.train[, \"Apps\"], alpha=1, lambda=grid, thresh=1e-12)\n",
    "lambda.best = mod.lasso$lambda.min\n",
    "lambda.best\n",
    "\n",
    "lasso.pred = predict(mod.lasso, newx=test.mat, s=lambda.best)\n",
    "mean((College.test[, \"Apps\"] - lasso.pred)^2)\n",
    "\n",
    "mod.lasso = glmnet(model.matrix(Apps~., data=College), College[, \"Apps\"], alpha=1)\n",
    "predict(mod.lasso, s=lambda.best, type=\"coefficients\")\n",
    "\n",
    "#Test error = 1026035, slightly lower than ridge regression."
   ]
  },
  {
   "cell_type": "markdown",
   "metadata": {},
   "source": [
    "##### (e) Fit a PCR model on the training set, with M chosen by crossvalidation. Report the test error obtained, along with the value of M selected by cross-validation."
   ]
  },
  {
   "cell_type": "code",
   "execution_count": 53,
   "metadata": {},
   "outputs": [
    {
     "name": "stderr",
     "output_type": "stream",
     "text": [
      "Warning message:\n",
      "\"package 'pls' is in use and will not be installed\"Warning message in mean.default((College.test[, \"Apps\"] - data.frame(pcr.pred))^2):\n",
      "\"argument is not numeric or logical: returning NA\""
     ]
    },
    {
     "data": {
      "text/html": [
       "&lt;NA&gt;"
      ],
      "text/latex": [
       "<NA>"
      ],
      "text/markdown": [
       "&lt;NA&gt;"
      ],
      "text/plain": [
       "[1] NA"
      ]
     },
     "metadata": {},
     "output_type": "display_data"
    },
    {
     "data": {
      "image/png": "[encoded data removed]",
      "text/plain": [
       "Plot with title \"Apps\""
      ]
     },
     "metadata": {},
     "output_type": "display_data"
    }
   ],
   "source": [
    "install.packages('pls')\n",
    "library(pls)\n",
    "\n",
    "pcr.fit = pcr(Apps~., data=College.train, scale=T, validation=\"CV\")\n",
    "validationplot(pcr.fit, val.type=\"MSEP\")\n",
    "\n",
    "pcr.pred = predict(pcr.fit, College.test, ncomp=10)\n",
    "mean((College.test[, \"Apps\"] - data.frame(pcr.pred))^2)"
   ]
  },
  {
   "cell_type": "markdown",
   "metadata": {},
   "source": [
    "##### f) Fit a PLS model on the training set, with M chosen by crossvalidation. Report the test error obtained, along with the value of M selected by cross-validation."
   ]
  },
  {
   "cell_type": "code",
   "execution_count": 59,
   "metadata": {},
   "outputs": [
    {
     "data": {
      "text/html": [],
      "text/latex": [],
      "text/markdown": [],
      "text/plain": [
       "integer(0)"
      ]
     },
     "metadata": {},
     "output_type": "display_data"
    },
    {
     "name": "stderr",
     "output_type": "stream",
     "text": [
      "Warning message in mean.default((College.test[, \"Apps\"] - data.frame(pls.pred))^2):\n",
      "\"argument is not numeric or logical: returning NA\""
     ]
    },
    {
     "data": {
      "text/html": [
       "&lt;NA&gt;"
      ],
      "text/latex": [
       "<NA>"
      ],
      "text/markdown": [
       "&lt;NA&gt;"
      ],
      "text/plain": [
       "[1] NA"
      ]
     },
     "metadata": {},
     "output_type": "display_data"
    },
    {
     "data": {
      "image/png": "[encoded data removed]",
      "text/plain": [
       "Plot with title \"Apps\""
      ]
     },
     "metadata": {},
     "output_type": "display_data"
    }
   ],
   "source": [
    "pls.fit = plsr(Apps~., data=College.train, scale=T, validation=\"CV\")\n",
    "as.integer(validationplot(pls.fit, val.type=\"MSEP\"))\n",
    "\n",
    "pls.pred = (as.integer(predict(pls.fit, College.test, ncomp=10)))\n",
    "mean((College.test[, \"Apps\"] - data.frame(pls.pred))^2)"
   ]
  },
  {
   "cell_type": "markdown",
   "metadata": {},
   "source": [
    "##### g) Comment on the results obtained. How accurately can we predict the number of college applications received? Is there much difference among the test errors resulting from these five approaches?"
   ]
  },
  {
   "cell_type": "markdown",
   "metadata": {},
   "source": [
    "For some reason, the only values shown previously were not all listed, but OLS, ridge, and lasso were similar in test error results, so not much difference and they can be skewed if the values aren't the same."
   ]
  },
  {
   "cell_type": "code",
   "execution_count": 61,
   "metadata": {},
   "outputs": [
    {
     "name": "stderr",
     "output_type": "stream",
     "text": [
      "Warning message in mean.default((College.test[, \"Apps\"] - data.frame(pcr.pred))^2):\n",
      "\"argument is not numeric or logical: returning NA\"Warning message in mean.default((College.test[, \"Apps\"] - data.frame(pls.pred))^2):\n",
      "\"argument is not numeric or logical: returning NA\""
     ]
    },
    {
     "data": {
      "image/png": "[encoded data removed]",
      "text/plain": [
       "Plot with title \"Test R-squared\""
      ]
     },
     "metadata": {},
     "output_type": "display_data"
    }
   ],
   "source": [
    "test.avg = mean(College.test[, \"Apps\"])\n",
    "lm.test.r2 = 1 - mean((College.test[, \"Apps\"] - lm.pred)^2) /mean((College.test[, \"Apps\"] - test.avg)^2)\n",
    "ridge.test.r2 = 1 - mean((College.test[, \"Apps\"] - ridge.pred)^2) /mean((College.test[, \"Apps\"] - test.avg)^2)\n",
    "lasso.test.r2 = 1 - mean((College.test[, \"Apps\"] - lasso.pred)^2) /mean((College.test[, \"Apps\"] - test.avg)^2)\n",
    "pcr.test.r2 = 1 - mean((College.test[, \"Apps\"] - data.frame(pcr.pred))^2) /mean((College.test[, \"Apps\"] - test.avg)^2)\n",
    "pls.test.r2 = 1 - mean((College.test[, \"Apps\"] - data.frame(pls.pred))^2) /mean((College.test[, \"Apps\"] - test.avg)^2)\n",
    "barplot(c(lm.test.r2, ridge.test.r2, lasso.test.r2, pcr.test.r2, pls.test.r2), col=\"red\", names.arg=c(\"OLS\", \"Ridge\", \"Lasso\", \"PCR\", \"PLS\"), main=\"Test R-squared\")"
   ]
  },
  {
   "cell_type": "markdown",
   "metadata": {},
   "source": [
    "### Q1) Chapter 7 Exercise 9\n",
    "\n",
    "#### This question uses the variables --dis-- (the weighted mean of distances to five Boston employment centers) and --nox-- (nitrogen oxides concentration in parts per 10 million) from the Boston data. We will treat --dis-- as the predictor and nox as the response."
   ]
  },
  {
   "cell_type": "markdown",
   "metadata": {},
   "source": [
    "##### (a) Use the poly() function to fit a cubic polynomial regression to predict nox using dis. Report the regression output, and plot the resulting data and polynomial fits."
   ]
  },
  {
   "cell_type": "markdown",
   "metadata": {},
   "source": [
    "Curve fits pretty well and summary shows all polynomials as significant"
   ]
  },
  {
   "cell_type": "code",
   "execution_count": 62,
   "metadata": {},
   "outputs": [
    {
     "name": "stderr",
     "output_type": "stream",
     "text": [
      "Warning message:\n",
      "\"package 'MASS' was built under R version 3.6.3\""
     ]
    },
    {
     "data": {
      "text/plain": [
       "\n",
       "Call:\n",
       "lm(formula = nox ~ poly(dis, 3), data = Boston)\n",
       "\n",
       "Residuals:\n",
       "      Min        1Q    Median        3Q       Max \n",
       "-0.121130 -0.040619 -0.009738  0.023385  0.194904 \n",
       "\n",
       "Coefficients:\n",
       "               Estimate Std. Error t value Pr(>|t|)    \n",
       "(Intercept)    0.554695   0.002759 201.021  < 2e-16 ***\n",
       "poly(dis, 3)1 -2.003096   0.062071 -32.271  < 2e-16 ***\n",
       "poly(dis, 3)2  0.856330   0.062071  13.796  < 2e-16 ***\n",
       "poly(dis, 3)3 -0.318049   0.062071  -5.124 4.27e-07 ***\n",
       "---\n",
       "Signif. codes:  0 '***' 0.001 '**' 0.01 '*' 0.05 '.' 0.1 ' ' 1\n",
       "\n",
       "Residual standard error: 0.06207 on 502 degrees of freedom\n",
       "Multiple R-squared:  0.7148,\tAdjusted R-squared:  0.7131 \n",
       "F-statistic: 419.3 on 3 and 502 DF,  p-value: < 2.2e-16\n"
      ]
     },
     "metadata": {},
     "output_type": "display_data"
    },
    {
     "data": {
      "image/png": "[encoded data removed]",
      "text/plain": [
       "plot without title"
      ]
     },
     "metadata": {},
     "output_type": "display_data"
    }
   ],
   "source": [
    "set.seed(1)\n",
    "library(MASS)\n",
    "attach(Boston)\n",
    "\n",
    "lm.fit = lm(nox ~ poly(dis, 3), data = Boston)\n",
    "summary(lm.fit)\n",
    "\n",
    "dislim = range(dis)\n",
    "dis.grid = seq(from = dislim[1], to = dislim[2], by = 0.1)\n",
    "lm.pred = predict(lm.fit, list(dis = dis.grid))\n",
    "plot(nox ~ dis, data = Boston, col = \"darkgrey\")\n",
    "lines(dis.grid, lm.pred, col = \"red\", lwd = 2)"
   ]
  },
  {
   "cell_type": "markdown",
   "metadata": {},
   "source": [
    "##### (b) Plot the polynomial fits for a range of different polynomial degrees (say, from 1 to 10), and report the associated residual sum of squares."
   ]
  },
  {
   "cell_type": "markdown",
   "metadata": {},
   "source": [
    "All the training values decrease with the given different polynomial degrees"
   ]
  },
  {
   "cell_type": "code",
   "execution_count": 65,
   "metadata": {},
   "outputs": [
    {
     "data": {
      "text/html": [
       "<ol class=list-inline>\n",
       "\t<li>2.76856285896928</li>\n",
       "\t<li>2.03526186893526</li>\n",
       "\t<li>1.93410670717907</li>\n",
       "\t<li>1.93298132729859</li>\n",
       "\t<li>1.9152899610843</li>\n",
       "\t<li>1.87825729850816</li>\n",
       "\t<li>1.84948361458298</li>\n",
       "\t<li>1.83562968906769</li>\n",
       "\t<li>1.8333308044916</li>\n",
       "\t<li>1.83217112393135</li>\n",
       "</ol>\n"
      ],
      "text/latex": [
       "\\begin{enumerate*}\n",
       "\\item 2.76856285896928\n",
       "\\item 2.03526186893526\n",
       "\\item 1.93410670717907\n",
       "\\item 1.93298132729859\n",
       "\\item 1.9152899610843\n",
       "\\item 1.87825729850816\n",
       "\\item 1.84948361458298\n",
       "\\item 1.83562968906769\n",
       "\\item 1.8333308044916\n",
       "\\item 1.83217112393135\n",
       "\\end{enumerate*}\n"
      ],
      "text/markdown": [
       "1. 2.76856285896928\n",
       "2. 2.03526186893526\n",
       "3. 1.93410670717907\n",
       "4. 1.93298132729859\n",
       "5. 1.9152899610843\n",
       "6. 1.87825729850816\n",
       "7. 1.84948361458298\n",
       "8. 1.83562968906769\n",
       "9. 1.8333308044916\n",
       "10. 1.83217112393135\n",
       "\n",
       "\n"
      ],
      "text/plain": [
       " [1] 2.768563 2.035262 1.934107 1.932981 1.915290 1.878257 1.849484 1.835630\n",
       " [9] 1.833331 1.832171"
      ]
     },
     "metadata": {},
     "output_type": "display_data"
    }
   ],
   "source": [
    "all.rss = rep(NA, 10)\n",
    "for (i in 1:10) {\n",
    "    lm.fit = lm(nox ~ poly(dis, i), data = Boston)\n",
    "    all.rss[i] = sum(lm.fit$residuals^2)\n",
    "}\n",
    "all.rss"
   ]
  },
  {
   "cell_type": "markdown",
   "metadata": {},
   "source": [
    "##### (c) Perform cross-validation or another approach to select the optimal degree for the polynomial, and explain your results"
   ]
  },
  {
   "cell_type": "markdown",
   "metadata": {},
   "source": [
    "CV has an inverse relationship with degree, especially with degrees 1 through 3; CV goes down as degrees increase and stay constant until 5, but then start increasing for the most part until 10."
   ]
  },
  {
   "cell_type": "code",
   "execution_count": 69,
   "metadata": {},
   "outputs": [
    {
     "data": {
      "image/png": "[encoded data removed]",
      "text/plain": [
       "plot without title"
      ]
     },
     "metadata": {},
     "output_type": "display_data"
    }
   ],
   "source": [
    "library(boot)\n",
    "all.deltas = rep(NA, 10)\n",
    "for (i in 1:10) {\n",
    "    glm.fit = glm(nox ~ poly(dis, i), data = Boston)\n",
    "    all.deltas[i] = cv.glm(Boston, glm.fit, K = 10)$delta[2]\n",
    "}\n",
    "plot(1:10, all.deltas, xlab = \"Degree\", ylab = \"CV error\", type = \"l\", pch = 20, \n",
    "    lwd = 2)"
   ]
  },
  {
   "cell_type": "markdown",
   "metadata": {},
   "source": [
    "##### (d) Use the bs() function to fit a regression spline to predict nox using dis. Report the output for the fit using four degrees of freedom. How did you choose the knots? Plot the resulting fit"
   ]
  },
  {
   "cell_type": "markdown",
   "metadata": {},
   "source": [
    "The knots were chosen based on the fact that the --dis-- variable went highest to 13; so the degrees of freedom were divided into 4, with it making sense to have intervals at 4, 7, 11 to account for the upper threshold (13)"
   ]
  },
  {
   "cell_type": "code",
   "execution_count": 71,
   "metadata": {},
   "outputs": [
    {
     "data": {
      "text/plain": [
       "\n",
       "Call:\n",
       "lm(formula = nox ~ bs(dis, df = 4, knots = c(4, 7, 11)), data = Boston)\n",
       "\n",
       "Residuals:\n",
       "      Min        1Q    Median        3Q       Max \n",
       "-0.124567 -0.040355 -0.008702  0.024740  0.192920 \n",
       "\n",
       "Coefficients:\n",
       "                                      Estimate Std. Error t value Pr(>|t|)    \n",
       "(Intercept)                            0.73926    0.01331  55.537  < 2e-16 ***\n",
       "bs(dis, df = 4, knots = c(4, 7, 11))1 -0.08861    0.02504  -3.539  0.00044 ***\n",
       "bs(dis, df = 4, knots = c(4, 7, 11))2 -0.31341    0.01680 -18.658  < 2e-16 ***\n",
       "bs(dis, df = 4, knots = c(4, 7, 11))3 -0.26618    0.03147  -8.459 3.00e-16 ***\n",
       "bs(dis, df = 4, knots = c(4, 7, 11))4 -0.39802    0.04647  -8.565  < 2e-16 ***\n",
       "bs(dis, df = 4, knots = c(4, 7, 11))5 -0.25681    0.09001  -2.853  0.00451 ** \n",
       "bs(dis, df = 4, knots = c(4, 7, 11))6 -0.32926    0.06327  -5.204 2.85e-07 ***\n",
       "---\n",
       "Signif. codes:  0 '***' 0.001 '**' 0.01 '*' 0.05 '.' 0.1 ' ' 1\n",
       "\n",
       "Residual standard error: 0.06185 on 499 degrees of freedom\n",
       "Multiple R-squared:  0.7185,\tAdjusted R-squared:  0.7151 \n",
       "F-statistic: 212.3 on 6 and 499 DF,  p-value: < 2.2e-16\n"
      ]
     },
     "metadata": {},
     "output_type": "display_data"
    },
    {
     "data": {
      "image/png": "[encoded data removed]",
      "text/plain": [
       "plot without title"
      ]
     },
     "metadata": {},
     "output_type": "display_data"
    }
   ],
   "source": [
    "library(splines)\n",
    "sp.fit = lm(nox ~ bs(dis, df = 4, knots = c(4, 7, 11)), data = Boston)\n",
    "summary(sp.fit)\n",
    "\n",
    "sp.pred = predict(sp.fit, list(dis = dis.grid))\n",
    "plot(nox ~ dis, data = Boston, col = \"darkgrey\")\n",
    "lines(dis.grid, sp.pred, col = \"red\", lwd = 2)"
   ]
  },
  {
   "cell_type": "markdown",
   "metadata": {},
   "source": [
    "##### e) Now fit a regression spline for a range of degrees of freedom, and plot the resulting fits and report the resulting RSS. Describe the results obtained."
   ]
  },
  {
   "cell_type": "markdown",
   "metadata": {},
   "source": [
    "Train RSS decreases until degrees of freedom equals 14, but then ever so slightly increases at df = 15 and is slightly higher at df = 16."
   ]
  },
  {
   "cell_type": "code",
   "execution_count": 74,
   "metadata": {},
   "outputs": [
    {
     "data": {
      "text/html": [
       "<ol class=list-inline>\n",
       "\t<li>1.93410670717907</li>\n",
       "\t<li>1.92277499281193</li>\n",
       "\t<li>1.84017280148852</li>\n",
       "\t<li>1.83396590316021</li>\n",
       "\t<li>1.82988444592328</li>\n",
       "\t<li>1.81699505672523</li>\n",
       "\t<li>1.82565251038706</li>\n",
       "\t<li>1.79253488955613</li>\n",
       "\t<li>1.79699182173143</li>\n",
       "\t<li>1.78899914528888</li>\n",
       "\t<li>1.78235042874344</li>\n",
       "\t<li>1.78183805686312</li>\n",
       "\t<li>1.78279784044131</li>\n",
       "\t<li>1.78354576630177</li>\n",
       "</ol>\n"
      ],
      "text/latex": [
       "\\begin{enumerate*}\n",
       "\\item 1.93410670717907\n",
       "\\item 1.92277499281193\n",
       "\\item 1.84017280148852\n",
       "\\item 1.83396590316021\n",
       "\\item 1.82988444592328\n",
       "\\item 1.81699505672523\n",
       "\\item 1.82565251038706\n",
       "\\item 1.79253488955613\n",
       "\\item 1.79699182173143\n",
       "\\item 1.78899914528888\n",
       "\\item 1.78235042874344\n",
       "\\item 1.78183805686312\n",
       "\\item 1.78279784044131\n",
       "\\item 1.78354576630177\n",
       "\\end{enumerate*}\n"
      ],
      "text/markdown": [
       "1. 1.93410670717907\n",
       "2. 1.92277499281193\n",
       "3. 1.84017280148852\n",
       "4. 1.83396590316021\n",
       "5. 1.82988444592328\n",
       "6. 1.81699505672523\n",
       "7. 1.82565251038706\n",
       "8. 1.79253488955613\n",
       "9. 1.79699182173143\n",
       "10. 1.78899914528888\n",
       "11. 1.78235042874344\n",
       "12. 1.78183805686312\n",
       "13. 1.78279784044131\n",
       "14. 1.78354576630177\n",
       "\n",
       "\n"
      ],
      "text/plain": [
       " [1] 1.934107 1.922775 1.840173 1.833966 1.829884 1.816995 1.825653 1.792535\n",
       " [9] 1.796992 1.788999 1.782350 1.781838 1.782798 1.783546"
      ]
     },
     "metadata": {},
     "output_type": "display_data"
    }
   ],
   "source": [
    "all.cv = rep(NA, 16)\n",
    "for (i in 3:16) {\n",
    "    lm.fit = lm(nox ~ bs(dis, df = i), data = Boston)\n",
    "    all.cv[i] = sum(lm.fit$residuals^2)\n",
    "}\n",
    "all.cv[-c(1, 2)]"
   ]
  },
  {
   "cell_type": "markdown",
   "metadata": {},
   "source": [
    "##### (f) Perform cross-validation or another approach in order to select the best degrees of freedom for a regression spline on this data. Describe your results."
   ]
  },
  {
   "cell_type": "code",
   "execution_count": 79,
   "metadata": {},
   "outputs": [
    {
     "ename": "ERROR",
     "evalue": "Error in parse(text = x, srcfile = src): <text>:7:11: unexpected symbol\n6: \n7: plot(3:16 all.cv\n             ^\n",
     "output_type": "error",
     "traceback": [
      "Error in parse(text = x, srcfile = src): <text>:7:11: unexpected symbol\n6: \n7: plot(3:16 all.cv\n             ^\nTraceback:\n"
     ]
    }
   ],
   "source": [
    "all.cv = rep(NA, 16)\n",
    "for (i in 3:16) {\n",
    "    lm.fit = glm(nox ~ bs(dis), data = Boston)\n",
    "    all.cv[i] = cv.glm(Boston, lm.fit, K = 10)$delta[2]\n",
    "}\n",
    "\n",
    "plot(3:16 all.cv[-c(1, 2)] lwd = 2, type = \"l\", xlab = \"df\", ylab = \"CV error\")"
   ]
  },
  {
   "cell_type": "markdown",
   "metadata": {},
   "source": [
    "### Q1) Chapter 7 Exercise 10\n",
    "\n",
    "#### College Dataset"
   ]
  },
  {
   "cell_type": "markdown",
   "metadata": {},
   "source": [
    "##### (a) Split the data into a training set and a test set. Using out-of-state tuition as the response and the other variables as the predictors, perform forward stepwise selection on the training set in order to identify a satisfactory model that uses just a subset of the predictors."
   ]
  },
  {
   "cell_type": "code",
   "execution_count": 83,
   "metadata": {},
   "outputs": [
    {
     "name": "stdout",
     "output_type": "stream",
     "text": [
      "package 'leaps' successfully unpacked and MD5 sums checked\n",
      "\n",
      "The downloaded binary packages are in\n",
      "\tC:\\Users\\bajpa\\AppData\\Local\\Temp\\RtmpI92zti\\downloaded_packages\n"
     ]
    },
    {
     "name": "stderr",
     "output_type": "stream",
     "text": [
      "Warning message:\n",
      "\"package 'leaps' was built under R version 3.6.3\""
     ]
    },
    {
     "data": {
      "image/png": "[encoded data removed]",
      "text/plain": [
       "plot without title"
      ]
     },
     "metadata": {},
     "output_type": "display_data"
    }
   ],
   "source": [
    "set.seed(1)\n",
    "install.packages('leaps')\n",
    "library(ISLR)\n",
    "library(leaps)\n",
    "attach(College)\n",
    "train = sample(length(Outstate), length(Outstate)/2)\n",
    "test = -train\n",
    "College.train = College[train, ]\n",
    "College.test = College[test, ]\n",
    "reg.fit = regsubsets(Outstate ~ ., data = College.train, nvmax = 17, method = \"forward\")\n",
    "reg.summary = summary(reg.fit)\n",
    "par(mfrow = c(1, 3))\n",
    "plot(reg.summary$cp, xlab = \"Number of Variables\", ylab = \"Cp\", type = \"l\")\n",
    "min.cp = min(reg.summary$cp)\n",
    "std.cp = sd(reg.summary$cp)\n",
    "abline(h = min.cp + 0.2 * std.cp, col = \"red\", lty = 2)\n",
    "abline(h = min.cp - 0.2 * std.cp, col = \"red\", lty = 2)\n",
    "plot(reg.summary$bic, xlab = \"Number of Variables\", ylab = \"BIC\", type = \"l\")\n",
    "min.bic = min(reg.summary$bic)\n",
    "std.bic = sd(reg.summary$bic)\n",
    "abline(h = min.bic + 0.2 * std.bic, col = \"red\", lty = 2)\n",
    "abline(h = min.bic - 0.2 * std.bic, col = \"red\", lty = 2)\n",
    "plot(reg.summary$adjr2, xlab = \"Number of Variables\", ylab = \"Adjusted R2\", \n",
    "    type = \"l\", ylim = c(0.4, 0.84))"
   ]
  },
  {
   "cell_type": "markdown",
   "metadata": {},
   "source": [
    "##### b) Fit a GAM on the training data, using out-of-state tuition as the response and the features selected in the previous step as the predictors. Plot the results, and explain your findings."
   ]
  },
  {
   "cell_type": "code",
   "execution_count": 93,
   "metadata": {},
   "outputs": [
    {
     "name": "stdout",
     "output_type": "stream",
     "text": [
      "\n",
      "  There is a binary version available but the source version is later:\n",
      "    binary source needs_compilation\n",
      "gam 1.16.1   1.20              TRUE\n",
      "\n",
      "  Binaries will be installed\n"
     ]
    },
    {
     "name": "stderr",
     "output_type": "stream",
     "text": [
      "Warning message:\n",
      "\"package 'gam' is in use and will not be installed\"Warning message in model.matrix.default(mt, mf, contrasts):\n",
      "\"non-list contrasts argument ignored\""
     ]
    },
    {
     "data": {
      "image/png": "[encoded data removed]",
      "text/plain": [
       "plot without title"
      ]
     },
     "metadata": {},
     "output_type": "display_data"
    }
   ],
   "source": [
    "install.packages('gam')\n",
    "library(gam)\n",
    "\n",
    "gam.fit = gam(Outstate ~ Private + s(Room.Board, df = 2) + s(PhD, df = 2) + \n",
    "    s(perc.alumni, df = 2) + s(Expend, df = 5) + s(Grad.Rate, df = 2), data = College.train)\n",
    "par(mfrow = c(2, 3))\n",
    "plot(gam.fit, se = T, col = \"blue\")"
   ]
  },
  {
   "cell_type": "markdown",
   "metadata": {},
   "source": [
    "##### (c) Evaluate the model obtained on the test set, and explain the results obtained."
   ]
  },
  {
   "cell_type": "code",
   "execution_count": null,
   "metadata": {},
   "outputs": [],
   "source": [
    "gam.pred = predict(gam.fit, College.test)\n",
    "gam.err = mean((College.test$Outstate - gam.pred)^2)\n",
    "gam.err\n",
    "\n",
    "gam.tss = mean((College.test$Outstate - mean(College.test$Outstate))^2)\n",
    "test.rss = 1 - gam.err/gam.tss\n",
    "test.rss\n",
    "\n"
   ]
  },
  {
   "cell_type": "markdown",
   "metadata": {},
   "source": [
    "##### (d) For which variables, if any, is there evidence of a non-linear relationship with the response?"
   ]
  },
  {
   "cell_type": "code",
   "execution_count": 95,
   "metadata": {},
   "outputs": [
    {
     "data": {
      "text/plain": [
       "\n",
       "Call: gam(formula = Outstate ~ Private + s(Room.Board, df = 2) + s(PhD, \n",
       "    df = 2) + s(perc.alumni, df = 2) + s(Expend, df = 5) + s(Grad.Rate, \n",
       "    df = 2), data = College.train)\n",
       "Deviance Residuals:\n",
       "     Min       1Q   Median       3Q      Max \n",
       "-7402.89 -1114.45   -12.67  1282.69  7470.60 \n",
       "\n",
       "(Dispersion Parameter for gaussian family taken to be 3711182)\n",
       "\n",
       "    Null Deviance: 6989966760 on 387 degrees of freedom\n",
       "Residual Deviance: 1384271126 on 373 degrees of freedom\n",
       "AIC: 6987.021 \n",
       "\n",
       "Number of Local Scoring Iterations: 2 \n",
       "\n",
       "Anova for Parametric Effects\n",
       "                        Df     Sum Sq    Mean Sq F value    Pr(>F)    \n",
       "Private                  1 1778718277 1778718277 479.286 < 2.2e-16 ***\n",
       "s(Room.Board, df = 2)    1 1577115244 1577115244 424.963 < 2.2e-16 ***\n",
       "s(PhD, df = 2)           1  322431195  322431195  86.881 < 2.2e-16 ***\n",
       "s(perc.alumni, df = 2)   1  336869281  336869281  90.771 < 2.2e-16 ***\n",
       "s(Expend, df = 5)        1  530538753  530538753 142.957 < 2.2e-16 ***\n",
       "s(Grad.Rate, df = 2)     1   86504998   86504998  23.309 2.016e-06 ***\n",
       "Residuals              373 1384271126    3711182                      \n",
       "---\n",
       "Signif. codes:  0 '***' 0.001 '**' 0.01 '*' 0.05 '.' 0.1 ' ' 1\n",
       "\n",
       "Anova for Nonparametric Effects\n",
       "                       Npar Df  Npar F     Pr(F)    \n",
       "(Intercept)                                         \n",
       "Private                                             \n",
       "s(Room.Board, df = 2)        1  1.9157    0.1672    \n",
       "s(PhD, df = 2)               1  0.9699    0.3253    \n",
       "s(perc.alumni, df = 2)       1  0.1859    0.6666    \n",
       "s(Expend, df = 5)            4 20.5075 2.665e-15 ***\n",
       "s(Grad.Rate, df = 2)         1  0.5702    0.4506    \n",
       "---\n",
       "Signif. codes:  0 '***' 0.001 '**' 0.01 '*' 0.05 '.' 0.1 ' ' 1"
      ]
     },
     "metadata": {},
     "output_type": "display_data"
    }
   ],
   "source": [
    "summary(gam.fit)"
   ]
  }
 ],
 "metadata": {
  "kernelspec": {
   "display_name": "R",
   "language": "R",
   "name": "ir"
  },
  "language_info": {
   "codemirror_mode": "r",
   "file_extension": ".r",
   "mimetype": "text/x-r-source",
   "name": "R",
   "pygments_lexer": "r",
   "version": "3.6.1"
  }
 },
 "nbformat": 4,
 "nbformat_minor": 4
}
