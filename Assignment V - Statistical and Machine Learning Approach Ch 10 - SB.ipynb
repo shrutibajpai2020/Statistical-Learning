{
 "cells": [
  {
   "cell_type": "markdown",
   "metadata": {},
   "source": [
    "## Homework Exercise: Shruti Bajpai\n",
    "\n",
    "1. Exercise 3 (p.414, Chap.10)\n",
    "2. Exercise 8 (p.416, Chap.10)\n",
    "3. Exercise 9 (p.416, Chap.10)\n",
    "4. Exercise 10 (p.417, Chap.10)"
   ]
  },
  {
   "cell_type": "markdown",
   "metadata": {},
   "source": [
    "### Q1) Chapter 10 Exercise 3\n",
    "\n",
    "In this problem, you will perform K-means clustering manually, with K = 2, on a small example with n = 6 observations and p = 2 features. The observations are as follows."
   ]
  },
  {
   "cell_type": "markdown",
   "metadata": {},
   "source": [
    "##### (a) Plot the observations."
   ]
  },
  {
   "cell_type": "code",
   "execution_count": 1,
   "metadata": {},
   "outputs": [
    {
     "data": {
      "text/html": [
       "<table>\n",
       "<tbody>\n",
       "\t<tr><td>1</td><td>4</td></tr>\n",
       "\t<tr><td>1</td><td>3</td></tr>\n",
       "\t<tr><td>0</td><td>4</td></tr>\n",
       "\t<tr><td>5</td><td>1</td></tr>\n",
       "\t<tr><td>6</td><td>2</td></tr>\n",
       "\t<tr><td>4</td><td>0</td></tr>\n",
       "</tbody>\n",
       "</table>\n"
      ],
      "text/latex": [
       "\\begin{tabular}{ll}\n",
       "\t 1 & 4\\\\\n",
       "\t 1 & 3\\\\\n",
       "\t 0 & 4\\\\\n",
       "\t 5 & 1\\\\\n",
       "\t 6 & 2\\\\\n",
       "\t 4 & 0\\\\\n",
       "\\end{tabular}\n"
      ],
      "text/markdown": [
       "\n",
       "| 1 | 4 |\n",
       "| 1 | 3 |\n",
       "| 0 | 4 |\n",
       "| 5 | 1 |\n",
       "| 6 | 2 |\n",
       "| 4 | 0 |\n",
       "\n"
      ],
      "text/plain": [
       "     [,1] [,2]\n",
       "[1,] 1    4   \n",
       "[2,] 1    3   \n",
       "[3,] 0    4   \n",
       "[4,] 5    1   \n",
       "[5,] 6    2   \n",
       "[6,] 4    0   "
      ]
     },
     "metadata": {},
     "output_type": "display_data"
    },
    {
     "data": {
      "image/png": "[encoded data removed]",
      "text/plain": [
       "plot without title"
      ]
     },
     "metadata": {},
     "output_type": "display_data"
    }
   ],
   "source": [
    "set.seed(1)\n",
    "x = cbind(c(1, 1, 0, 5, 6, 4), c(4, 3, 4, 1, 2, 0))\n",
    "x\n",
    "\n",
    "plot(x[,1], x[,2])"
   ]
  },
  {
   "cell_type": "markdown",
   "metadata": {},
   "source": [
    "##### (b) Randomly assign a cluster label to each observation. You can use the sample() command in R to do this. Report the cluster labels for each observation."
   ]
  },
  {
   "cell_type": "code",
   "execution_count": 2,
   "metadata": {},
   "outputs": [
    {
     "data": {
      "text/html": [
       "<ol class=list-inline>\n",
       "\t<li>1</li>\n",
       "\t<li>2</li>\n",
       "\t<li>1</li>\n",
       "\t<li>1</li>\n",
       "\t<li>2</li>\n",
       "\t<li>1</li>\n",
       "</ol>\n"
      ],
      "text/latex": [
       "\\begin{enumerate*}\n",
       "\\item 1\n",
       "\\item 2\n",
       "\\item 1\n",
       "\\item 1\n",
       "\\item 2\n",
       "\\item 1\n",
       "\\end{enumerate*}\n"
      ],
      "text/markdown": [
       "1. 1\n",
       "2. 2\n",
       "3. 1\n",
       "4. 1\n",
       "5. 2\n",
       "6. 1\n",
       "\n",
       "\n"
      ],
      "text/plain": [
       "[1] 1 2 1 1 2 1"
      ]
     },
     "metadata": {},
     "output_type": "display_data"
    }
   ],
   "source": [
    "labels = sample(2, nrow(x), replace=T)\n",
    "labels"
   ]
  },
  {
   "cell_type": "markdown",
   "metadata": {},
   "source": [
    "##### (c) Compute the centroid for each cluster"
   ]
  },
  {
   "cell_type": "code",
   "execution_count": 3,
   "metadata": {},
   "outputs": [
    {
     "data": {
      "text/html": [
       "<ol class=list-inline>\n",
       "\t<li>2.5</li>\n",
       "\t<li>2.25</li>\n",
       "</ol>\n"
      ],
      "text/latex": [
       "\\begin{enumerate*}\n",
       "\\item 2.5\n",
       "\\item 2.25\n",
       "\\end{enumerate*}\n"
      ],
      "text/markdown": [
       "1. 2.5\n",
       "2. 2.25\n",
       "\n",
       "\n"
      ],
      "text/plain": [
       "[1] 2.50 2.25"
      ]
     },
     "metadata": {},
     "output_type": "display_data"
    }
   ],
   "source": [
    "centroid1 = c(mean(x[labels==1, 1]), mean(x[labels==1, 2]))\n",
    "centroid2 = c(mean(x[labels==2, 1]), mean(x[labels==2, 2]))\n",
    "centroid1"
   ]
  },
  {
   "cell_type": "code",
   "execution_count": 4,
   "metadata": {},
   "outputs": [
    {
     "data": {
      "text/html": [
       "<ol class=list-inline>\n",
       "\t<li>3.5</li>\n",
       "\t<li>2.5</li>\n",
       "</ol>\n"
      ],
      "text/latex": [
       "\\begin{enumerate*}\n",
       "\\item 3.5\n",
       "\\item 2.5\n",
       "\\end{enumerate*}\n"
      ],
      "text/markdown": [
       "1. 3.5\n",
       "2. 2.5\n",
       "\n",
       "\n"
      ],
      "text/plain": [
       "[1] 3.5 2.5"
      ]
     },
     "metadata": {},
     "output_type": "display_data"
    }
   ],
   "source": [
    "centroid2"
   ]
  },
  {
   "cell_type": "code",
   "execution_count": 5,
   "metadata": {},
   "outputs": [
    {
     "data": {
      "image/png": "[encoded data removed]",
      "text/plain": [
       "plot without title"
      ]
     },
     "metadata": {},
     "output_type": "display_data"
    }
   ],
   "source": [
    "plot(x[,1], x[,2], col=(labels+1), pch=20, cex=2)\n",
    "points(centroid1[1], centroid1[2], col=2, pch=4)\n",
    "points(centroid2[1], centroid2[2], col=3, pch=4)"
   ]
  },
  {
   "cell_type": "markdown",
   "metadata": {},
   "source": [
    "##### d) Assign each observation to the centroid to which it is closest, in terms of Euclidean distance. Report the cluster labels for each observation."
   ]
  },
  {
   "cell_type": "code",
   "execution_count": 6,
   "metadata": {},
   "outputs": [
    {
     "data": {
      "text/html": [
       "<ol class=list-inline>\n",
       "\t<li>1</li>\n",
       "\t<li>1</li>\n",
       "\t<li>1</li>\n",
       "\t<li>2</li>\n",
       "\t<li>2</li>\n",
       "\t<li>2</li>\n",
       "</ol>\n"
      ],
      "text/latex": [
       "\\begin{enumerate*}\n",
       "\\item 1\n",
       "\\item 1\n",
       "\\item 1\n",
       "\\item 2\n",
       "\\item 2\n",
       "\\item 2\n",
       "\\end{enumerate*}\n"
      ],
      "text/markdown": [
       "1. 1\n",
       "2. 1\n",
       "3. 1\n",
       "4. 2\n",
       "5. 2\n",
       "6. 2\n",
       "\n",
       "\n"
      ],
      "text/plain": [
       "[1] 1 1 1 2 2 2"
      ]
     },
     "metadata": {},
     "output_type": "display_data"
    }
   ],
   "source": [
    "euclid = function(a, b) {\n",
    "  return(sqrt((a[1] - b[1])^2 + (a[2]-b[2])^2))\n",
    "}\n",
    "assign_labels = function(x, centroid1, centroid2) {\n",
    "  labels = rep(NA, nrow(x))\n",
    "  for (i in 1:nrow(x)) {\n",
    "    if (euclid(x[i,], centroid1) < euclid(x[i,], centroid2)) {\n",
    "      labels[i] = 1\n",
    "    } else {\n",
    "      labels[i] = 2\n",
    "    }\n",
    "  }\n",
    "  return(labels)\n",
    "}\n",
    "labels = assign_labels(x, centroid1, centroid2)\n",
    "labels"
   ]
  },
  {
   "cell_type": "markdown",
   "metadata": {},
   "source": [
    "##### e) Repeat (c) and (d) until the answers obtained stop changing."
   ]
  },
  {
   "cell_type": "code",
   "execution_count": 7,
   "metadata": {},
   "outputs": [
    {
     "name": "stdout",
     "output_type": "stream",
     "text": [
      "[1] 0.6666667 3.6666667\n",
      "[1] 5 1\n"
     ]
    }
   ],
   "source": [
    "last_labels = rep(-1, 6)\n",
    "while (!all(last_labels == labels)) {\n",
    "  last_labels = labels\n",
    "  centroid1 = c(mean(x[labels==1, 1]), mean(x[labels==1, 2]))\n",
    "  centroid2 = c(mean(x[labels==2, 1]), mean(x[labels==2, 2]))\n",
    "  print(centroid1)\n",
    "  print(centroid2)\n",
    "  labels = assign_labels(x, centroid1, centroid2)\n",
    "}"
   ]
  },
  {
   "cell_type": "code",
   "execution_count": 8,
   "metadata": {},
   "outputs": [
    {
     "data": {
      "text/html": [
       "<ol class=list-inline>\n",
       "\t<li>1</li>\n",
       "\t<li>1</li>\n",
       "\t<li>1</li>\n",
       "\t<li>2</li>\n",
       "\t<li>2</li>\n",
       "\t<li>2</li>\n",
       "</ol>\n"
      ],
      "text/latex": [
       "\\begin{enumerate*}\n",
       "\\item 1\n",
       "\\item 1\n",
       "\\item 1\n",
       "\\item 2\n",
       "\\item 2\n",
       "\\item 2\n",
       "\\end{enumerate*}\n"
      ],
      "text/markdown": [
       "1. 1\n",
       "2. 1\n",
       "3. 1\n",
       "4. 2\n",
       "5. 2\n",
       "6. 2\n",
       "\n",
       "\n"
      ],
      "text/plain": [
       "[1] 1 1 1 2 2 2"
      ]
     },
     "metadata": {},
     "output_type": "display_data"
    }
   ],
   "source": [
    "labels"
   ]
  },
  {
   "cell_type": "markdown",
   "metadata": {},
   "source": [
    "##### (f) In your plot from (a), color the observations according to the cluster labels obtained."
   ]
  },
  {
   "cell_type": "code",
   "execution_count": 9,
   "metadata": {},
   "outputs": [
    {
     "data": {
      "image/png": "[encoded data removed]",
      "text/plain": [
       "plot without title"
      ]
     },
     "metadata": {},
     "output_type": "display_data"
    }
   ],
   "source": [
    "plot(x[,1], x[,2], col=(labels+1), pch=20, cex=2)\n",
    "points(centroid1[1], centroid1[2], col=2, pch=4)\n",
    "points(centroid2[1], centroid2[2], col=3, pch=4)"
   ]
  },
  {
   "cell_type": "markdown",
   "metadata": {},
   "source": [
    "### Q2) Chapter 10 Exercise 8\n",
    "\n",
    " Section 10.2.3, a formula for calculating PVE was given in Equa\u0002tion 10.8. We also saw that the PVE can be obtained using the sdev output of the prcomp() function.\n",
    " \n",
    " On the USArrests data, calculate PVE in two ways:"
   ]
  },
  {
   "cell_type": "markdown",
   "metadata": {},
   "source": [
    "##### (a) Using the sdev output of the prcomp() function, as was done in Section 10.2.3."
   ]
  },
  {
   "cell_type": "code",
   "execution_count": 10,
   "metadata": {},
   "outputs": [
    {
     "name": "stderr",
     "output_type": "stream",
     "text": [
      "Warning message:\n",
      "\"package 'ISLR' was built under R version 3.6.3\""
     ]
    },
    {
     "data": {
      "text/html": [
       "<ol class=list-inline>\n",
       "\t<li>0.620060394787374</li>\n",
       "\t<li>0.24744128813496</li>\n",
       "\t<li>0.0891407951452075</li>\n",
       "\t<li>0.0433575219324588</li>\n",
       "</ol>\n"
      ],
      "text/latex": [
       "\\begin{enumerate*}\n",
       "\\item 0.620060394787374\n",
       "\\item 0.24744128813496\n",
       "\\item 0.0891407951452075\n",
       "\\item 0.0433575219324588\n",
       "\\end{enumerate*}\n"
      ],
      "text/markdown": [
       "1. 0.620060394787374\n",
       "2. 0.24744128813496\n",
       "3. 0.0891407951452075\n",
       "4. 0.0433575219324588\n",
       "\n",
       "\n"
      ],
      "text/plain": [
       "[1] 0.62006039 0.24744129 0.08914080 0.04335752"
      ]
     },
     "metadata": {},
     "output_type": "display_data"
    }
   ],
   "source": [
    "library(ISLR)\n",
    "set.seed(1)\n",
    "pr.out = prcomp(USArrests, center=T, scale=T)\n",
    "pr.var = pr.out$sdev^2\n",
    "pve = pr.var / sum(pr.var)\n",
    "pve"
   ]
  },
  {
   "cell_type": "markdown",
   "metadata": {},
   "source": [
    "##### (b) By applying Equation 10.8 directly. That is, use the prcomp() function to compute the principal component loadings. Then, use those loadings in Equation 10.8 to obtain the PVE."
   ]
  },
  {
   "cell_type": "code",
   "execution_count": 11,
   "metadata": {},
   "outputs": [
    {
     "data": {
      "text/html": [
       "<ol class=list-inline>\n",
       "\t<li>0.620060394787374</li>\n",
       "\t<li>0.24744128813496</li>\n",
       "\t<li>0.0891407951452075</li>\n",
       "\t<li>0.0433575219324588</li>\n",
       "</ol>\n"
      ],
      "text/latex": [
       "\\begin{enumerate*}\n",
       "\\item 0.620060394787374\n",
       "\\item 0.24744128813496\n",
       "\\item 0.0891407951452075\n",
       "\\item 0.0433575219324588\n",
       "\\end{enumerate*}\n"
      ],
      "text/markdown": [
       "1. 0.620060394787374\n",
       "2. 0.24744128813496\n",
       "3. 0.0891407951452075\n",
       "4. 0.0433575219324588\n",
       "\n",
       "\n"
      ],
      "text/plain": [
       "[1] 0.62006039 0.24744129 0.08914080 0.04335752"
      ]
     },
     "metadata": {},
     "output_type": "display_data"
    }
   ],
   "source": [
    "loadings = pr.out$rotation\n",
    "pve2 = rep(NA, 4)\n",
    "dmean = apply(USArrests, 2, mean)\n",
    "dsdev = sqrt(apply(USArrests, 2, var))\n",
    "dsc = sweep(USArrests, MARGIN=2, dmean, \"-\")\n",
    "dsc = sweep(dsc, MARGIN=2, dsdev, \"/\")\n",
    "for (i in 1:4) {\n",
    "  proto_x = sweep(dsc, MARGIN=2, loadings[,i], \"*\")\n",
    "  pc_x = apply(proto_x, 1, sum)\n",
    "  pve2[i] = sum(pc_x^2)\n",
    "}\n",
    "pve2 = pve2/sum(dsc^2)\n",
    "pve2"
   ]
  },
  {
   "cell_type": "markdown",
   "metadata": {},
   "source": [
    "### Q3) Chapter 10 Exercise 9\n",
    "\n",
    "Consider the USArrests data. We will now perform hierarchical clustering on the states."
   ]
  },
  {
   "cell_type": "markdown",
   "metadata": {},
   "source": [
    "##### (a) Using hierarchical clustering with complete linkage and Euclidean distance, cluster the states"
   ]
  },
  {
   "cell_type": "code",
   "execution_count": 12,
   "metadata": {},
   "outputs": [
    {
     "data": {
      "image/png": "[encoded data removed]",
      "text/plain": [
       "Plot with title \"Cluster Dendrogram\""
      ]
     },
     "metadata": {},
     "output_type": "display_data"
    }
   ],
   "source": [
    "library(ISLR)\n",
    "set.seed(2)\n",
    "\n",
    "hc.complete = hclust(dist(USArrests), method=\"complete\")\n",
    "plot(hc.complete)"
   ]
  },
  {
   "cell_type": "markdown",
   "metadata": {},
   "source": [
    "##### (b) Cut the dendrogram at a height that results in three distinct clusters. Which states belong to which clusters?"
   ]
  },
  {
   "cell_type": "code",
   "execution_count": 13,
   "metadata": {},
   "outputs": [
    {
     "data": {
      "text/html": [
       "<dl class=dl-horizontal>\n",
       "\t<dt>Alabama</dt>\n",
       "\t\t<dd>1</dd>\n",
       "\t<dt>Alaska</dt>\n",
       "\t\t<dd>1</dd>\n",
       "\t<dt>Arizona</dt>\n",
       "\t\t<dd>1</dd>\n",
       "\t<dt>Arkansas</dt>\n",
       "\t\t<dd>2</dd>\n",
       "\t<dt>California</dt>\n",
       "\t\t<dd>1</dd>\n",
       "\t<dt>Colorado</dt>\n",
       "\t\t<dd>2</dd>\n",
       "\t<dt>Connecticut</dt>\n",
       "\t\t<dd>3</dd>\n",
       "\t<dt>Delaware</dt>\n",
       "\t\t<dd>1</dd>\n",
       "\t<dt>Florida</dt>\n",
       "\t\t<dd>1</dd>\n",
       "\t<dt>Georgia</dt>\n",
       "\t\t<dd>2</dd>\n",
       "\t<dt>Hawaii</dt>\n",
       "\t\t<dd>3</dd>\n",
       "\t<dt>Idaho</dt>\n",
       "\t\t<dd>3</dd>\n",
       "\t<dt>Illinois</dt>\n",
       "\t\t<dd>1</dd>\n",
       "\t<dt>Indiana</dt>\n",
       "\t\t<dd>3</dd>\n",
       "\t<dt>Iowa</dt>\n",
       "\t\t<dd>3</dd>\n",
       "\t<dt>Kansas</dt>\n",
       "\t\t<dd>3</dd>\n",
       "\t<dt>Kentucky</dt>\n",
       "\t\t<dd>3</dd>\n",
       "\t<dt>Louisiana</dt>\n",
       "\t\t<dd>1</dd>\n",
       "\t<dt>Maine</dt>\n",
       "\t\t<dd>3</dd>\n",
       "\t<dt>Maryland</dt>\n",
       "\t\t<dd>1</dd>\n",
       "\t<dt>Massachusetts</dt>\n",
       "\t\t<dd>2</dd>\n",
       "\t<dt>Michigan</dt>\n",
       "\t\t<dd>1</dd>\n",
       "\t<dt>Minnesota</dt>\n",
       "\t\t<dd>3</dd>\n",
       "\t<dt>Mississippi</dt>\n",
       "\t\t<dd>1</dd>\n",
       "\t<dt>Missouri</dt>\n",
       "\t\t<dd>2</dd>\n",
       "\t<dt>Montana</dt>\n",
       "\t\t<dd>3</dd>\n",
       "\t<dt>Nebraska</dt>\n",
       "\t\t<dd>3</dd>\n",
       "\t<dt>Nevada</dt>\n",
       "\t\t<dd>1</dd>\n",
       "\t<dt>New Hampshire</dt>\n",
       "\t\t<dd>3</dd>\n",
       "\t<dt>New Jersey</dt>\n",
       "\t\t<dd>2</dd>\n",
       "\t<dt>New Mexico</dt>\n",
       "\t\t<dd>1</dd>\n",
       "\t<dt>New York</dt>\n",
       "\t\t<dd>1</dd>\n",
       "\t<dt>North Carolina</dt>\n",
       "\t\t<dd>1</dd>\n",
       "\t<dt>North Dakota</dt>\n",
       "\t\t<dd>3</dd>\n",
       "\t<dt>Ohio</dt>\n",
       "\t\t<dd>3</dd>\n",
       "\t<dt>Oklahoma</dt>\n",
       "\t\t<dd>2</dd>\n",
       "\t<dt>Oregon</dt>\n",
       "\t\t<dd>2</dd>\n",
       "\t<dt>Pennsylvania</dt>\n",
       "\t\t<dd>3</dd>\n",
       "\t<dt>Rhode Island</dt>\n",
       "\t\t<dd>2</dd>\n",
       "\t<dt>South Carolina</dt>\n",
       "\t\t<dd>1</dd>\n",
       "\t<dt>South Dakota</dt>\n",
       "\t\t<dd>3</dd>\n",
       "\t<dt>Tennessee</dt>\n",
       "\t\t<dd>2</dd>\n",
       "\t<dt>Texas</dt>\n",
       "\t\t<dd>2</dd>\n",
       "\t<dt>Utah</dt>\n",
       "\t\t<dd>3</dd>\n",
       "\t<dt>Vermont</dt>\n",
       "\t\t<dd>3</dd>\n",
       "\t<dt>Virginia</dt>\n",
       "\t\t<dd>2</dd>\n",
       "\t<dt>Washington</dt>\n",
       "\t\t<dd>2</dd>\n",
       "\t<dt>West Virginia</dt>\n",
       "\t\t<dd>3</dd>\n",
       "\t<dt>Wisconsin</dt>\n",
       "\t\t<dd>3</dd>\n",
       "\t<dt>Wyoming</dt>\n",
       "\t\t<dd>2</dd>\n",
       "</dl>\n"
      ],
      "text/latex": [
       "\\begin{description*}\n",
       "\\item[Alabama] 1\n",
       "\\item[Alaska] 1\n",
       "\\item[Arizona] 1\n",
       "\\item[Arkansas] 2\n",
       "\\item[California] 1\n",
       "\\item[Colorado] 2\n",
       "\\item[Connecticut] 3\n",
       "\\item[Delaware] 1\n",
       "\\item[Florida] 1\n",
       "\\item[Georgia] 2\n",
       "\\item[Hawaii] 3\n",
       "\\item[Idaho] 3\n",
       "\\item[Illinois] 1\n",
       "\\item[Indiana] 3\n",
       "\\item[Iowa] 3\n",
       "\\item[Kansas] 3\n",
       "\\item[Kentucky] 3\n",
       "\\item[Louisiana] 1\n",
       "\\item[Maine] 3\n",
       "\\item[Maryland] 1\n",
       "\\item[Massachusetts] 2\n",
       "\\item[Michigan] 1\n",
       "\\item[Minnesota] 3\n",
       "\\item[Mississippi] 1\n",
       "\\item[Missouri] 2\n",
       "\\item[Montana] 3\n",
       "\\item[Nebraska] 3\n",
       "\\item[Nevada] 1\n",
       "\\item[New Hampshire] 3\n",
       "\\item[New Jersey] 2\n",
       "\\item[New Mexico] 1\n",
       "\\item[New York] 1\n",
       "\\item[North Carolina] 1\n",
       "\\item[North Dakota] 3\n",
       "\\item[Ohio] 3\n",
       "\\item[Oklahoma] 2\n",
       "\\item[Oregon] 2\n",
       "\\item[Pennsylvania] 3\n",
       "\\item[Rhode Island] 2\n",
       "\\item[South Carolina] 1\n",
       "\\item[South Dakota] 3\n",
       "\\item[Tennessee] 2\n",
       "\\item[Texas] 2\n",
       "\\item[Utah] 3\n",
       "\\item[Vermont] 3\n",
       "\\item[Virginia] 2\n",
       "\\item[Washington] 2\n",
       "\\item[West Virginia] 3\n",
       "\\item[Wisconsin] 3\n",
       "\\item[Wyoming] 2\n",
       "\\end{description*}\n"
      ],
      "text/markdown": [
       "Alabama\n",
       ":   1Alaska\n",
       ":   1Arizona\n",
       ":   1Arkansas\n",
       ":   2California\n",
       ":   1Colorado\n",
       ":   2Connecticut\n",
       ":   3Delaware\n",
       ":   1Florida\n",
       ":   1Georgia\n",
       ":   2Hawaii\n",
       ":   3Idaho\n",
       ":   3Illinois\n",
       ":   1Indiana\n",
       ":   3Iowa\n",
       ":   3Kansas\n",
       ":   3Kentucky\n",
       ":   3Louisiana\n",
       ":   1Maine\n",
       ":   3Maryland\n",
       ":   1Massachusetts\n",
       ":   2Michigan\n",
       ":   1Minnesota\n",
       ":   3Mississippi\n",
       ":   1Missouri\n",
       ":   2Montana\n",
       ":   3Nebraska\n",
       ":   3Nevada\n",
       ":   1New Hampshire\n",
       ":   3New Jersey\n",
       ":   2New Mexico\n",
       ":   1New York\n",
       ":   1North Carolina\n",
       ":   1North Dakota\n",
       ":   3Ohio\n",
       ":   3Oklahoma\n",
       ":   2Oregon\n",
       ":   2Pennsylvania\n",
       ":   3Rhode Island\n",
       ":   2South Carolina\n",
       ":   1South Dakota\n",
       ":   3Tennessee\n",
       ":   2Texas\n",
       ":   2Utah\n",
       ":   3Vermont\n",
       ":   3Virginia\n",
       ":   2Washington\n",
       ":   2West Virginia\n",
       ":   3Wisconsin\n",
       ":   3Wyoming\n",
       ":   2\n",
       "\n"
      ],
      "text/plain": [
       "       Alabama         Alaska        Arizona       Arkansas     California \n",
       "             1              1              1              2              1 \n",
       "      Colorado    Connecticut       Delaware        Florida        Georgia \n",
       "             2              3              1              1              2 \n",
       "        Hawaii          Idaho       Illinois        Indiana           Iowa \n",
       "             3              3              1              3              3 \n",
       "        Kansas       Kentucky      Louisiana          Maine       Maryland \n",
       "             3              3              1              3              1 \n",
       " Massachusetts       Michigan      Minnesota    Mississippi       Missouri \n",
       "             2              1              3              1              2 \n",
       "       Montana       Nebraska         Nevada  New Hampshire     New Jersey \n",
       "             3              3              1              3              2 \n",
       "    New Mexico       New York North Carolina   North Dakota           Ohio \n",
       "             1              1              1              3              3 \n",
       "      Oklahoma         Oregon   Pennsylvania   Rhode Island South Carolina \n",
       "             2              2              3              2              1 \n",
       "  South Dakota      Tennessee          Texas           Utah        Vermont \n",
       "             3              2              2              3              3 \n",
       "      Virginia     Washington  West Virginia      Wisconsin        Wyoming \n",
       "             2              2              3              3              2 "
      ]
     },
     "metadata": {},
     "output_type": "display_data"
    },
    {
     "data": {
      "text/plain": [
       "\n",
       " 1  2  3 \n",
       "16 14 20 "
      ]
     },
     "metadata": {},
     "output_type": "display_data"
    }
   ],
   "source": [
    "cutree(hc.complete, 3)\n",
    "table(cutree(hc.complete, 3))"
   ]
  },
  {
   "cell_type": "markdown",
   "metadata": {},
   "source": [
    "##### (c) Hierarchically cluster the states using complete linkage and Euclidean distance, after scaling the variables to have standard deviation one."
   ]
  },
  {
   "cell_type": "code",
   "execution_count": 14,
   "metadata": {},
   "outputs": [
    {
     "data": {
      "image/png": "[encoded data removed]",
      "text/plain": [
       "Plot with title \"Cluster Dendrogram\""
      ]
     },
     "metadata": {},
     "output_type": "display_data"
    }
   ],
   "source": [
    "dsc = scale(USArrests)\n",
    "hc.s.complete = hclust(dist(dsc), method=\"complete\")\n",
    "plot(hc.s.complete)"
   ]
  },
  {
   "cell_type": "markdown",
   "metadata": {},
   "source": [
    "##### (d) What effect does scaling the variables have on the hierarchical clustering obtained? In your opinion, should the variables be scaled before the inter-observation dissimilarities are computed? Provide a justification for your answer."
   ]
  },
  {
   "cell_type": "markdown",
   "metadata": {},
   "source": [
    "Scaling the variables changes the height of the dendogram. At initial glance, there doesn't seem to have an effect on the closeness or the width of the tree obtained. However, the subclusters are affected. In my opinion, for this data set the data should be standardized because the data measured has different units - UrbanPop vs the other three columns."
   ]
  },
  {
   "cell_type": "code",
   "execution_count": 15,
   "metadata": {},
   "outputs": [
    {
     "data": {
      "text/html": [
       "<dl class=dl-horizontal>\n",
       "\t<dt>Alabama</dt>\n",
       "\t\t<dd>1</dd>\n",
       "\t<dt>Alaska</dt>\n",
       "\t\t<dd>1</dd>\n",
       "\t<dt>Arizona</dt>\n",
       "\t\t<dd>2</dd>\n",
       "\t<dt>Arkansas</dt>\n",
       "\t\t<dd>3</dd>\n",
       "\t<dt>California</dt>\n",
       "\t\t<dd>2</dd>\n",
       "\t<dt>Colorado</dt>\n",
       "\t\t<dd>2</dd>\n",
       "\t<dt>Connecticut</dt>\n",
       "\t\t<dd>3</dd>\n",
       "\t<dt>Delaware</dt>\n",
       "\t\t<dd>3</dd>\n",
       "\t<dt>Florida</dt>\n",
       "\t\t<dd>2</dd>\n",
       "\t<dt>Georgia</dt>\n",
       "\t\t<dd>1</dd>\n",
       "\t<dt>Hawaii</dt>\n",
       "\t\t<dd>3</dd>\n",
       "\t<dt>Idaho</dt>\n",
       "\t\t<dd>3</dd>\n",
       "\t<dt>Illinois</dt>\n",
       "\t\t<dd>2</dd>\n",
       "\t<dt>Indiana</dt>\n",
       "\t\t<dd>3</dd>\n",
       "\t<dt>Iowa</dt>\n",
       "\t\t<dd>3</dd>\n",
       "\t<dt>Kansas</dt>\n",
       "\t\t<dd>3</dd>\n",
       "\t<dt>Kentucky</dt>\n",
       "\t\t<dd>3</dd>\n",
       "\t<dt>Louisiana</dt>\n",
       "\t\t<dd>1</dd>\n",
       "\t<dt>Maine</dt>\n",
       "\t\t<dd>3</dd>\n",
       "\t<dt>Maryland</dt>\n",
       "\t\t<dd>2</dd>\n",
       "\t<dt>Massachusetts</dt>\n",
       "\t\t<dd>3</dd>\n",
       "\t<dt>Michigan</dt>\n",
       "\t\t<dd>2</dd>\n",
       "\t<dt>Minnesota</dt>\n",
       "\t\t<dd>3</dd>\n",
       "\t<dt>Mississippi</dt>\n",
       "\t\t<dd>1</dd>\n",
       "\t<dt>Missouri</dt>\n",
       "\t\t<dd>3</dd>\n",
       "\t<dt>Montana</dt>\n",
       "\t\t<dd>3</dd>\n",
       "\t<dt>Nebraska</dt>\n",
       "\t\t<dd>3</dd>\n",
       "\t<dt>Nevada</dt>\n",
       "\t\t<dd>2</dd>\n",
       "\t<dt>New Hampshire</dt>\n",
       "\t\t<dd>3</dd>\n",
       "\t<dt>New Jersey</dt>\n",
       "\t\t<dd>3</dd>\n",
       "\t<dt>New Mexico</dt>\n",
       "\t\t<dd>2</dd>\n",
       "\t<dt>New York</dt>\n",
       "\t\t<dd>2</dd>\n",
       "\t<dt>North Carolina</dt>\n",
       "\t\t<dd>1</dd>\n",
       "\t<dt>North Dakota</dt>\n",
       "\t\t<dd>3</dd>\n",
       "\t<dt>Ohio</dt>\n",
       "\t\t<dd>3</dd>\n",
       "\t<dt>Oklahoma</dt>\n",
       "\t\t<dd>3</dd>\n",
       "\t<dt>Oregon</dt>\n",
       "\t\t<dd>3</dd>\n",
       "\t<dt>Pennsylvania</dt>\n",
       "\t\t<dd>3</dd>\n",
       "\t<dt>Rhode Island</dt>\n",
       "\t\t<dd>3</dd>\n",
       "\t<dt>South Carolina</dt>\n",
       "\t\t<dd>1</dd>\n",
       "\t<dt>South Dakota</dt>\n",
       "\t\t<dd>3</dd>\n",
       "\t<dt>Tennessee</dt>\n",
       "\t\t<dd>1</dd>\n",
       "\t<dt>Texas</dt>\n",
       "\t\t<dd>2</dd>\n",
       "\t<dt>Utah</dt>\n",
       "\t\t<dd>3</dd>\n",
       "\t<dt>Vermont</dt>\n",
       "\t\t<dd>3</dd>\n",
       "\t<dt>Virginia</dt>\n",
       "\t\t<dd>3</dd>\n",
       "\t<dt>Washington</dt>\n",
       "\t\t<dd>3</dd>\n",
       "\t<dt>West Virginia</dt>\n",
       "\t\t<dd>3</dd>\n",
       "\t<dt>Wisconsin</dt>\n",
       "\t\t<dd>3</dd>\n",
       "\t<dt>Wyoming</dt>\n",
       "\t\t<dd>3</dd>\n",
       "</dl>\n"
      ],
      "text/latex": [
       "\\begin{description*}\n",
       "\\item[Alabama] 1\n",
       "\\item[Alaska] 1\n",
       "\\item[Arizona] 2\n",
       "\\item[Arkansas] 3\n",
       "\\item[California] 2\n",
       "\\item[Colorado] 2\n",
       "\\item[Connecticut] 3\n",
       "\\item[Delaware] 3\n",
       "\\item[Florida] 2\n",
       "\\item[Georgia] 1\n",
       "\\item[Hawaii] 3\n",
       "\\item[Idaho] 3\n",
       "\\item[Illinois] 2\n",
       "\\item[Indiana] 3\n",
       "\\item[Iowa] 3\n",
       "\\item[Kansas] 3\n",
       "\\item[Kentucky] 3\n",
       "\\item[Louisiana] 1\n",
       "\\item[Maine] 3\n",
       "\\item[Maryland] 2\n",
       "\\item[Massachusetts] 3\n",
       "\\item[Michigan] 2\n",
       "\\item[Minnesota] 3\n",
       "\\item[Mississippi] 1\n",
       "\\item[Missouri] 3\n",
       "\\item[Montana] 3\n",
       "\\item[Nebraska] 3\n",
       "\\item[Nevada] 2\n",
       "\\item[New Hampshire] 3\n",
       "\\item[New Jersey] 3\n",
       "\\item[New Mexico] 2\n",
       "\\item[New York] 2\n",
       "\\item[North Carolina] 1\n",
       "\\item[North Dakota] 3\n",
       "\\item[Ohio] 3\n",
       "\\item[Oklahoma] 3\n",
       "\\item[Oregon] 3\n",
       "\\item[Pennsylvania] 3\n",
       "\\item[Rhode Island] 3\n",
       "\\item[South Carolina] 1\n",
       "\\item[South Dakota] 3\n",
       "\\item[Tennessee] 1\n",
       "\\item[Texas] 2\n",
       "\\item[Utah] 3\n",
       "\\item[Vermont] 3\n",
       "\\item[Virginia] 3\n",
       "\\item[Washington] 3\n",
       "\\item[West Virginia] 3\n",
       "\\item[Wisconsin] 3\n",
       "\\item[Wyoming] 3\n",
       "\\end{description*}\n"
      ],
      "text/markdown": [
       "Alabama\n",
       ":   1Alaska\n",
       ":   1Arizona\n",
       ":   2Arkansas\n",
       ":   3California\n",
       ":   2Colorado\n",
       ":   2Connecticut\n",
       ":   3Delaware\n",
       ":   3Florida\n",
       ":   2Georgia\n",
       ":   1Hawaii\n",
       ":   3Idaho\n",
       ":   3Illinois\n",
       ":   2Indiana\n",
       ":   3Iowa\n",
       ":   3Kansas\n",
       ":   3Kentucky\n",
       ":   3Louisiana\n",
       ":   1Maine\n",
       ":   3Maryland\n",
       ":   2Massachusetts\n",
       ":   3Michigan\n",
       ":   2Minnesota\n",
       ":   3Mississippi\n",
       ":   1Missouri\n",
       ":   3Montana\n",
       ":   3Nebraska\n",
       ":   3Nevada\n",
       ":   2New Hampshire\n",
       ":   3New Jersey\n",
       ":   3New Mexico\n",
       ":   2New York\n",
       ":   2North Carolina\n",
       ":   1North Dakota\n",
       ":   3Ohio\n",
       ":   3Oklahoma\n",
       ":   3Oregon\n",
       ":   3Pennsylvania\n",
       ":   3Rhode Island\n",
       ":   3South Carolina\n",
       ":   1South Dakota\n",
       ":   3Tennessee\n",
       ":   1Texas\n",
       ":   2Utah\n",
       ":   3Vermont\n",
       ":   3Virginia\n",
       ":   3Washington\n",
       ":   3West Virginia\n",
       ":   3Wisconsin\n",
       ":   3Wyoming\n",
       ":   3\n",
       "\n"
      ],
      "text/plain": [
       "       Alabama         Alaska        Arizona       Arkansas     California \n",
       "             1              1              2              3              2 \n",
       "      Colorado    Connecticut       Delaware        Florida        Georgia \n",
       "             2              3              3              2              1 \n",
       "        Hawaii          Idaho       Illinois        Indiana           Iowa \n",
       "             3              3              2              3              3 \n",
       "        Kansas       Kentucky      Louisiana          Maine       Maryland \n",
       "             3              3              1              3              2 \n",
       " Massachusetts       Michigan      Minnesota    Mississippi       Missouri \n",
       "             3              2              3              1              3 \n",
       "       Montana       Nebraska         Nevada  New Hampshire     New Jersey \n",
       "             3              3              2              3              3 \n",
       "    New Mexico       New York North Carolina   North Dakota           Ohio \n",
       "             2              2              1              3              3 \n",
       "      Oklahoma         Oregon   Pennsylvania   Rhode Island South Carolina \n",
       "             3              3              3              3              1 \n",
       "  South Dakota      Tennessee          Texas           Utah        Vermont \n",
       "             3              1              2              3              3 \n",
       "      Virginia     Washington  West Virginia      Wisconsin        Wyoming \n",
       "             3              3              3              3              3 "
      ]
     },
     "metadata": {},
     "output_type": "display_data"
    }
   ],
   "source": [
    "cutree(hc.s.complete, 3)"
   ]
  },
  {
   "cell_type": "code",
   "execution_count": 16,
   "metadata": {},
   "outputs": [
    {
     "data": {
      "text/plain": [
       "\n",
       " 1  2  3 \n",
       " 8 11 31 "
      ]
     },
     "metadata": {},
     "output_type": "display_data"
    }
   ],
   "source": [
    "table(cutree(hc.s.complete, 3))"
   ]
  },
  {
   "cell_type": "code",
   "execution_count": 17,
   "metadata": {},
   "outputs": [
    {
     "data": {
      "text/plain": [
       "   \n",
       "     1  2  3\n",
       "  1  6  2  0\n",
       "  2  9  2  0\n",
       "  3  1 10 20"
      ]
     },
     "metadata": {},
     "output_type": "display_data"
    }
   ],
   "source": [
    "table(cutree(hc.s.complete, 3), cutree(hc.complete, 3))"
   ]
  },
  {
   "cell_type": "markdown",
   "metadata": {},
   "source": [
    "### Q4) Chapter 10 Exercise 10\n",
    "\n",
    " In this problem, you will generate simulated data, and then perform PCA and K-means clustering on the data."
   ]
  },
  {
   "cell_type": "markdown",
   "metadata": {},
   "source": [
    "##### (a) Generate a simulated data set with 20 observations in each of three classes (i.e. 60 observations total), and 50 variables. Hint: There are a number of functions in R that you can use to generate data. One example is the rnorm() function; runif() is another option. Be sure to add a mean shift to the observations in each class so that there are three distinct classes "
   ]
  },
  {
   "cell_type": "code",
   "execution_count": 18,
   "metadata": {},
   "outputs": [],
   "source": [
    "set.seed(2)\n",
    "x = matrix(rnorm(20*3*50, mean=0, sd=0.001), ncol=50)\n",
    "x[1:20, 2] = 1\n",
    "x[21:40, 1] = 2\n",
    "x[21:40, 2] = 2\n",
    "x[41:60, 1] = 1"
   ]
  },
  {
   "cell_type": "markdown",
   "metadata": {},
   "source": [
    "##### (b) Perform PCA on the 60 observations and plot the first two principal component score vectors. Use a different color to indicate the observations in each of the three classes. If the three classes appear separated in this plot, then continue on to part (c). If not, then return to part (a) and modify the simulation so that there is greater separation between the three classes. Do not continue to part (c) until the three classes show at least some separation in the first two principal component score vectors."
   ]
  },
  {
   "cell_type": "code",
   "execution_count": 19,
   "metadata": {},
   "outputs": [
    {
     "data": {
      "text/plain": [
       "Importance of components:\n",
       "                         PC1    PC2      PC3      PC4      PC5      PC6\n",
       "Standard deviation     1.008 0.5821 0.001731 0.001673 0.001648 0.001582\n",
       "Proportion of Variance 0.750 0.2499 0.000000 0.000000 0.000000 0.000000\n",
       "Cumulative Proportion  0.750 1.0000 0.999970 0.999970 0.999970 0.999970\n",
       "                            PC7      PC8      PC9     PC10     PC11     PC12\n",
       "Standard deviation     0.001543 0.001497 0.001474 0.001411 0.001393 0.001335\n",
       "Proportion of Variance 0.000000 0.000000 0.000000 0.000000 0.000000 0.000000\n",
       "Cumulative Proportion  0.999980 0.999980 0.999980 0.999980 0.999980 0.999980\n",
       "                           PC13     PC14     PC15     PC16    PC17     PC18\n",
       "Standard deviation     0.001297 0.001257 0.001244 0.001226 0.00116 0.001118\n",
       "Proportion of Variance 0.000000 0.000000 0.000000 0.000000 0.00000 0.000000\n",
       "Cumulative Proportion  0.999980 0.999990 0.999990 0.999990 0.99999 0.999990\n",
       "                           PC19     PC20     PC21      PC22      PC23      PC24\n",
       "Standard deviation     0.001091 0.001021 0.001012 0.0009849 0.0009378 0.0009316\n",
       "Proportion of Variance 0.000000 0.000000 0.000000 0.0000000 0.0000000 0.0000000\n",
       "Cumulative Proportion  0.999990 0.999990 0.999990 0.9999900 0.9999900 0.9999900\n",
       "                            PC25      PC26      PC27     PC28      PC29\n",
       "Standard deviation     0.0009081 0.0008668 0.0008228 0.000801 0.0007486\n",
       "Proportion of Variance 0.0000000 0.0000000 0.0000000 0.000000 0.0000000\n",
       "Cumulative Proportion  0.9999900 1.0000000 1.0000000 1.000000 1.0000000\n",
       "                            PC30      PC31      PC32      PC33      PC34\n",
       "Standard deviation     0.0007124 0.0006966 0.0006733 0.0006323 0.0005909\n",
       "Proportion of Variance 0.0000000 0.0000000 0.0000000 0.0000000 0.0000000\n",
       "Cumulative Proportion  1.0000000 1.0000000 1.0000000 1.0000000 1.0000000\n",
       "                            PC35      PC36      PC37      PC38      PC39\n",
       "Standard deviation     0.0005654 0.0005381 0.0005325 0.0004756 0.0004476\n",
       "Proportion of Variance 0.0000000 0.0000000 0.0000000 0.0000000 0.0000000\n",
       "Cumulative Proportion  1.0000000 1.0000000 1.0000000 1.0000000 1.0000000\n",
       "                            PC40      PC41      PC42      PC43      PC44\n",
       "Standard deviation     0.0004261 0.0003914 0.0003774 0.0003144 0.0002964\n",
       "Proportion of Variance 0.0000000 0.0000000 0.0000000 0.0000000 0.0000000\n",
       "Cumulative Proportion  1.0000000 1.0000000 1.0000000 1.0000000 1.0000000\n",
       "                            PC45      PC46      PC47      PC48     PC49\n",
       "Standard deviation     0.0002732 0.0002495 0.0001915 0.0001466 0.000129\n",
       "Proportion of Variance 0.0000000 0.0000000 0.0000000 0.0000000 0.000000\n",
       "Cumulative Proportion  1.0000000 1.0000000 1.0000000 1.0000000 1.000000\n",
       "                            PC50\n",
       "Standard deviation     7.787e-05\n",
       "Proportion of Variance 0.000e+00\n",
       "Cumulative Proportion  1.000e+00"
      ]
     },
     "metadata": {},
     "output_type": "display_data"
    }
   ],
   "source": [
    "pca.out = prcomp(x)\n",
    "summary(pca.out)"
   ]
  },
  {
   "cell_type": "code",
   "execution_count": 20,
   "metadata": {},
   "outputs": [
    {
     "data": {
      "text/html": [
       "<table>\n",
       "<thead><tr><th scope=col>PC1</th><th scope=col>PC2</th></tr></thead>\n",
       "<tbody>\n",
       "\t<tr><td>-0.7079228   </td><td>-7.076535e-01</td></tr>\n",
       "\t<tr><td>-0.7071573   </td><td>-7.068897e-01</td></tr>\n",
       "\t<tr><td>-0.7061651   </td><td>-7.058937e-01</td></tr>\n",
       "\t<tr><td>-0.7080866   </td><td>-7.078204e-01</td></tr>\n",
       "\t<tr><td>-0.7073449   </td><td>-7.070720e-01</td></tr>\n",
       "\t<tr><td>-0.7071940   </td><td>-7.069282e-01</td></tr>\n",
       "\t<tr><td>-0.7067857   </td><td>-7.065196e-01</td></tr>\n",
       "\t<tr><td>-0.7074565   </td><td>-7.071901e-01</td></tr>\n",
       "\t<tr><td>-0.7058831   </td><td>-7.056148e-01</td></tr>\n",
       "\t<tr><td>-0.7073860   </td><td>-7.071167e-01</td></tr>\n",
       "\t<tr><td>-0.7069927   </td><td>-7.067245e-01</td></tr>\n",
       "\t<tr><td>-0.7065928   </td><td>-7.063271e-01</td></tr>\n",
       "\t<tr><td>-0.7075651   </td><td>-7.072968e-01</td></tr>\n",
       "\t<tr><td>-0.7080215   </td><td>-7.077547e-01</td></tr>\n",
       "\t<tr><td>-0.7060274   </td><td>-7.057605e-01</td></tr>\n",
       "\t<tr><td>-0.7089206   </td><td>-7.086542e-01</td></tr>\n",
       "\t<tr><td>-0.7066636   </td><td>-7.063975e-01</td></tr>\n",
       "\t<tr><td>-0.7072613   </td><td>-7.069955e-01</td></tr>\n",
       "\t<tr><td>-0.7065710   </td><td>-7.063041e-01</td></tr>\n",
       "\t<tr><td>-0.7069825   </td><td>-7.067125e-01</td></tr>\n",
       "\t<tr><td> 1.4140879   </td><td>-7.088995e-05</td></tr>\n",
       "\t<tr><td> 1.4140874   </td><td>-6.893673e-05</td></tr>\n",
       "\t<tr><td> 1.4140878   </td><td>-7.309105e-05</td></tr>\n",
       "\t<tr><td> 1.4140860   </td><td>-6.934807e-05</td></tr>\n",
       "\t<tr><td> 1.4140859   </td><td>-7.045088e-05</td></tr>\n",
       "\t<tr><td> 1.4140878   </td><td>-6.983408e-05</td></tr>\n",
       "\t<tr><td> 1.4140866   </td><td>-7.447988e-05</td></tr>\n",
       "\t<tr><td> 1.4140855   </td><td>-6.910345e-05</td></tr>\n",
       "\t<tr><td> 1.4140863   </td><td>-7.290071e-05</td></tr>\n",
       "\t<tr><td> 1.4140863   </td><td>-7.054766e-05</td></tr>\n",
       "\t<tr><td> 1.4140874   </td><td>-6.989590e-05</td></tr>\n",
       "\t<tr><td> 1.4140872   </td><td>-7.065443e-05</td></tr>\n",
       "\t<tr><td> 1.4140855   </td><td>-7.013529e-05</td></tr>\n",
       "\t<tr><td> 1.4140874   </td><td>-7.005627e-05</td></tr>\n",
       "\t<tr><td> 1.4140877   </td><td>-7.296213e-05</td></tr>\n",
       "\t<tr><td> 1.4140863   </td><td>-6.608230e-05</td></tr>\n",
       "\t<tr><td> 1.4140894   </td><td>-7.285675e-05</td></tr>\n",
       "\t<tr><td> 1.4140867   </td><td>-6.920393e-05</td></tr>\n",
       "\t<tr><td> 1.4140872   </td><td>-6.744255e-05</td></tr>\n",
       "\t<tr><td> 1.4140861   </td><td>-6.949980e-05</td></tr>\n",
       "\t<tr><td>-0.7064221   </td><td> 7.064353e-01</td></tr>\n",
       "\t<tr><td>-0.7069992   </td><td> 7.070155e-01</td></tr>\n",
       "\t<tr><td>-0.7074064   </td><td> 7.074178e-01</td></tr>\n",
       "\t<tr><td>-0.7077105   </td><td> 7.077255e-01</td></tr>\n",
       "\t<tr><td>-0.7077918   </td><td> 7.078046e-01</td></tr>\n",
       "\t<tr><td>-0.7057358   </td><td> 7.057486e-01</td></tr>\n",
       "\t<tr><td>-0.7065186   </td><td> 7.065305e-01</td></tr>\n",
       "\t<tr><td>-0.7057616   </td><td> 7.057767e-01</td></tr>\n",
       "\t<tr><td>-0.7074790   </td><td> 7.074930e-01</td></tr>\n",
       "\t<tr><td>-0.7074294   </td><td> 7.074432e-01</td></tr>\n",
       "\t<tr><td>-0.7079055   </td><td> 7.079200e-01</td></tr>\n",
       "\t<tr><td>-0.7073606   </td><td> 7.073721e-01</td></tr>\n",
       "\t<tr><td>-0.7068480   </td><td> 7.068625e-01</td></tr>\n",
       "\t<tr><td>-0.7062227   </td><td> 7.062363e-01</td></tr>\n",
       "\t<tr><td>-0.7067821   </td><td> 7.067967e-01</td></tr>\n",
       "\t<tr><td>-0.7068591   </td><td> 7.068727e-01</td></tr>\n",
       "\t<tr><td>-0.7063127   </td><td> 7.063250e-01</td></tr>\n",
       "\t<tr><td>-0.7063711   </td><td> 7.063849e-01</td></tr>\n",
       "\t<tr><td>-0.7071057   </td><td> 7.071214e-01</td></tr>\n",
       "\t<tr><td>-0.7077361   </td><td> 7.077523e-01</td></tr>\n",
       "</tbody>\n",
       "</table>\n"
      ],
      "text/latex": [
       "\\begin{tabular}{ll}\n",
       " PC1 & PC2\\\\\n",
       "\\hline\n",
       "\t -0.7079228    & -7.076535e-01\\\\\n",
       "\t -0.7071573    & -7.068897e-01\\\\\n",
       "\t -0.7061651    & -7.058937e-01\\\\\n",
       "\t -0.7080866    & -7.078204e-01\\\\\n",
       "\t -0.7073449    & -7.070720e-01\\\\\n",
       "\t -0.7071940    & -7.069282e-01\\\\\n",
       "\t -0.7067857    & -7.065196e-01\\\\\n",
       "\t -0.7074565    & -7.071901e-01\\\\\n",
       "\t -0.7058831    & -7.056148e-01\\\\\n",
       "\t -0.7073860    & -7.071167e-01\\\\\n",
       "\t -0.7069927    & -7.067245e-01\\\\\n",
       "\t -0.7065928    & -7.063271e-01\\\\\n",
       "\t -0.7075651    & -7.072968e-01\\\\\n",
       "\t -0.7080215    & -7.077547e-01\\\\\n",
       "\t -0.7060274    & -7.057605e-01\\\\\n",
       "\t -0.7089206    & -7.086542e-01\\\\\n",
       "\t -0.7066636    & -7.063975e-01\\\\\n",
       "\t -0.7072613    & -7.069955e-01\\\\\n",
       "\t -0.7065710    & -7.063041e-01\\\\\n",
       "\t -0.7069825    & -7.067125e-01\\\\\n",
       "\t  1.4140879    & -7.088995e-05\\\\\n",
       "\t  1.4140874    & -6.893673e-05\\\\\n",
       "\t  1.4140878    & -7.309105e-05\\\\\n",
       "\t  1.4140860    & -6.934807e-05\\\\\n",
       "\t  1.4140859    & -7.045088e-05\\\\\n",
       "\t  1.4140878    & -6.983408e-05\\\\\n",
       "\t  1.4140866    & -7.447988e-05\\\\\n",
       "\t  1.4140855    & -6.910345e-05\\\\\n",
       "\t  1.4140863    & -7.290071e-05\\\\\n",
       "\t  1.4140863    & -7.054766e-05\\\\\n",
       "\t  1.4140874    & -6.989590e-05\\\\\n",
       "\t  1.4140872    & -7.065443e-05\\\\\n",
       "\t  1.4140855    & -7.013529e-05\\\\\n",
       "\t  1.4140874    & -7.005627e-05\\\\\n",
       "\t  1.4140877    & -7.296213e-05\\\\\n",
       "\t  1.4140863    & -6.608230e-05\\\\\n",
       "\t  1.4140894    & -7.285675e-05\\\\\n",
       "\t  1.4140867    & -6.920393e-05\\\\\n",
       "\t  1.4140872    & -6.744255e-05\\\\\n",
       "\t  1.4140861    & -6.949980e-05\\\\\n",
       "\t -0.7064221    &  7.064353e-01\\\\\n",
       "\t -0.7069992    &  7.070155e-01\\\\\n",
       "\t -0.7074064    &  7.074178e-01\\\\\n",
       "\t -0.7077105    &  7.077255e-01\\\\\n",
       "\t -0.7077918    &  7.078046e-01\\\\\n",
       "\t -0.7057358    &  7.057486e-01\\\\\n",
       "\t -0.7065186    &  7.065305e-01\\\\\n",
       "\t -0.7057616    &  7.057767e-01\\\\\n",
       "\t -0.7074790    &  7.074930e-01\\\\\n",
       "\t -0.7074294    &  7.074432e-01\\\\\n",
       "\t -0.7079055    &  7.079200e-01\\\\\n",
       "\t -0.7073606    &  7.073721e-01\\\\\n",
       "\t -0.7068480    &  7.068625e-01\\\\\n",
       "\t -0.7062227    &  7.062363e-01\\\\\n",
       "\t -0.7067821    &  7.067967e-01\\\\\n",
       "\t -0.7068591    &  7.068727e-01\\\\\n",
       "\t -0.7063127    &  7.063250e-01\\\\\n",
       "\t -0.7063711    &  7.063849e-01\\\\\n",
       "\t -0.7071057    &  7.071214e-01\\\\\n",
       "\t -0.7077361    &  7.077523e-01\\\\\n",
       "\\end{tabular}\n"
      ],
      "text/markdown": [
       "\n",
       "| PC1 | PC2 |\n",
       "|---|---|\n",
       "| -0.7079228    | -7.076535e-01 |\n",
       "| -0.7071573    | -7.068897e-01 |\n",
       "| -0.7061651    | -7.058937e-01 |\n",
       "| -0.7080866    | -7.078204e-01 |\n",
       "| -0.7073449    | -7.070720e-01 |\n",
       "| -0.7071940    | -7.069282e-01 |\n",
       "| -0.7067857    | -7.065196e-01 |\n",
       "| -0.7074565    | -7.071901e-01 |\n",
       "| -0.7058831    | -7.056148e-01 |\n",
       "| -0.7073860    | -7.071167e-01 |\n",
       "| -0.7069927    | -7.067245e-01 |\n",
       "| -0.7065928    | -7.063271e-01 |\n",
       "| -0.7075651    | -7.072968e-01 |\n",
       "| -0.7080215    | -7.077547e-01 |\n",
       "| -0.7060274    | -7.057605e-01 |\n",
       "| -0.7089206    | -7.086542e-01 |\n",
       "| -0.7066636    | -7.063975e-01 |\n",
       "| -0.7072613    | -7.069955e-01 |\n",
       "| -0.7065710    | -7.063041e-01 |\n",
       "| -0.7069825    | -7.067125e-01 |\n",
       "|  1.4140879    | -7.088995e-05 |\n",
       "|  1.4140874    | -6.893673e-05 |\n",
       "|  1.4140878    | -7.309105e-05 |\n",
       "|  1.4140860    | -6.934807e-05 |\n",
       "|  1.4140859    | -7.045088e-05 |\n",
       "|  1.4140878    | -6.983408e-05 |\n",
       "|  1.4140866    | -7.447988e-05 |\n",
       "|  1.4140855    | -6.910345e-05 |\n",
       "|  1.4140863    | -7.290071e-05 |\n",
       "|  1.4140863    | -7.054766e-05 |\n",
       "|  1.4140874    | -6.989590e-05 |\n",
       "|  1.4140872    | -7.065443e-05 |\n",
       "|  1.4140855    | -7.013529e-05 |\n",
       "|  1.4140874    | -7.005627e-05 |\n",
       "|  1.4140877    | -7.296213e-05 |\n",
       "|  1.4140863    | -6.608230e-05 |\n",
       "|  1.4140894    | -7.285675e-05 |\n",
       "|  1.4140867    | -6.920393e-05 |\n",
       "|  1.4140872    | -6.744255e-05 |\n",
       "|  1.4140861    | -6.949980e-05 |\n",
       "| -0.7064221    |  7.064353e-01 |\n",
       "| -0.7069992    |  7.070155e-01 |\n",
       "| -0.7074064    |  7.074178e-01 |\n",
       "| -0.7077105    |  7.077255e-01 |\n",
       "| -0.7077918    |  7.078046e-01 |\n",
       "| -0.7057358    |  7.057486e-01 |\n",
       "| -0.7065186    |  7.065305e-01 |\n",
       "| -0.7057616    |  7.057767e-01 |\n",
       "| -0.7074790    |  7.074930e-01 |\n",
       "| -0.7074294    |  7.074432e-01 |\n",
       "| -0.7079055    |  7.079200e-01 |\n",
       "| -0.7073606    |  7.073721e-01 |\n",
       "| -0.7068480    |  7.068625e-01 |\n",
       "| -0.7062227    |  7.062363e-01 |\n",
       "| -0.7067821    |  7.067967e-01 |\n",
       "| -0.7068591    |  7.068727e-01 |\n",
       "| -0.7063127    |  7.063250e-01 |\n",
       "| -0.7063711    |  7.063849e-01 |\n",
       "| -0.7071057    |  7.071214e-01 |\n",
       "| -0.7077361    |  7.077523e-01 |\n",
       "\n"
      ],
      "text/plain": [
       "      PC1        PC2          \n",
       " [1,] -0.7079228 -7.076535e-01\n",
       " [2,] -0.7071573 -7.068897e-01\n",
       " [3,] -0.7061651 -7.058937e-01\n",
       " [4,] -0.7080866 -7.078204e-01\n",
       " [5,] -0.7073449 -7.070720e-01\n",
       " [6,] -0.7071940 -7.069282e-01\n",
       " [7,] -0.7067857 -7.065196e-01\n",
       " [8,] -0.7074565 -7.071901e-01\n",
       " [9,] -0.7058831 -7.056148e-01\n",
       "[10,] -0.7073860 -7.071167e-01\n",
       "[11,] -0.7069927 -7.067245e-01\n",
       "[12,] -0.7065928 -7.063271e-01\n",
       "[13,] -0.7075651 -7.072968e-01\n",
       "[14,] -0.7080215 -7.077547e-01\n",
       "[15,] -0.7060274 -7.057605e-01\n",
       "[16,] -0.7089206 -7.086542e-01\n",
       "[17,] -0.7066636 -7.063975e-01\n",
       "[18,] -0.7072613 -7.069955e-01\n",
       "[19,] -0.7065710 -7.063041e-01\n",
       "[20,] -0.7069825 -7.067125e-01\n",
       "[21,]  1.4140879 -7.088995e-05\n",
       "[22,]  1.4140874 -6.893673e-05\n",
       "[23,]  1.4140878 -7.309105e-05\n",
       "[24,]  1.4140860 -6.934807e-05\n",
       "[25,]  1.4140859 -7.045088e-05\n",
       "[26,]  1.4140878 -6.983408e-05\n",
       "[27,]  1.4140866 -7.447988e-05\n",
       "[28,]  1.4140855 -6.910345e-05\n",
       "[29,]  1.4140863 -7.290071e-05\n",
       "[30,]  1.4140863 -7.054766e-05\n",
       "[31,]  1.4140874 -6.989590e-05\n",
       "[32,]  1.4140872 -7.065443e-05\n",
       "[33,]  1.4140855 -7.013529e-05\n",
       "[34,]  1.4140874 -7.005627e-05\n",
       "[35,]  1.4140877 -7.296213e-05\n",
       "[36,]  1.4140863 -6.608230e-05\n",
       "[37,]  1.4140894 -7.285675e-05\n",
       "[38,]  1.4140867 -6.920393e-05\n",
       "[39,]  1.4140872 -6.744255e-05\n",
       "[40,]  1.4140861 -6.949980e-05\n",
       "[41,] -0.7064221  7.064353e-01\n",
       "[42,] -0.7069992  7.070155e-01\n",
       "[43,] -0.7074064  7.074178e-01\n",
       "[44,] -0.7077105  7.077255e-01\n",
       "[45,] -0.7077918  7.078046e-01\n",
       "[46,] -0.7057358  7.057486e-01\n",
       "[47,] -0.7065186  7.065305e-01\n",
       "[48,] -0.7057616  7.057767e-01\n",
       "[49,] -0.7074790  7.074930e-01\n",
       "[50,] -0.7074294  7.074432e-01\n",
       "[51,] -0.7079055  7.079200e-01\n",
       "[52,] -0.7073606  7.073721e-01\n",
       "[53,] -0.7068480  7.068625e-01\n",
       "[54,] -0.7062227  7.062363e-01\n",
       "[55,] -0.7067821  7.067967e-01\n",
       "[56,] -0.7068591  7.068727e-01\n",
       "[57,] -0.7063127  7.063250e-01\n",
       "[58,] -0.7063711  7.063849e-01\n",
       "[59,] -0.7071057  7.071214e-01\n",
       "[60,] -0.7077361  7.077523e-01"
      ]
     },
     "metadata": {},
     "output_type": "display_data"
    }
   ],
   "source": [
    "pca.out$x[,1:2]"
   ]
  },
  {
   "cell_type": "code",
   "execution_count": 21,
   "metadata": {},
   "outputs": [
    {
     "data": {
      "image/png": "[encoded data removed]",
      "text/plain": [
       "plot without title"
      ]
     },
     "metadata": {},
     "output_type": "display_data"
    }
   ],
   "source": [
    "plot(pca.out$x[,1:2], col=2:4, xlab=\"Z1\", ylab=\"Z2\", pch=19) "
   ]
  },
  {
   "cell_type": "markdown",
   "metadata": {},
   "source": [
    "##### (c) Perform K-means clustering of the observations with K = 3. How well do the clusters that you obtained in K-means clustering compare to the true class labels?\n",
    "Hint: You can use the table() function in R to compare the true class labels to the class labels obtained by clustering. Be careful how you interpret the results: K-means clustering will arbitrarily number the clusters, so you cannot simply check whether the true class labels and clustering labels are the same."
   ]
  },
  {
   "cell_type": "markdown",
   "metadata": {},
   "source": [
    "Exact match."
   ]
  },
  {
   "cell_type": "code",
   "execution_count": 22,
   "metadata": {},
   "outputs": [
    {
     "data": {
      "text/plain": [
       "   \n",
       "     1  2  3\n",
       "  1  0 20  0\n",
       "  2  0  0 20\n",
       "  3 20  0  0"
      ]
     },
     "metadata": {},
     "output_type": "display_data"
    }
   ],
   "source": [
    "km.out = kmeans(x, 3, nstart=20)\n",
    "table(km.out$cluster, c(rep(1,20), rep(2,20), rep(3,20)))"
   ]
  },
  {
   "cell_type": "markdown",
   "metadata": {},
   "source": [
    "##### (d) Perform K-means clustering with K = 2. Describe your results."
   ]
  },
  {
   "cell_type": "markdown",
   "metadata": {},
   "source": [
    "Previous classes replaced current ones."
   ]
  },
  {
   "cell_type": "code",
   "execution_count": 23,
   "metadata": {},
   "outputs": [
    {
     "data": {
      "text/html": [
       "<ol class=list-inline>\n",
       "\t<li>1</li>\n",
       "\t<li>1</li>\n",
       "\t<li>1</li>\n",
       "\t<li>1</li>\n",
       "\t<li>1</li>\n",
       "\t<li>1</li>\n",
       "\t<li>1</li>\n",
       "\t<li>1</li>\n",
       "\t<li>1</li>\n",
       "\t<li>1</li>\n",
       "\t<li>1</li>\n",
       "\t<li>1</li>\n",
       "\t<li>1</li>\n",
       "\t<li>1</li>\n",
       "\t<li>1</li>\n",
       "\t<li>1</li>\n",
       "\t<li>1</li>\n",
       "\t<li>1</li>\n",
       "\t<li>1</li>\n",
       "\t<li>1</li>\n",
       "\t<li>2</li>\n",
       "\t<li>2</li>\n",
       "\t<li>2</li>\n",
       "\t<li>2</li>\n",
       "\t<li>2</li>\n",
       "\t<li>2</li>\n",
       "\t<li>2</li>\n",
       "\t<li>2</li>\n",
       "\t<li>2</li>\n",
       "\t<li>2</li>\n",
       "\t<li>2</li>\n",
       "\t<li>2</li>\n",
       "\t<li>2</li>\n",
       "\t<li>2</li>\n",
       "\t<li>2</li>\n",
       "\t<li>2</li>\n",
       "\t<li>2</li>\n",
       "\t<li>2</li>\n",
       "\t<li>2</li>\n",
       "\t<li>2</li>\n",
       "\t<li>1</li>\n",
       "\t<li>1</li>\n",
       "\t<li>1</li>\n",
       "\t<li>1</li>\n",
       "\t<li>1</li>\n",
       "\t<li>1</li>\n",
       "\t<li>1</li>\n",
       "\t<li>1</li>\n",
       "\t<li>1</li>\n",
       "\t<li>1</li>\n",
       "\t<li>1</li>\n",
       "\t<li>1</li>\n",
       "\t<li>1</li>\n",
       "\t<li>1</li>\n",
       "\t<li>1</li>\n",
       "\t<li>1</li>\n",
       "\t<li>1</li>\n",
       "\t<li>1</li>\n",
       "\t<li>1</li>\n",
       "\t<li>1</li>\n",
       "</ol>\n"
      ],
      "text/latex": [
       "\\begin{enumerate*}\n",
       "\\item 1\n",
       "\\item 1\n",
       "\\item 1\n",
       "\\item 1\n",
       "\\item 1\n",
       "\\item 1\n",
       "\\item 1\n",
       "\\item 1\n",
       "\\item 1\n",
       "\\item 1\n",
       "\\item 1\n",
       "\\item 1\n",
       "\\item 1\n",
       "\\item 1\n",
       "\\item 1\n",
       "\\item 1\n",
       "\\item 1\n",
       "\\item 1\n",
       "\\item 1\n",
       "\\item 1\n",
       "\\item 2\n",
       "\\item 2\n",
       "\\item 2\n",
       "\\item 2\n",
       "\\item 2\n",
       "\\item 2\n",
       "\\item 2\n",
       "\\item 2\n",
       "\\item 2\n",
       "\\item 2\n",
       "\\item 2\n",
       "\\item 2\n",
       "\\item 2\n",
       "\\item 2\n",
       "\\item 2\n",
       "\\item 2\n",
       "\\item 2\n",
       "\\item 2\n",
       "\\item 2\n",
       "\\item 2\n",
       "\\item 1\n",
       "\\item 1\n",
       "\\item 1\n",
       "\\item 1\n",
       "\\item 1\n",
       "\\item 1\n",
       "\\item 1\n",
       "\\item 1\n",
       "\\item 1\n",
       "\\item 1\n",
       "\\item 1\n",
       "\\item 1\n",
       "\\item 1\n",
       "\\item 1\n",
       "\\item 1\n",
       "\\item 1\n",
       "\\item 1\n",
       "\\item 1\n",
       "\\item 1\n",
       "\\item 1\n",
       "\\end{enumerate*}\n"
      ],
      "text/markdown": [
       "1. 1\n",
       "2. 1\n",
       "3. 1\n",
       "4. 1\n",
       "5. 1\n",
       "6. 1\n",
       "7. 1\n",
       "8. 1\n",
       "9. 1\n",
       "10. 1\n",
       "11. 1\n",
       "12. 1\n",
       "13. 1\n",
       "14. 1\n",
       "15. 1\n",
       "16. 1\n",
       "17. 1\n",
       "18. 1\n",
       "19. 1\n",
       "20. 1\n",
       "21. 2\n",
       "22. 2\n",
       "23. 2\n",
       "24. 2\n",
       "25. 2\n",
       "26. 2\n",
       "27. 2\n",
       "28. 2\n",
       "29. 2\n",
       "30. 2\n",
       "31. 2\n",
       "32. 2\n",
       "33. 2\n",
       "34. 2\n",
       "35. 2\n",
       "36. 2\n",
       "37. 2\n",
       "38. 2\n",
       "39. 2\n",
       "40. 2\n",
       "41. 1\n",
       "42. 1\n",
       "43. 1\n",
       "44. 1\n",
       "45. 1\n",
       "46. 1\n",
       "47. 1\n",
       "48. 1\n",
       "49. 1\n",
       "50. 1\n",
       "51. 1\n",
       "52. 1\n",
       "53. 1\n",
       "54. 1\n",
       "55. 1\n",
       "56. 1\n",
       "57. 1\n",
       "58. 1\n",
       "59. 1\n",
       "60. 1\n",
       "\n",
       "\n"
      ],
      "text/plain": [
       " [1] 1 1 1 1 1 1 1 1 1 1 1 1 1 1 1 1 1 1 1 1 2 2 2 2 2 2 2 2 2 2 2 2 2 2 2 2 2 2\n",
       "[39] 2 2 1 1 1 1 1 1 1 1 1 1 1 1 1 1 1 1 1 1 1 1"
      ]
     },
     "metadata": {},
     "output_type": "display_data"
    }
   ],
   "source": [
    "km.out = kmeans(x, 2, nstart=20)\n",
    "km.out$cluster"
   ]
  },
  {
   "cell_type": "markdown",
   "metadata": {},
   "source": [
    "##### (e) Now perform K-means clustering with K = 4, and describe your results."
   ]
  },
  {
   "cell_type": "markdown",
   "metadata": {},
   "source": [
    "Previous cluster bificates into two groups"
   ]
  },
  {
   "cell_type": "code",
   "execution_count": 24,
   "metadata": {},
   "outputs": [
    {
     "data": {
      "text/html": [
       "<ol class=list-inline>\n",
       "\t<li>1</li>\n",
       "\t<li>1</li>\n",
       "\t<li>1</li>\n",
       "\t<li>1</li>\n",
       "\t<li>1</li>\n",
       "\t<li>2</li>\n",
       "\t<li>1</li>\n",
       "\t<li>2</li>\n",
       "\t<li>1</li>\n",
       "\t<li>1</li>\n",
       "\t<li>2</li>\n",
       "\t<li>2</li>\n",
       "\t<li>2</li>\n",
       "\t<li>2</li>\n",
       "\t<li>1</li>\n",
       "\t<li>2</li>\n",
       "\t<li>1</li>\n",
       "\t<li>2</li>\n",
       "\t<li>2</li>\n",
       "\t<li>1</li>\n",
       "\t<li>3</li>\n",
       "\t<li>3</li>\n",
       "\t<li>3</li>\n",
       "\t<li>3</li>\n",
       "\t<li>3</li>\n",
       "\t<li>3</li>\n",
       "\t<li>3</li>\n",
       "\t<li>3</li>\n",
       "\t<li>3</li>\n",
       "\t<li>3</li>\n",
       "\t<li>3</li>\n",
       "\t<li>3</li>\n",
       "\t<li>3</li>\n",
       "\t<li>3</li>\n",
       "\t<li>3</li>\n",
       "\t<li>3</li>\n",
       "\t<li>3</li>\n",
       "\t<li>3</li>\n",
       "\t<li>3</li>\n",
       "\t<li>3</li>\n",
       "\t<li>4</li>\n",
       "\t<li>4</li>\n",
       "\t<li>4</li>\n",
       "\t<li>4</li>\n",
       "\t<li>4</li>\n",
       "\t<li>4</li>\n",
       "\t<li>4</li>\n",
       "\t<li>4</li>\n",
       "\t<li>4</li>\n",
       "\t<li>4</li>\n",
       "\t<li>4</li>\n",
       "\t<li>4</li>\n",
       "\t<li>4</li>\n",
       "\t<li>4</li>\n",
       "\t<li>4</li>\n",
       "\t<li>4</li>\n",
       "\t<li>4</li>\n",
       "\t<li>4</li>\n",
       "\t<li>4</li>\n",
       "\t<li>4</li>\n",
       "</ol>\n"
      ],
      "text/latex": [
       "\\begin{enumerate*}\n",
       "\\item 1\n",
       "\\item 1\n",
       "\\item 1\n",
       "\\item 1\n",
       "\\item 1\n",
       "\\item 2\n",
       "\\item 1\n",
       "\\item 2\n",
       "\\item 1\n",
       "\\item 1\n",
       "\\item 2\n",
       "\\item 2\n",
       "\\item 2\n",
       "\\item 2\n",
       "\\item 1\n",
       "\\item 2\n",
       "\\item 1\n",
       "\\item 2\n",
       "\\item 2\n",
       "\\item 1\n",
       "\\item 3\n",
       "\\item 3\n",
       "\\item 3\n",
       "\\item 3\n",
       "\\item 3\n",
       "\\item 3\n",
       "\\item 3\n",
       "\\item 3\n",
       "\\item 3\n",
       "\\item 3\n",
       "\\item 3\n",
       "\\item 3\n",
       "\\item 3\n",
       "\\item 3\n",
       "\\item 3\n",
       "\\item 3\n",
       "\\item 3\n",
       "\\item 3\n",
       "\\item 3\n",
       "\\item 3\n",
       "\\item 4\n",
       "\\item 4\n",
       "\\item 4\n",
       "\\item 4\n",
       "\\item 4\n",
       "\\item 4\n",
       "\\item 4\n",
       "\\item 4\n",
       "\\item 4\n",
       "\\item 4\n",
       "\\item 4\n",
       "\\item 4\n",
       "\\item 4\n",
       "\\item 4\n",
       "\\item 4\n",
       "\\item 4\n",
       "\\item 4\n",
       "\\item 4\n",
       "\\item 4\n",
       "\\item 4\n",
       "\\end{enumerate*}\n"
      ],
      "text/markdown": [
       "1. 1\n",
       "2. 1\n",
       "3. 1\n",
       "4. 1\n",
       "5. 1\n",
       "6. 2\n",
       "7. 1\n",
       "8. 2\n",
       "9. 1\n",
       "10. 1\n",
       "11. 2\n",
       "12. 2\n",
       "13. 2\n",
       "14. 2\n",
       "15. 1\n",
       "16. 2\n",
       "17. 1\n",
       "18. 2\n",
       "19. 2\n",
       "20. 1\n",
       "21. 3\n",
       "22. 3\n",
       "23. 3\n",
       "24. 3\n",
       "25. 3\n",
       "26. 3\n",
       "27. 3\n",
       "28. 3\n",
       "29. 3\n",
       "30. 3\n",
       "31. 3\n",
       "32. 3\n",
       "33. 3\n",
       "34. 3\n",
       "35. 3\n",
       "36. 3\n",
       "37. 3\n",
       "38. 3\n",
       "39. 3\n",
       "40. 3\n",
       "41. 4\n",
       "42. 4\n",
       "43. 4\n",
       "44. 4\n",
       "45. 4\n",
       "46. 4\n",
       "47. 4\n",
       "48. 4\n",
       "49. 4\n",
       "50. 4\n",
       "51. 4\n",
       "52. 4\n",
       "53. 4\n",
       "54. 4\n",
       "55. 4\n",
       "56. 4\n",
       "57. 4\n",
       "58. 4\n",
       "59. 4\n",
       "60. 4\n",
       "\n",
       "\n"
      ],
      "text/plain": [
       " [1] 1 1 1 1 1 2 1 2 1 1 2 2 2 2 1 2 1 2 2 1 3 3 3 3 3 3 3 3 3 3 3 3 3 3 3 3 3 3\n",
       "[39] 3 3 4 4 4 4 4 4 4 4 4 4 4 4 4 4 4 4 4 4 4 4"
      ]
     },
     "metadata": {},
     "output_type": "display_data"
    }
   ],
   "source": [
    "km.out = kmeans(x, 4, nstart=20)\n",
    "km.out$cluster"
   ]
  },
  {
   "cell_type": "markdown",
   "metadata": {},
   "source": [
    "##### f) Now perform K-means clustering with K = 3 on the first two principal component score vectors, rather than on the raw data. That is, perform K-means clustering on the 60 × 2 matrix of which the first column is the first principal component score vector, and the second column is the second principal component score vector. Comment on the results"
   ]
  },
  {
   "cell_type": "markdown",
   "metadata": {},
   "source": [
    "Exact match"
   ]
  },
  {
   "cell_type": "code",
   "execution_count": 25,
   "metadata": {},
   "outputs": [
    {
     "data": {
      "text/plain": [
       "   \n",
       "     1  2  3\n",
       "  1  0  0 20\n",
       "  2  0 20  0\n",
       "  3 20  0  0"
      ]
     },
     "metadata": {},
     "output_type": "display_data"
    }
   ],
   "source": [
    "km.out = kmeans(pca.out$x[,1:2], 3, nstart=20)\n",
    "table(km.out$cluster, c(rep(1,20), rep(2,20), rep(3,20)))"
   ]
  },
  {
   "cell_type": "markdown",
   "metadata": {},
   "source": [
    "##### (g) Using the scale() function, perform K-means clustering with K = 3 on the data after scaling each variable to have standard deviation one. How do these results compare to those obtained in (b)? Explain."
   ]
  },
  {
   "cell_type": "markdown",
   "metadata": {},
   "source": [
    "Worse than in b; the observation's scaling effects the distance between them."
   ]
  },
  {
   "cell_type": "code",
   "execution_count": 26,
   "metadata": {},
   "outputs": [
    {
     "data": {
      "text/html": [
       "<ol class=list-inline>\n",
       "\t<li>3</li>\n",
       "\t<li>3</li>\n",
       "\t<li>3</li>\n",
       "\t<li>3</li>\n",
       "\t<li>3</li>\n",
       "\t<li>1</li>\n",
       "\t<li>3</li>\n",
       "\t<li>1</li>\n",
       "\t<li>2</li>\n",
       "\t<li>3</li>\n",
       "\t<li>1</li>\n",
       "\t<li>1</li>\n",
       "\t<li>1</li>\n",
       "\t<li>1</li>\n",
       "\t<li>3</li>\n",
       "\t<li>1</li>\n",
       "\t<li>2</li>\n",
       "\t<li>1</li>\n",
       "\t<li>1</li>\n",
       "\t<li>3</li>\n",
       "\t<li>2</li>\n",
       "\t<li>2</li>\n",
       "\t<li>2</li>\n",
       "\t<li>2</li>\n",
       "\t<li>2</li>\n",
       "\t<li>2</li>\n",
       "\t<li>2</li>\n",
       "\t<li>2</li>\n",
       "\t<li>2</li>\n",
       "\t<li>2</li>\n",
       "\t<li>2</li>\n",
       "\t<li>2</li>\n",
       "\t<li>1</li>\n",
       "\t<li>2</li>\n",
       "\t<li>2</li>\n",
       "\t<li>2</li>\n",
       "\t<li>2</li>\n",
       "\t<li>2</li>\n",
       "\t<li>2</li>\n",
       "\t<li>1</li>\n",
       "\t<li>1</li>\n",
       "\t<li>3</li>\n",
       "\t<li>3</li>\n",
       "\t<li>3</li>\n",
       "\t<li>1</li>\n",
       "\t<li>1</li>\n",
       "\t<li>1</li>\n",
       "\t<li>3</li>\n",
       "\t<li>3</li>\n",
       "\t<li>3</li>\n",
       "\t<li>2</li>\n",
       "\t<li>1</li>\n",
       "\t<li>1</li>\n",
       "\t<li>3</li>\n",
       "\t<li>3</li>\n",
       "\t<li>1</li>\n",
       "\t<li>3</li>\n",
       "\t<li>3</li>\n",
       "\t<li>3</li>\n",
       "\t<li>3</li>\n",
       "</ol>\n"
      ],
      "text/latex": [
       "\\begin{enumerate*}\n",
       "\\item 3\n",
       "\\item 3\n",
       "\\item 3\n",
       "\\item 3\n",
       "\\item 3\n",
       "\\item 1\n",
       "\\item 3\n",
       "\\item 1\n",
       "\\item 2\n",
       "\\item 3\n",
       "\\item 1\n",
       "\\item 1\n",
       "\\item 1\n",
       "\\item 1\n",
       "\\item 3\n",
       "\\item 1\n",
       "\\item 2\n",
       "\\item 1\n",
       "\\item 1\n",
       "\\item 3\n",
       "\\item 2\n",
       "\\item 2\n",
       "\\item 2\n",
       "\\item 2\n",
       "\\item 2\n",
       "\\item 2\n",
       "\\item 2\n",
       "\\item 2\n",
       "\\item 2\n",
       "\\item 2\n",
       "\\item 2\n",
       "\\item 2\n",
       "\\item 1\n",
       "\\item 2\n",
       "\\item 2\n",
       "\\item 2\n",
       "\\item 2\n",
       "\\item 2\n",
       "\\item 2\n",
       "\\item 1\n",
       "\\item 1\n",
       "\\item 3\n",
       "\\item 3\n",
       "\\item 3\n",
       "\\item 1\n",
       "\\item 1\n",
       "\\item 1\n",
       "\\item 3\n",
       "\\item 3\n",
       "\\item 3\n",
       "\\item 2\n",
       "\\item 1\n",
       "\\item 1\n",
       "\\item 3\n",
       "\\item 3\n",
       "\\item 1\n",
       "\\item 3\n",
       "\\item 3\n",
       "\\item 3\n",
       "\\item 3\n",
       "\\end{enumerate*}\n"
      ],
      "text/markdown": [
       "1. 3\n",
       "2. 3\n",
       "3. 3\n",
       "4. 3\n",
       "5. 3\n",
       "6. 1\n",
       "7. 3\n",
       "8. 1\n",
       "9. 2\n",
       "10. 3\n",
       "11. 1\n",
       "12. 1\n",
       "13. 1\n",
       "14. 1\n",
       "15. 3\n",
       "16. 1\n",
       "17. 2\n",
       "18. 1\n",
       "19. 1\n",
       "20. 3\n",
       "21. 2\n",
       "22. 2\n",
       "23. 2\n",
       "24. 2\n",
       "25. 2\n",
       "26. 2\n",
       "27. 2\n",
       "28. 2\n",
       "29. 2\n",
       "30. 2\n",
       "31. 2\n",
       "32. 2\n",
       "33. 1\n",
       "34. 2\n",
       "35. 2\n",
       "36. 2\n",
       "37. 2\n",
       "38. 2\n",
       "39. 2\n",
       "40. 1\n",
       "41. 1\n",
       "42. 3\n",
       "43. 3\n",
       "44. 3\n",
       "45. 1\n",
       "46. 1\n",
       "47. 1\n",
       "48. 3\n",
       "49. 3\n",
       "50. 3\n",
       "51. 2\n",
       "52. 1\n",
       "53. 1\n",
       "54. 3\n",
       "55. 3\n",
       "56. 1\n",
       "57. 3\n",
       "58. 3\n",
       "59. 3\n",
       "60. 3\n",
       "\n",
       "\n"
      ],
      "text/plain": [
       " [1] 3 3 3 3 3 1 3 1 2 3 1 1 1 1 3 1 2 1 1 3 2 2 2 2 2 2 2 2 2 2 2 2 1 2 2 2 2 2\n",
       "[39] 2 1 1 3 3 3 1 1 1 3 3 3 2 1 1 3 3 1 3 3 3 3"
      ]
     },
     "metadata": {},
     "output_type": "display_data"
    }
   ],
   "source": [
    "km.out = kmeans(scale(x), 3, nstart=20)\n",
    "km.out$cluster"
   ]
  }
 ],
 "metadata": {
  "kernelspec": {
   "display_name": "R",
   "language": "R",
   "name": "ir"
  },
  "language_info": {
   "codemirror_mode": "r",
   "file_extension": ".r",
   "mimetype": "text/x-r-source",
   "name": "R",
   "pygments_lexer": "r",
   "version": "3.6.1"
  }
 },
 "nbformat": 4,
 "nbformat_minor": 4
}
